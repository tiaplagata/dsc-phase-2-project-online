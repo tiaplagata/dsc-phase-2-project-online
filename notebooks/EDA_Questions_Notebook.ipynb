{
 "cells": [
  {
   "cell_type": "markdown",
   "metadata": {},
   "source": [
    "## Final Project Submission\n",
    "\n",
    "Please fill out:\n",
    "* Student name: Tia Plagata\n",
    "* Student pace: full time\n",
    "* Scheduled project review date/time: 10/19 10am EST\n",
    "* Instructor name: Rafael Carrasco\n",
    "* Blog post URL:"
   ]
  },
  {
   "cell_type": "markdown",
   "metadata": {},
   "source": [
    "# EDA #\n",
    "**Outline**\n",
    "* Stakeholder(s): Real-estate company working on an app feature that will estimate the price of your home.\n",
    "* Q1: What is the effect of zipcode on home price? \n",
    "* Q2: What is the impact of home and lot square footage on home price? What is the average price per square foot for different zipcodes?\n",
    "* Q3: What is the effect of population density on home price?"
   ]
  },
  {
   "cell_type": "markdown",
   "metadata": {},
   "source": [
    "## Import Data & Explore"
   ]
  },
  {
   "cell_type": "code",
   "execution_count": 1,
   "metadata": {},
   "outputs": [],
   "source": [
    "# Import statements\n",
    "import pandas as pd\n",
    "import numpy as np\n",
    "import matplotlib.pyplot as plt\n",
    "import seaborn as sns\n",
    "sns.set_style(style=\"whitegrid\")\n",
    "palette = \"ch:r=-.2,d=.3_r\"\n",
    "import folium\n",
    "import plotly.express as px"
   ]
  },
  {
   "cell_type": "code",
   "execution_count": 2,
   "metadata": {},
   "outputs": [
    {
     "data": {
      "text/html": [
       "<div>\n",
       "<style scoped>\n",
       "    .dataframe tbody tr th:only-of-type {\n",
       "        vertical-align: middle;\n",
       "    }\n",
       "\n",
       "    .dataframe tbody tr th {\n",
       "        vertical-align: top;\n",
       "    }\n",
       "\n",
       "    .dataframe thead th {\n",
       "        text-align: right;\n",
       "    }\n",
       "</style>\n",
       "<table border=\"1\" class=\"dataframe\">\n",
       "  <thead>\n",
       "    <tr style=\"text-align: right;\">\n",
       "      <th></th>\n",
       "      <th>id</th>\n",
       "      <th>date</th>\n",
       "      <th>price</th>\n",
       "      <th>bedrooms</th>\n",
       "      <th>bathrooms</th>\n",
       "      <th>sqft_living</th>\n",
       "      <th>sqft_lot</th>\n",
       "      <th>floors</th>\n",
       "      <th>waterfront</th>\n",
       "      <th>view</th>\n",
       "      <th>...</th>\n",
       "      <th>grade</th>\n",
       "      <th>sqft_above</th>\n",
       "      <th>sqft_basement</th>\n",
       "      <th>yr_built</th>\n",
       "      <th>yr_renovated</th>\n",
       "      <th>zipcode</th>\n",
       "      <th>lat</th>\n",
       "      <th>long</th>\n",
       "      <th>sqft_living15</th>\n",
       "      <th>sqft_lot15</th>\n",
       "    </tr>\n",
       "  </thead>\n",
       "  <tbody>\n",
       "    <tr>\n",
       "      <th>0</th>\n",
       "      <td>7129300520</td>\n",
       "      <td>2014-10-13</td>\n",
       "      <td>221900.0</td>\n",
       "      <td>3</td>\n",
       "      <td>1.00</td>\n",
       "      <td>1180</td>\n",
       "      <td>5650</td>\n",
       "      <td>1.0</td>\n",
       "      <td>0.0</td>\n",
       "      <td>0.0</td>\n",
       "      <td>...</td>\n",
       "      <td>7</td>\n",
       "      <td>1180</td>\n",
       "      <td>0.0</td>\n",
       "      <td>1955</td>\n",
       "      <td>0.0</td>\n",
       "      <td>98178</td>\n",
       "      <td>47.5112</td>\n",
       "      <td>-122.257</td>\n",
       "      <td>1340</td>\n",
       "      <td>5650</td>\n",
       "    </tr>\n",
       "    <tr>\n",
       "      <th>1</th>\n",
       "      <td>6414100192</td>\n",
       "      <td>2014-12-09</td>\n",
       "      <td>538000.0</td>\n",
       "      <td>3</td>\n",
       "      <td>2.25</td>\n",
       "      <td>2570</td>\n",
       "      <td>7242</td>\n",
       "      <td>2.0</td>\n",
       "      <td>0.0</td>\n",
       "      <td>0.0</td>\n",
       "      <td>...</td>\n",
       "      <td>7</td>\n",
       "      <td>2170</td>\n",
       "      <td>400.0</td>\n",
       "      <td>1951</td>\n",
       "      <td>1991.0</td>\n",
       "      <td>98125</td>\n",
       "      <td>47.7210</td>\n",
       "      <td>-122.319</td>\n",
       "      <td>1690</td>\n",
       "      <td>7639</td>\n",
       "    </tr>\n",
       "    <tr>\n",
       "      <th>2</th>\n",
       "      <td>5631500400</td>\n",
       "      <td>2015-02-25</td>\n",
       "      <td>180000.0</td>\n",
       "      <td>2</td>\n",
       "      <td>1.00</td>\n",
       "      <td>770</td>\n",
       "      <td>10000</td>\n",
       "      <td>1.0</td>\n",
       "      <td>0.0</td>\n",
       "      <td>0.0</td>\n",
       "      <td>...</td>\n",
       "      <td>6</td>\n",
       "      <td>770</td>\n",
       "      <td>0.0</td>\n",
       "      <td>1933</td>\n",
       "      <td>0.0</td>\n",
       "      <td>98028</td>\n",
       "      <td>47.7379</td>\n",
       "      <td>-122.233</td>\n",
       "      <td>2720</td>\n",
       "      <td>8062</td>\n",
       "    </tr>\n",
       "    <tr>\n",
       "      <th>3</th>\n",
       "      <td>2487200875</td>\n",
       "      <td>2014-12-09</td>\n",
       "      <td>604000.0</td>\n",
       "      <td>4</td>\n",
       "      <td>3.00</td>\n",
       "      <td>1960</td>\n",
       "      <td>5000</td>\n",
       "      <td>1.0</td>\n",
       "      <td>0.0</td>\n",
       "      <td>0.0</td>\n",
       "      <td>...</td>\n",
       "      <td>7</td>\n",
       "      <td>1050</td>\n",
       "      <td>910.0</td>\n",
       "      <td>1965</td>\n",
       "      <td>0.0</td>\n",
       "      <td>98136</td>\n",
       "      <td>47.5208</td>\n",
       "      <td>-122.393</td>\n",
       "      <td>1360</td>\n",
       "      <td>5000</td>\n",
       "    </tr>\n",
       "    <tr>\n",
       "      <th>4</th>\n",
       "      <td>1954400510</td>\n",
       "      <td>2015-02-18</td>\n",
       "      <td>510000.0</td>\n",
       "      <td>3</td>\n",
       "      <td>2.00</td>\n",
       "      <td>1680</td>\n",
       "      <td>8080</td>\n",
       "      <td>1.0</td>\n",
       "      <td>0.0</td>\n",
       "      <td>0.0</td>\n",
       "      <td>...</td>\n",
       "      <td>8</td>\n",
       "      <td>1680</td>\n",
       "      <td>0.0</td>\n",
       "      <td>1987</td>\n",
       "      <td>0.0</td>\n",
       "      <td>98074</td>\n",
       "      <td>47.6168</td>\n",
       "      <td>-122.045</td>\n",
       "      <td>1800</td>\n",
       "      <td>7503</td>\n",
       "    </tr>\n",
       "  </tbody>\n",
       "</table>\n",
       "<p>5 rows × 21 columns</p>\n",
       "</div>"
      ],
      "text/plain": [
       "           id        date     price  bedrooms  bathrooms  sqft_living  \\\n",
       "0  7129300520  2014-10-13  221900.0         3       1.00         1180   \n",
       "1  6414100192  2014-12-09  538000.0         3       2.25         2570   \n",
       "2  5631500400  2015-02-25  180000.0         2       1.00          770   \n",
       "3  2487200875  2014-12-09  604000.0         4       3.00         1960   \n",
       "4  1954400510  2015-02-18  510000.0         3       2.00         1680   \n",
       "\n",
       "   sqft_lot  floors  waterfront  view  ...  grade  sqft_above  sqft_basement  \\\n",
       "0      5650     1.0         0.0   0.0  ...      7        1180            0.0   \n",
       "1      7242     2.0         0.0   0.0  ...      7        2170          400.0   \n",
       "2     10000     1.0         0.0   0.0  ...      6         770            0.0   \n",
       "3      5000     1.0         0.0   0.0  ...      7        1050          910.0   \n",
       "4      8080     1.0         0.0   0.0  ...      8        1680            0.0   \n",
       "\n",
       "   yr_built  yr_renovated  zipcode      lat     long  sqft_living15  \\\n",
       "0      1955           0.0    98178  47.5112 -122.257           1340   \n",
       "1      1951        1991.0    98125  47.7210 -122.319           1690   \n",
       "2      1933           0.0    98028  47.7379 -122.233           2720   \n",
       "3      1965           0.0    98136  47.5208 -122.393           1360   \n",
       "4      1987           0.0    98074  47.6168 -122.045           1800   \n",
       "\n",
       "   sqft_lot15  \n",
       "0        5650  \n",
       "1        7639  \n",
       "2        8062  \n",
       "3        5000  \n",
       "4        7503  \n",
       "\n",
       "[5 rows x 21 columns]"
      ]
     },
     "execution_count": 2,
     "metadata": {},
     "output_type": "execute_result"
    }
   ],
   "source": [
    "df = pd.read_csv('/Users/jordanrjohnson/DataScienceCourseMaterial/phase_2/dsc-phase-2-project-online/data/kc_house_data_cleaned.csv')\n",
    "df.head()"
   ]
  },
  {
   "cell_type": "code",
   "execution_count": 3,
   "metadata": {
    "scrolled": true
   },
   "outputs": [
    {
     "data": {
      "text/plain": [
       "9546     2014-05-02\n",
       "8935     2014-05-02\n",
       "12704    2014-05-02\n",
       "9968     2014-05-02\n",
       "10711    2014-05-02\n",
       "            ...    \n",
       "14710    2015-05-14\n",
       "18040    2015-05-14\n",
       "6726     2015-05-14\n",
       "5247     2015-05-15\n",
       "12156    2015-05-24\n",
       "Name: date, Length: 20057, dtype: object"
      ]
     },
     "execution_count": 3,
     "metadata": {},
     "output_type": "execute_result"
    }
   ],
   "source": [
    "df['date'].sort_values()"
   ]
  },
  {
   "cell_type": "code",
   "execution_count": 4,
   "metadata": {},
   "outputs": [
    {
     "data": {
      "text/plain": [
       "1934     19\n",
       "1935     22\n",
       "1933     22\n",
       "1902     24\n",
       "1901     28\n",
       "       ... \n",
       "2006    397\n",
       "2004    399\n",
       "1977    400\n",
       "2005    415\n",
       "2014    491\n",
       "Name: yr_built, Length: 116, dtype: int64"
      ]
     },
     "execution_count": 4,
     "metadata": {},
     "output_type": "execute_result"
    }
   ],
   "source": [
    "df['yr_built'].value_counts().sort_values()"
   ]
  },
  {
   "cell_type": "code",
   "execution_count": 5,
   "metadata": {
    "scrolled": true
   },
   "outputs": [
    {
     "name": "stdout",
     "output_type": "stream",
     "text": [
      "waterfront\n",
      "0.0    20007\n",
      "1.0       50\n",
      "Name: price, dtype: int64\n",
      "waterfront\n",
      "0.0    467899.981656\n",
      "1.0    671667.000000\n",
      "Name: price, dtype: float64\n"
     ]
    }
   ],
   "source": [
    "print(df.groupby('waterfront')['price'].count())\n",
    "print(df.groupby('waterfront')['price'].mean())"
   ]
  },
  {
   "cell_type": "code",
   "execution_count": 6,
   "metadata": {
    "scrolled": false
   },
   "outputs": [
    {
     "name": "stdout",
     "output_type": "stream",
     "text": [
      "condition\n",
      "1       26\n",
      "2      164\n",
      "3    13025\n",
      "4     5326\n",
      "5     1516\n",
      "Name: price, dtype: int64\n",
      "condition\n",
      "1    316613.461538\n",
      "2    315084.689024\n",
      "3    471077.427946\n",
      "4    457666.392227\n",
      "5    502399.564644\n",
      "Name: price, dtype: float64\n"
     ]
    }
   ],
   "source": [
    "print(df.groupby('condition')['price'].count())\n",
    "print(df.groupby('condition')['price'].mean())"
   ]
  },
  {
   "cell_type": "markdown",
   "metadata": {},
   "source": [
    "## Stakeholder(s)\n",
    "\n",
    "### A real-estate company is working on an app feature, which will predict the price of your home in case you are looking to sell it.\n",
    "\n",
    "**Key Stakeholders**\n",
    "* Real-estate company app product manager\n",
    "* Real-estate company board of directors\n",
    "* Marketing department who may want to integrate the feature into their email campaigns or other promotions\n",
    "* App users, such as homeowners currently looking to sell and homeowners interested in selling their home in the near/distant future"
   ]
  },
  {
   "cell_type": "markdown",
   "metadata": {},
   "source": [
    "## Question 1: What is the effect of zipcode on home price? Which zipcode has the highest home prices? Further exploration: is highest-priced zipcode mostly waterfront property?"
   ]
  },
  {
   "cell_type": "code",
   "execution_count": 7,
   "metadata": {},
   "outputs": [
    {
     "name": "stdout",
     "output_type": "stream",
     "text": [
      "70\n"
     ]
    },
    {
     "data": {
      "text/plain": [
       "array([98178, 98125, 98028, 98136, 98074, 98003, 98146, 98038, 98007,\n",
       "       98115, 98107, 98126, 98019, 98103, 98002, 98133, 98092, 98030,\n",
       "       98119, 98112, 98052, 98027, 98117, 98058, 98001, 98056, 98166,\n",
       "       98053, 98023, 98148, 98105, 98042, 98008, 98059, 98122, 98144,\n",
       "       98004, 98034, 98075, 98116, 98010, 98118, 98040, 98032, 98045,\n",
       "       98102, 98077, 98198, 98108, 98168, 98177, 98029, 98006, 98109,\n",
       "       98022, 98033, 98155, 98024, 98011, 98031, 98106, 98070, 98199,\n",
       "       98072, 98188, 98065, 98005, 98014, 98055, 98039])"
      ]
     },
     "execution_count": 7,
     "metadata": {},
     "output_type": "execute_result"
    }
   ],
   "source": [
    "# What are the unique zip codes?\n",
    "print(df['zipcode'].nunique())\n",
    "df['zipcode'].unique()"
   ]
  },
  {
   "cell_type": "code",
   "execution_count": 8,
   "metadata": {},
   "outputs": [
    {
     "data": {
      "image/png": "[encoded data removed]",
      "text/plain": [
       "<Figure size 1080x864 with 1 Axes>"
      ]
     },
     "metadata": {
      "needs_background": "light"
     },
     "output_type": "display_data"
    }
   ],
   "source": [
    "# In which zipcodes are the majority of the homes in our dataset?\n",
    "fig = plt.figure(figsize=(15,12))\n",
    "df.groupby('zipcode')['price'].count().sort_values().plot(kind='bar')\n",
    "plt.ylabel('Number of Homes in Zipcode')\n",
    "plt.title('Homes in Each Zipcode')\n",
    "plt.show()"
   ]
  },
  {
   "cell_type": "code",
   "execution_count": 9,
   "metadata": {},
   "outputs": [],
   "source": [
    "# Let's just look at the top 15 zipcodes with the highest mean home prices\n",
    "highest_price_zipcode = pd.DataFrame(df.groupby('zipcode')['price']\n",
    "                                     .agg('mean')\n",
    "                                     .sort_values(ascending=False)\n",
    "                                     .head(15))\n",
    "highest_price_zipcode = highest_price_zipcode.reset_index()"
   ]
  },
  {
   "cell_type": "code",
   "execution_count": 58,
   "metadata": {},
   "outputs": [
    {
     "data": {
      "image/png": "[encoded data removed]",
      "text/plain": [
       "<Figure size 720x504 with 1 Axes>"
      ]
     },
     "metadata": {
      "needs_background": "light"
     },
     "output_type": "display_data"
    }
   ],
   "source": [
    "# Plot them\n",
    "fig = plt.figure(figsize=(10,7))\n",
    "x = highest_price_zipcode.zipcode\n",
    "y = highest_price_zipcode.price.sort_values()\n",
    "sns.barplot(x=x, y=y, palette=palette)\n",
    "plt.title('Top 15 Highest Mean Home Prices by Zipcode')\n",
    "plt.ylim(0, 950000)\n",
    "plt.ylabel('Mean Home Price')\n",
    "plt.show()"
   ]
  },
  {
   "cell_type": "code",
   "execution_count": 11,
   "metadata": {},
   "outputs": [],
   "source": [
    "# Which zipcodes have homes with lowest mean prices?\n",
    "lowest_price_zipcode = pd.DataFrame(df.groupby('zipcode')['price']\n",
    "                                     .mean()\n",
    "                                     .sort_values(ascending=True)\n",
    "                                     .head(15))\n",
    "lowest_price_zipcode = lowest_price_zipcode.reset_index()"
   ]
  },
  {
   "cell_type": "code",
   "execution_count": 59,
   "metadata": {},
   "outputs": [
    {
     "data": {
      "image/png": "[encoded data removed]",
      "text/plain": [
       "<Figure size 720x504 with 1 Axes>"
      ]
     },
     "metadata": {
      "needs_background": "light"
     },
     "output_type": "display_data"
    }
   ],
   "source": [
    "# Plot them\n",
    "fig = plt.figure(figsize=(10,7))\n",
    "x1 = lowest_price_zipcode.zipcode\n",
    "y1 = lowest_price_zipcode.price.sort_values()\n",
    "sns.barplot(x=x1, y=y1, palette=palette)\n",
    "plt.title('Top 15 Lowest Mean Home Prices by Zipcode')\n",
    "plt.ylim(0, 950000)\n",
    "plt.ylabel('Mean Home Price')\n",
    "plt.show()"
   ]
  },
  {
   "cell_type": "code",
   "execution_count": 13,
   "metadata": {},
   "outputs": [],
   "source": [
    "# Of our top 15 highest mean-price zipcodes, which of them are waterfront?\n",
    "waterfront_zip = df.groupby(['waterfront', 'zipcode']).agg(mean_price =(\"price\",'mean'))\n",
    "waterfront_zip = waterfront_zip.reset_index()"
   ]
  },
  {
   "cell_type": "code",
   "execution_count": 14,
   "metadata": {
    "scrolled": true
   },
   "outputs": [],
   "source": [
    "waterfront_zip = waterfront_zip.loc[waterfront_zip['zipcode'].isin(x)]"
   ]
  },
  {
   "cell_type": "code",
   "execution_count": 15,
   "metadata": {
    "scrolled": true
   },
   "outputs": [
    {
     "data": {
      "image/png": "[encoded data removed]",
      "text/plain": [
       "<Figure size 720x504 with 1 Axes>"
      ]
     },
     "metadata": {
      "needs_background": "light"
     },
     "output_type": "display_data"
    }
   ],
   "source": [
    "# Only 2 of those zipcodes have waterfront homes\n",
    "fig = plt.figure(figsize=(10,7))\n",
    "sns.barplot(x='zipcode', y='mean_price',\n",
    "            data=waterfront_zip,\n",
    "            hue='waterfront',\n",
    "            palette=palette)\n",
    "plt.title('Grouped Mean Home Prices by Zipcode')\n",
    "plt.ylabel('Mean Home Price')\n",
    "plt.show()"
   ]
  },
  {
   "cell_type": "code",
   "execution_count": 16,
   "metadata": {},
   "outputs": [
    {
     "data": {
      "text/html": [
       "<div>\n",
       "<style scoped>\n",
       "    .dataframe tbody tr th:only-of-type {\n",
       "        vertical-align: middle;\n",
       "    }\n",
       "\n",
       "    .dataframe tbody tr th {\n",
       "        vertical-align: top;\n",
       "    }\n",
       "\n",
       "    .dataframe thead th {\n",
       "        text-align: right;\n",
       "    }\n",
       "</style>\n",
       "<table border=\"1\" class=\"dataframe\">\n",
       "  <thead>\n",
       "    <tr style=\"text-align: right;\">\n",
       "      <th></th>\n",
       "      <th>waterfront</th>\n",
       "      <th>zipcode</th>\n",
       "      <th>mean_price</th>\n",
       "    </tr>\n",
       "  </thead>\n",
       "  <tbody>\n",
       "  </tbody>\n",
       "</table>\n",
       "</div>"
      ],
      "text/plain": [
       "Empty DataFrame\n",
       "Columns: [waterfront, zipcode, mean_price]\n",
       "Index: []"
      ]
     },
     "execution_count": 16,
     "metadata": {},
     "output_type": "execute_result"
    }
   ],
   "source": [
    "# Are any of the homes in the lowest-priced zipcodes waterfront?\n",
    "waterfront_zip2 = waterfront_zip.loc[waterfront_zip['zipcode'].isin(x1)]\n",
    "waterfront_zip2\n",
    "# No"
   ]
  },
  {
   "cell_type": "code",
   "execution_count": 17,
   "metadata": {},
   "outputs": [],
   "source": [
    "# Let's look at all waterfront homes and see where the highest mean prices are located\n",
    "waterfront_df = df.loc[df['waterfront'] == 1]"
   ]
  },
  {
   "cell_type": "code",
   "execution_count": 18,
   "metadata": {},
   "outputs": [],
   "source": [
    "waterfront_zipcode = pd.DataFrame(waterfront_df.groupby('zipcode')['price']\n",
    "                                     .mean()\n",
    "                                     .sort_values(ascending=False))\n",
    "waterfront_zipcode = waterfront_zipcode.reset_index()"
   ]
  },
  {
   "cell_type": "code",
   "execution_count": 19,
   "metadata": {
    "scrolled": true
   },
   "outputs": [
    {
     "data": {
      "image/png": "[encoded data removed]",
      "text/plain": [
       "<Figure size 720x504 with 1 Axes>"
      ]
     },
     "metadata": {
      "needs_background": "light"
     },
     "output_type": "display_data"
    }
   ],
   "source": [
    "fig = plt.figure(figsize=(10,7))\n",
    "x2 = waterfront_zipcode.zipcode\n",
    "y2 = waterfront_zipcode.price.sort_values()\n",
    "sns.barplot(x=x2, y=y2, palette=palette)\n",
    "plt.title('Waterfront Mean Home Prices by Zipcode')\n",
    "plt.ylabel('Mean Home Price')\n",
    "plt.show()"
   ]
  },
  {
   "cell_type": "code",
   "execution_count": 50,
   "metadata": {},
   "outputs": [
    {
     "data": {
      "image/png": "[encoded data removed]",
      "text/plain": [
       "<Figure size 720x504 with 1 Axes>"
      ]
     },
     "metadata": {
      "needs_background": "light"
     },
     "output_type": "display_data"
    }
   ],
   "source": [
    "# Distributions of waterfront home prices by zipcode\n",
    "fig = plt.figure(figsize=(10,7))\n",
    "sns.violinplot(x='zipcode', y='price', data=waterfront_df, palette=palette)\n",
    "plt.title('Distributions of Waterfront Home Prices')\n",
    "plt.show()"
   ]
  },
  {
   "cell_type": "code",
   "execution_count": 20,
   "metadata": {
    "scrolled": true
   },
   "outputs": [
    {
     "data": {
      "text/html": [
       "<div style=\"width:100%;\"><div style=\"position:relative;width:100%;height:0;padding-bottom:60%;\"><span style=\"color:#565656\">Make this Notebook Trusted to load map: File -> Trust Notebook</span><iframe src=\"about:blank\" style=\"position:absolute;width:100%;height:100%;left:0;top:0;border:none !important;\" data-html=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 onload=\"this.contentDocument.open();this.contentDocument.write(atob(this.getAttribute('data-html')));this.contentDocument.close();\" allowfullscreen webkitallowfullscreen mozallowfullscreen></iframe></div></div>"
      ],
      "text/plain": [
       "<folium.folium.Map at 0x1a21af7f98>"
      ]
     },
     "execution_count": 20,
     "metadata": {},
     "output_type": "execute_result"
    }
   ],
   "source": [
    "# Let's map the waterfront homes!\n",
    "# Seattle latitude and longitude values\n",
    "latitude = 47.50\n",
    "longitude = -122.33\n",
    "# create map and display it\n",
    "seattle_map = folium.Map(location=[latitude, longitude])\n",
    "\n",
    "# Display waterfront homes\n",
    "# Create feature group\n",
    "waterfront_homes = folium.map.FeatureGroup()\n",
    "\n",
    "#loop through the homes and add each to the feature group\n",
    "for lat, lng, in zip(waterfront_df.lat, waterfront_df.long):\n",
    "    waterfront_homes.add_child(\n",
    "    folium.features.Marker(\n",
    "    [lat, lng],\n",
    "    radius=5,\n",
    "    fill=True,\n",
    "    fill_opacity=0.6))\n",
    "     \n",
    "# add pop-up text to each marker on the map\n",
    "latitudes = list(waterfront_df.lat)\n",
    "longitudes = list(waterfront_df.long)\n",
    "labels = list(waterfront_df.zipcode)\n",
    "\n",
    "for lat, lng, label in zip(latitudes, longitudes, labels):\n",
    "    folium.Marker([lat, lng], popup=label).add_to(seattle_map)\n",
    "\n",
    "# add homes to map\n",
    "seattle_map.add_child(waterfront_homes)\n",
    "     \n",
    "seattle_map"
   ]
  },
  {
   "cell_type": "markdown",
   "metadata": {},
   "source": [
    "## Question 1 Conclusion:\n",
    "\n",
    "The top 3 zipcodes with the highest mean home prices are: 98039, 98040 and 98006. The top 15 are plotted, and interestingly, only 2 of these zipcodes contain waterfront homes: 98006 and 98074. Looking solely at waterfront homes, the mean home prices are all over $500K. \n",
    "\n",
    "In contrast, the zipcodes with the lowest mean home prices are 98002, 98168 and 98032. The bottom 15 are plotted, and none of those zipcodes contain waterfront homes. \n",
    "\n",
    "We can conclude that waterfront homes are generally more expensive homes, but not all of the highest-priced neighborhoods contain waterfront homes. This brings up the question of which features are causing those home prices to be so high."
   ]
  },
  {
   "cell_type": "markdown",
   "metadata": {},
   "source": [
    "## Question 2: What is the impact of home and lot square footage on home price? What is the price per square foot for different zipcodes?"
   ]
  },
  {
   "cell_type": "code",
   "execution_count": 21,
   "metadata": {},
   "outputs": [
    {
     "data": {
      "text/html": [
       "<div>\n",
       "<style scoped>\n",
       "    .dataframe tbody tr th:only-of-type {\n",
       "        vertical-align: middle;\n",
       "    }\n",
       "\n",
       "    .dataframe tbody tr th {\n",
       "        vertical-align: top;\n",
       "    }\n",
       "\n",
       "    .dataframe thead th {\n",
       "        text-align: right;\n",
       "    }\n",
       "</style>\n",
       "<table border=\"1\" class=\"dataframe\">\n",
       "  <thead>\n",
       "    <tr style=\"text-align: right;\">\n",
       "      <th></th>\n",
       "      <th>id</th>\n",
       "      <th>date</th>\n",
       "      <th>price</th>\n",
       "      <th>bedrooms</th>\n",
       "      <th>bathrooms</th>\n",
       "      <th>sqft_living</th>\n",
       "      <th>sqft_lot</th>\n",
       "      <th>floors</th>\n",
       "      <th>waterfront</th>\n",
       "      <th>view</th>\n",
       "      <th>...</th>\n",
       "      <th>grade</th>\n",
       "      <th>sqft_above</th>\n",
       "      <th>sqft_basement</th>\n",
       "      <th>yr_built</th>\n",
       "      <th>yr_renovated</th>\n",
       "      <th>zipcode</th>\n",
       "      <th>lat</th>\n",
       "      <th>long</th>\n",
       "      <th>sqft_living15</th>\n",
       "      <th>sqft_lot15</th>\n",
       "    </tr>\n",
       "  </thead>\n",
       "  <tbody>\n",
       "    <tr>\n",
       "      <th>0</th>\n",
       "      <td>7129300520</td>\n",
       "      <td>2014-10-13</td>\n",
       "      <td>221900.0</td>\n",
       "      <td>3</td>\n",
       "      <td>1.00</td>\n",
       "      <td>1180</td>\n",
       "      <td>5650</td>\n",
       "      <td>1.0</td>\n",
       "      <td>0.0</td>\n",
       "      <td>0.0</td>\n",
       "      <td>...</td>\n",
       "      <td>7</td>\n",
       "      <td>1180</td>\n",
       "      <td>0.0</td>\n",
       "      <td>1955</td>\n",
       "      <td>0.0</td>\n",
       "      <td>98178</td>\n",
       "      <td>47.5112</td>\n",
       "      <td>-122.257</td>\n",
       "      <td>1340</td>\n",
       "      <td>5650</td>\n",
       "    </tr>\n",
       "    <tr>\n",
       "      <th>1</th>\n",
       "      <td>6414100192</td>\n",
       "      <td>2014-12-09</td>\n",
       "      <td>538000.0</td>\n",
       "      <td>3</td>\n",
       "      <td>2.25</td>\n",
       "      <td>2570</td>\n",
       "      <td>7242</td>\n",
       "      <td>2.0</td>\n",
       "      <td>0.0</td>\n",
       "      <td>0.0</td>\n",
       "      <td>...</td>\n",
       "      <td>7</td>\n",
       "      <td>2170</td>\n",
       "      <td>400.0</td>\n",
       "      <td>1951</td>\n",
       "      <td>1991.0</td>\n",
       "      <td>98125</td>\n",
       "      <td>47.7210</td>\n",
       "      <td>-122.319</td>\n",
       "      <td>1690</td>\n",
       "      <td>7639</td>\n",
       "    </tr>\n",
       "    <tr>\n",
       "      <th>2</th>\n",
       "      <td>5631500400</td>\n",
       "      <td>2015-02-25</td>\n",
       "      <td>180000.0</td>\n",
       "      <td>2</td>\n",
       "      <td>1.00</td>\n",
       "      <td>770</td>\n",
       "      <td>10000</td>\n",
       "      <td>1.0</td>\n",
       "      <td>0.0</td>\n",
       "      <td>0.0</td>\n",
       "      <td>...</td>\n",
       "      <td>6</td>\n",
       "      <td>770</td>\n",
       "      <td>0.0</td>\n",
       "      <td>1933</td>\n",
       "      <td>0.0</td>\n",
       "      <td>98028</td>\n",
       "      <td>47.7379</td>\n",
       "      <td>-122.233</td>\n",
       "      <td>2720</td>\n",
       "      <td>8062</td>\n",
       "    </tr>\n",
       "    <tr>\n",
       "      <th>3</th>\n",
       "      <td>2487200875</td>\n",
       "      <td>2014-12-09</td>\n",
       "      <td>604000.0</td>\n",
       "      <td>4</td>\n",
       "      <td>3.00</td>\n",
       "      <td>1960</td>\n",
       "      <td>5000</td>\n",
       "      <td>1.0</td>\n",
       "      <td>0.0</td>\n",
       "      <td>0.0</td>\n",
       "      <td>...</td>\n",
       "      <td>7</td>\n",
       "      <td>1050</td>\n",
       "      <td>910.0</td>\n",
       "      <td>1965</td>\n",
       "      <td>0.0</td>\n",
       "      <td>98136</td>\n",
       "      <td>47.5208</td>\n",
       "      <td>-122.393</td>\n",
       "      <td>1360</td>\n",
       "      <td>5000</td>\n",
       "    </tr>\n",
       "    <tr>\n",
       "      <th>4</th>\n",
       "      <td>1954400510</td>\n",
       "      <td>2015-02-18</td>\n",
       "      <td>510000.0</td>\n",
       "      <td>3</td>\n",
       "      <td>2.00</td>\n",
       "      <td>1680</td>\n",
       "      <td>8080</td>\n",
       "      <td>1.0</td>\n",
       "      <td>0.0</td>\n",
       "      <td>0.0</td>\n",
       "      <td>...</td>\n",
       "      <td>8</td>\n",
       "      <td>1680</td>\n",
       "      <td>0.0</td>\n",
       "      <td>1987</td>\n",
       "      <td>0.0</td>\n",
       "      <td>98074</td>\n",
       "      <td>47.6168</td>\n",
       "      <td>-122.045</td>\n",
       "      <td>1800</td>\n",
       "      <td>7503</td>\n",
       "    </tr>\n",
       "    <tr>\n",
       "      <th>5</th>\n",
       "      <td>1321400060</td>\n",
       "      <td>2014-06-27</td>\n",
       "      <td>257500.0</td>\n",
       "      <td>3</td>\n",
       "      <td>2.25</td>\n",
       "      <td>1715</td>\n",
       "      <td>6819</td>\n",
       "      <td>2.0</td>\n",
       "      <td>0.0</td>\n",
       "      <td>0.0</td>\n",
       "      <td>...</td>\n",
       "      <td>7</td>\n",
       "      <td>1715</td>\n",
       "      <td>0.0</td>\n",
       "      <td>1995</td>\n",
       "      <td>0.0</td>\n",
       "      <td>98003</td>\n",
       "      <td>47.3097</td>\n",
       "      <td>-122.327</td>\n",
       "      <td>2238</td>\n",
       "      <td>6819</td>\n",
       "    </tr>\n",
       "    <tr>\n",
       "      <th>6</th>\n",
       "      <td>2414600126</td>\n",
       "      <td>2015-04-15</td>\n",
       "      <td>229500.0</td>\n",
       "      <td>3</td>\n",
       "      <td>1.00</td>\n",
       "      <td>1780</td>\n",
       "      <td>7470</td>\n",
       "      <td>1.0</td>\n",
       "      <td>0.0</td>\n",
       "      <td>0.0</td>\n",
       "      <td>...</td>\n",
       "      <td>7</td>\n",
       "      <td>1050</td>\n",
       "      <td>730.0</td>\n",
       "      <td>1960</td>\n",
       "      <td>0.0</td>\n",
       "      <td>98146</td>\n",
       "      <td>47.5123</td>\n",
       "      <td>-122.337</td>\n",
       "      <td>1780</td>\n",
       "      <td>8113</td>\n",
       "    </tr>\n",
       "    <tr>\n",
       "      <th>7</th>\n",
       "      <td>3793500160</td>\n",
       "      <td>2015-03-12</td>\n",
       "      <td>323000.0</td>\n",
       "      <td>3</td>\n",
       "      <td>2.50</td>\n",
       "      <td>1890</td>\n",
       "      <td>6560</td>\n",
       "      <td>2.0</td>\n",
       "      <td>0.0</td>\n",
       "      <td>0.0</td>\n",
       "      <td>...</td>\n",
       "      <td>7</td>\n",
       "      <td>1890</td>\n",
       "      <td>0.0</td>\n",
       "      <td>2003</td>\n",
       "      <td>0.0</td>\n",
       "      <td>98038</td>\n",
       "      <td>47.3684</td>\n",
       "      <td>-122.031</td>\n",
       "      <td>2390</td>\n",
       "      <td>7570</td>\n",
       "    </tr>\n",
       "    <tr>\n",
       "      <th>8</th>\n",
       "      <td>1736800520</td>\n",
       "      <td>2015-04-03</td>\n",
       "      <td>662500.0</td>\n",
       "      <td>3</td>\n",
       "      <td>2.50</td>\n",
       "      <td>3560</td>\n",
       "      <td>9796</td>\n",
       "      <td>1.0</td>\n",
       "      <td>0.0</td>\n",
       "      <td>0.0</td>\n",
       "      <td>...</td>\n",
       "      <td>8</td>\n",
       "      <td>1860</td>\n",
       "      <td>1700.0</td>\n",
       "      <td>1965</td>\n",
       "      <td>0.0</td>\n",
       "      <td>98007</td>\n",
       "      <td>47.6007</td>\n",
       "      <td>-122.145</td>\n",
       "      <td>2210</td>\n",
       "      <td>8925</td>\n",
       "    </tr>\n",
       "    <tr>\n",
       "      <th>9</th>\n",
       "      <td>9212900260</td>\n",
       "      <td>2014-05-27</td>\n",
       "      <td>468000.0</td>\n",
       "      <td>2</td>\n",
       "      <td>1.00</td>\n",
       "      <td>1160</td>\n",
       "      <td>6000</td>\n",
       "      <td>1.0</td>\n",
       "      <td>0.0</td>\n",
       "      <td>0.0</td>\n",
       "      <td>...</td>\n",
       "      <td>7</td>\n",
       "      <td>860</td>\n",
       "      <td>300.0</td>\n",
       "      <td>1942</td>\n",
       "      <td>0.0</td>\n",
       "      <td>98115</td>\n",
       "      <td>47.6900</td>\n",
       "      <td>-122.292</td>\n",
       "      <td>1330</td>\n",
       "      <td>6000</td>\n",
       "    </tr>\n",
       "  </tbody>\n",
       "</table>\n",
       "<p>10 rows × 21 columns</p>\n",
       "</div>"
      ],
      "text/plain": [
       "           id        date     price  bedrooms  bathrooms  sqft_living  \\\n",
       "0  7129300520  2014-10-13  221900.0         3       1.00         1180   \n",
       "1  6414100192  2014-12-09  538000.0         3       2.25         2570   \n",
       "2  5631500400  2015-02-25  180000.0         2       1.00          770   \n",
       "3  2487200875  2014-12-09  604000.0         4       3.00         1960   \n",
       "4  1954400510  2015-02-18  510000.0         3       2.00         1680   \n",
       "5  1321400060  2014-06-27  257500.0         3       2.25         1715   \n",
       "6  2414600126  2015-04-15  229500.0         3       1.00         1780   \n",
       "7  3793500160  2015-03-12  323000.0         3       2.50         1890   \n",
       "8  1736800520  2015-04-03  662500.0         3       2.50         3560   \n",
       "9  9212900260  2014-05-27  468000.0         2       1.00         1160   \n",
       "\n",
       "   sqft_lot  floors  waterfront  view  ...  grade  sqft_above  sqft_basement  \\\n",
       "0      5650     1.0         0.0   0.0  ...      7        1180            0.0   \n",
       "1      7242     2.0         0.0   0.0  ...      7        2170          400.0   \n",
       "2     10000     1.0         0.0   0.0  ...      6         770            0.0   \n",
       "3      5000     1.0         0.0   0.0  ...      7        1050          910.0   \n",
       "4      8080     1.0         0.0   0.0  ...      8        1680            0.0   \n",
       "5      6819     2.0         0.0   0.0  ...      7        1715            0.0   \n",
       "6      7470     1.0         0.0   0.0  ...      7        1050          730.0   \n",
       "7      6560     2.0         0.0   0.0  ...      7        1890            0.0   \n",
       "8      9796     1.0         0.0   0.0  ...      8        1860         1700.0   \n",
       "9      6000     1.0         0.0   0.0  ...      7         860          300.0   \n",
       "\n",
       "   yr_built  yr_renovated  zipcode      lat     long  sqft_living15  \\\n",
       "0      1955           0.0    98178  47.5112 -122.257           1340   \n",
       "1      1951        1991.0    98125  47.7210 -122.319           1690   \n",
       "2      1933           0.0    98028  47.7379 -122.233           2720   \n",
       "3      1965           0.0    98136  47.5208 -122.393           1360   \n",
       "4      1987           0.0    98074  47.6168 -122.045           1800   \n",
       "5      1995           0.0    98003  47.3097 -122.327           2238   \n",
       "6      1960           0.0    98146  47.5123 -122.337           1780   \n",
       "7      2003           0.0    98038  47.3684 -122.031           2390   \n",
       "8      1965           0.0    98007  47.6007 -122.145           2210   \n",
       "9      1942           0.0    98115  47.6900 -122.292           1330   \n",
       "\n",
       "   sqft_lot15  \n",
       "0        5650  \n",
       "1        7639  \n",
       "2        8062  \n",
       "3        5000  \n",
       "4        7503  \n",
       "5        6819  \n",
       "6        8113  \n",
       "7        7570  \n",
       "8        8925  \n",
       "9        6000  \n",
       "\n",
       "[10 rows x 21 columns]"
      ]
     },
     "execution_count": 21,
     "metadata": {},
     "output_type": "execute_result"
    }
   ],
   "source": [
    "df.head(10)"
   ]
  },
  {
   "cell_type": "code",
   "execution_count": 22,
   "metadata": {},
   "outputs": [
    {
     "name": "stdout",
     "output_type": "stream",
     "text": [
      "Living Sqft:Price Correlation: [0.60309848 1.        ]\n",
      "Lot Sqft:Price Correlation: [0.09406745 1.        ]\n",
      "Living Square Footage has a larger effect on price.\n"
     ]
    }
   ],
   "source": [
    "# Which affects the price more? Lot or home square footage?\n",
    "livingsqft_corr = np.corrcoef(df['sqft_living'], df['price'])\n",
    "lotsqft_corr = np.corrcoef(df['sqft_lot'], df['price'])\n",
    "print('Living Sqft:Price Correlation:', livingsqft_corr[1])\n",
    "print('Lot Sqft:Price Correlation:', lotsqft_corr[1])\n",
    "print('Living Square Footage has a larger effect on price.')"
   ]
  },
  {
   "cell_type": "code",
   "execution_count": 23,
   "metadata": {},
   "outputs": [
    {
     "data": {
      "text/html": [
       "<div>\n",
       "<style scoped>\n",
       "    .dataframe tbody tr th:only-of-type {\n",
       "        vertical-align: middle;\n",
       "    }\n",
       "\n",
       "    .dataframe tbody tr th {\n",
       "        vertical-align: top;\n",
       "    }\n",
       "\n",
       "    .dataframe thead th {\n",
       "        text-align: right;\n",
       "    }\n",
       "</style>\n",
       "<table border=\"1\" class=\"dataframe\">\n",
       "  <thead>\n",
       "    <tr style=\"text-align: right;\">\n",
       "      <th></th>\n",
       "      <th>id</th>\n",
       "      <th>date</th>\n",
       "      <th>price</th>\n",
       "      <th>bedrooms</th>\n",
       "      <th>bathrooms</th>\n",
       "      <th>sqft_living</th>\n",
       "      <th>sqft_lot</th>\n",
       "      <th>floors</th>\n",
       "      <th>waterfront</th>\n",
       "      <th>view</th>\n",
       "      <th>...</th>\n",
       "      <th>sqft_basement</th>\n",
       "      <th>yr_built</th>\n",
       "      <th>yr_renovated</th>\n",
       "      <th>zipcode</th>\n",
       "      <th>lat</th>\n",
       "      <th>long</th>\n",
       "      <th>sqft_living15</th>\n",
       "      <th>sqft_lot15</th>\n",
       "      <th>price_per_lotsqft</th>\n",
       "      <th>price_per_livingsqft</th>\n",
       "    </tr>\n",
       "  </thead>\n",
       "  <tbody>\n",
       "    <tr>\n",
       "      <th>0</th>\n",
       "      <td>7129300520</td>\n",
       "      <td>2014-10-13</td>\n",
       "      <td>221900.0</td>\n",
       "      <td>3</td>\n",
       "      <td>1.00</td>\n",
       "      <td>1180</td>\n",
       "      <td>5650</td>\n",
       "      <td>1.0</td>\n",
       "      <td>0.0</td>\n",
       "      <td>0.0</td>\n",
       "      <td>...</td>\n",
       "      <td>0.0</td>\n",
       "      <td>1955</td>\n",
       "      <td>0.0</td>\n",
       "      <td>98178</td>\n",
       "      <td>47.5112</td>\n",
       "      <td>-122.257</td>\n",
       "      <td>1340</td>\n",
       "      <td>5650</td>\n",
       "      <td>39.274336</td>\n",
       "      <td>188.050847</td>\n",
       "    </tr>\n",
       "    <tr>\n",
       "      <th>1</th>\n",
       "      <td>6414100192</td>\n",
       "      <td>2014-12-09</td>\n",
       "      <td>538000.0</td>\n",
       "      <td>3</td>\n",
       "      <td>2.25</td>\n",
       "      <td>2570</td>\n",
       "      <td>7242</td>\n",
       "      <td>2.0</td>\n",
       "      <td>0.0</td>\n",
       "      <td>0.0</td>\n",
       "      <td>...</td>\n",
       "      <td>400.0</td>\n",
       "      <td>1951</td>\n",
       "      <td>1991.0</td>\n",
       "      <td>98125</td>\n",
       "      <td>47.7210</td>\n",
       "      <td>-122.319</td>\n",
       "      <td>1690</td>\n",
       "      <td>7639</td>\n",
       "      <td>74.288870</td>\n",
       "      <td>209.338521</td>\n",
       "    </tr>\n",
       "    <tr>\n",
       "      <th>2</th>\n",
       "      <td>5631500400</td>\n",
       "      <td>2015-02-25</td>\n",
       "      <td>180000.0</td>\n",
       "      <td>2</td>\n",
       "      <td>1.00</td>\n",
       "      <td>770</td>\n",
       "      <td>10000</td>\n",
       "      <td>1.0</td>\n",
       "      <td>0.0</td>\n",
       "      <td>0.0</td>\n",
       "      <td>...</td>\n",
       "      <td>0.0</td>\n",
       "      <td>1933</td>\n",
       "      <td>0.0</td>\n",
       "      <td>98028</td>\n",
       "      <td>47.7379</td>\n",
       "      <td>-122.233</td>\n",
       "      <td>2720</td>\n",
       "      <td>8062</td>\n",
       "      <td>18.000000</td>\n",
       "      <td>233.766234</td>\n",
       "    </tr>\n",
       "    <tr>\n",
       "      <th>3</th>\n",
       "      <td>2487200875</td>\n",
       "      <td>2014-12-09</td>\n",
       "      <td>604000.0</td>\n",
       "      <td>4</td>\n",
       "      <td>3.00</td>\n",
       "      <td>1960</td>\n",
       "      <td>5000</td>\n",
       "      <td>1.0</td>\n",
       "      <td>0.0</td>\n",
       "      <td>0.0</td>\n",
       "      <td>...</td>\n",
       "      <td>910.0</td>\n",
       "      <td>1965</td>\n",
       "      <td>0.0</td>\n",
       "      <td>98136</td>\n",
       "      <td>47.5208</td>\n",
       "      <td>-122.393</td>\n",
       "      <td>1360</td>\n",
       "      <td>5000</td>\n",
       "      <td>120.800000</td>\n",
       "      <td>308.163265</td>\n",
       "    </tr>\n",
       "    <tr>\n",
       "      <th>4</th>\n",
       "      <td>1954400510</td>\n",
       "      <td>2015-02-18</td>\n",
       "      <td>510000.0</td>\n",
       "      <td>3</td>\n",
       "      <td>2.00</td>\n",
       "      <td>1680</td>\n",
       "      <td>8080</td>\n",
       "      <td>1.0</td>\n",
       "      <td>0.0</td>\n",
       "      <td>0.0</td>\n",
       "      <td>...</td>\n",
       "      <td>0.0</td>\n",
       "      <td>1987</td>\n",
       "      <td>0.0</td>\n",
       "      <td>98074</td>\n",
       "      <td>47.6168</td>\n",
       "      <td>-122.045</td>\n",
       "      <td>1800</td>\n",
       "      <td>7503</td>\n",
       "      <td>63.118812</td>\n",
       "      <td>303.571429</td>\n",
       "    </tr>\n",
       "  </tbody>\n",
       "</table>\n",
       "<p>5 rows × 23 columns</p>\n",
       "</div>"
      ],
      "text/plain": [
       "           id        date     price  bedrooms  bathrooms  sqft_living  \\\n",
       "0  7129300520  2014-10-13  221900.0         3       1.00         1180   \n",
       "1  6414100192  2014-12-09  538000.0         3       2.25         2570   \n",
       "2  5631500400  2015-02-25  180000.0         2       1.00          770   \n",
       "3  2487200875  2014-12-09  604000.0         4       3.00         1960   \n",
       "4  1954400510  2015-02-18  510000.0         3       2.00         1680   \n",
       "\n",
       "   sqft_lot  floors  waterfront  view  ...  sqft_basement  yr_built  \\\n",
       "0      5650     1.0         0.0   0.0  ...            0.0      1955   \n",
       "1      7242     2.0         0.0   0.0  ...          400.0      1951   \n",
       "2     10000     1.0         0.0   0.0  ...            0.0      1933   \n",
       "3      5000     1.0         0.0   0.0  ...          910.0      1965   \n",
       "4      8080     1.0         0.0   0.0  ...            0.0      1987   \n",
       "\n",
       "   yr_renovated  zipcode      lat     long  sqft_living15  sqft_lot15  \\\n",
       "0           0.0    98178  47.5112 -122.257           1340        5650   \n",
       "1        1991.0    98125  47.7210 -122.319           1690        7639   \n",
       "2           0.0    98028  47.7379 -122.233           2720        8062   \n",
       "3           0.0    98136  47.5208 -122.393           1360        5000   \n",
       "4           0.0    98074  47.6168 -122.045           1800        7503   \n",
       "\n",
       "   price_per_lotsqft  price_per_livingsqft  \n",
       "0          39.274336            188.050847  \n",
       "1          74.288870            209.338521  \n",
       "2          18.000000            233.766234  \n",
       "3         120.800000            308.163265  \n",
       "4          63.118812            303.571429  \n",
       "\n",
       "[5 rows x 23 columns]"
      ]
     },
     "execution_count": 23,
     "metadata": {},
     "output_type": "execute_result"
    }
   ],
   "source": [
    "# New column price per lot sq ft\n",
    "df['price_per_lotsqft'] = df['price'] / df['sqft_lot']\n",
    "\n",
    "df['price_per_livingsqft'] = df['price'] / df['sqft_living']\n",
    "df.head()"
   ]
  },
  {
   "cell_type": "code",
   "execution_count": 24,
   "metadata": {},
   "outputs": [
    {
     "name": "stdout",
     "output_type": "stream",
     "text": [
      "    zipcode  price_per_lotsqft\n",
      "41    98102         319.074025\n",
      "53    98119         272.944156\n",
      "47    98109         260.680057\n",
      "48    98112         245.741679\n",
      "45    98107         241.440997\n",
      "54    98122         229.077825\n",
      "42    98103         218.882618\n",
      "43    98105         184.945089\n",
      "59    98144         180.010812\n",
      "69    98199         164.265497\n",
      "    zipcode  price_per_livingsqft\n",
      "24    98039            616.082000\n",
      "3     98004            445.842495\n",
      "47    98109            421.839114\n",
      "41    98102            413.479667\n",
      "53    98119            412.241082\n",
      "48    98112            400.215632\n",
      "43    98105            388.128961\n",
      "45    98107            380.959081\n",
      "42    98103            368.870253\n",
      "69    98199            366.300448\n"
     ]
    }
   ],
   "source": [
    "# Let's see the sq ft price of lots & living in each zipcode\n",
    "df_sq_ft_price = df.groupby('zipcode')['price_per_lotsqft'].mean()\n",
    "df_livsq_ft_price = df.groupby('zipcode')['price_per_livingsqft'].mean()\n",
    "\n",
    "# Reset index and sort values from highest price to lowest\n",
    "df_sq_ft_price = df_sq_ft_price.reset_index()\n",
    "df_sq_ft_price = df_sq_ft_price.sort_values(by='price_per_lotsqft', ascending=False)\n",
    "\n",
    "df_livsq_ft_price = df_livsq_ft_price.reset_index()\n",
    "df_livsq_ft_price = df_livsq_ft_price.sort_values(by='price_per_livingsqft', ascending=False)\n",
    "\n",
    "# Just see top 10 and bottom 10 zips\n",
    "top_df_sq_ft_price = df_sq_ft_price.head(10)\n",
    "bottom_df_sq_ft_price = df_sq_ft_price.tail(10)\n",
    "\n",
    "top_df_livsq_ft_price = df_livsq_ft_price.head(10)\n",
    "bottom_df_livsq_ft_price = df_livsq_ft_price.tail(10)\n",
    "\n",
    "print(top_df_sq_ft_price)\n",
    "print(top_df_livsq_ft_price)"
   ]
  },
  {
   "cell_type": "code",
   "execution_count": 60,
   "metadata": {
    "scrolled": false
   },
   "outputs": [
    {
     "data": {
      "image/png": "[encoded data removed]",
      "text/plain": [
       "<Figure size 720x576 with 1 Axes>"
      ]
     },
     "metadata": {
      "needs_background": "light"
     },
     "output_type": "display_data"
    }
   ],
   "source": [
    "fig = plt.figure(figsize=(10,8))\n",
    "sns.barplot(x='zipcode', y='price_per_lotsqft', data=top_df_sq_ft_price, palette=palette)\n",
    "plt.title('Most Expensive Zipcodes by Price/LotSqFt')\n",
    "plt.ylim(0,650)\n",
    "plt.show()"
   ]
  },
  {
   "cell_type": "code",
   "execution_count": 26,
   "metadata": {},
   "outputs": [
    {
     "data": {
      "text/html": [
       "<div>\n",
       "<style scoped>\n",
       "    .dataframe tbody tr th:only-of-type {\n",
       "        vertical-align: middle;\n",
       "    }\n",
       "\n",
       "    .dataframe tbody tr th {\n",
       "        vertical-align: top;\n",
       "    }\n",
       "\n",
       "    .dataframe thead th {\n",
       "        text-align: right;\n",
       "    }\n",
       "</style>\n",
       "<table border=\"1\" class=\"dataframe\">\n",
       "  <thead>\n",
       "    <tr style=\"text-align: right;\">\n",
       "      <th></th>\n",
       "      <th>zipcode</th>\n",
       "      <th>price_per_lotsqft</th>\n",
       "    </tr>\n",
       "  </thead>\n",
       "  <tbody>\n",
       "    <tr>\n",
       "      <th>0</th>\n",
       "      <td>98001</td>\n",
       "      <td>30.904078</td>\n",
       "    </tr>\n",
       "    <tr>\n",
       "      <th>27</th>\n",
       "      <td>98045</td>\n",
       "      <td>29.402874</td>\n",
       "    </tr>\n",
       "    <tr>\n",
       "      <th>20</th>\n",
       "      <td>98032</td>\n",
       "      <td>28.516430</td>\n",
       "    </tr>\n",
       "    <tr>\n",
       "      <th>64</th>\n",
       "      <td>98168</td>\n",
       "      <td>26.508638</td>\n",
       "    </tr>\n",
       "    <tr>\n",
       "      <th>12</th>\n",
       "      <td>98022</td>\n",
       "      <td>21.968290</td>\n",
       "    </tr>\n",
       "    <tr>\n",
       "      <th>39</th>\n",
       "      <td>98077</td>\n",
       "      <td>21.517387</td>\n",
       "    </tr>\n",
       "    <tr>\n",
       "      <th>8</th>\n",
       "      <td>98010</td>\n",
       "      <td>21.086372</td>\n",
       "    </tr>\n",
       "    <tr>\n",
       "      <th>14</th>\n",
       "      <td>98024</td>\n",
       "      <td>18.299366</td>\n",
       "    </tr>\n",
       "    <tr>\n",
       "      <th>10</th>\n",
       "      <td>98014</td>\n",
       "      <td>17.920968</td>\n",
       "    </tr>\n",
       "    <tr>\n",
       "      <th>35</th>\n",
       "      <td>98070</td>\n",
       "      <td>14.964870</td>\n",
       "    </tr>\n",
       "  </tbody>\n",
       "</table>\n",
       "</div>"
      ],
      "text/plain": [
       "    zipcode  price_per_lotsqft\n",
       "0     98001          30.904078\n",
       "27    98045          29.402874\n",
       "20    98032          28.516430\n",
       "64    98168          26.508638\n",
       "12    98022          21.968290\n",
       "39    98077          21.517387\n",
       "8     98010          21.086372\n",
       "14    98024          18.299366\n",
       "10    98014          17.920968\n",
       "35    98070          14.964870"
      ]
     },
     "execution_count": 26,
     "metadata": {},
     "output_type": "execute_result"
    }
   ],
   "source": [
    "bottom_df_sq_ft_price"
   ]
  },
  {
   "cell_type": "code",
   "execution_count": 27,
   "metadata": {
    "scrolled": true
   },
   "outputs": [
    {
     "data": {
      "image/png": "[encoded data removed]",
      "text/plain": [
       "<Figure size 720x576 with 1 Axes>"
      ]
     },
     "metadata": {
      "needs_background": "light"
     },
     "output_type": "display_data"
    }
   ],
   "source": [
    "fig = plt.figure(figsize=(10,8))\n",
    "sns.barplot(x='zipcode', y='price_per_lotsqft', data=bottom_df_sq_ft_price, palette=palette)\n",
    "plt.title('Least Expensive Zipcodes by Price/LotSqFt (to scale)')\n",
    "plt.ylim(0, 350)\n",
    "plt.show()"
   ]
  },
  {
   "cell_type": "code",
   "execution_count": 28,
   "metadata": {
    "scrolled": false
   },
   "outputs": [
    {
     "data": {
      "image/png": "[encoded data removed]",
      "text/plain": [
       "<Figure size 720x576 with 1 Axes>"
      ]
     },
     "metadata": {
      "needs_background": "light"
     },
     "output_type": "display_data"
    }
   ],
   "source": [
    "fig = plt.figure(figsize=(10,8))\n",
    "sns.barplot(x='zipcode', y='price_per_lotsqft', data=bottom_df_sq_ft_price, palette=palette)\n",
    "plt.title('Least Expensive Zipcodes by Price/LotSqFt')\n",
    "plt.show()"
   ]
  },
  {
   "cell_type": "code",
   "execution_count": 56,
   "metadata": {},
   "outputs": [
    {
     "data": {
      "image/png": "[encoded data removed]",
      "text/plain": [
       "<Figure size 720x576 with 1 Axes>"
      ]
     },
     "metadata": {
      "needs_background": "light"
     },
     "output_type": "display_data"
    }
   ],
   "source": [
    "fig = plt.figure(figsize=(10,8))\n",
    "sns.barplot(x='zipcode', y='price_per_livingsqft', data=top_df_livsq_ft_price, palette=palette)\n",
    "plt.title('Most Expensive Zipcodes by Price/LivingSqFt')\n",
    "plt.ylim(0,650)\n",
    "plt.show()"
   ]
  },
  {
   "cell_type": "code",
   "execution_count": 30,
   "metadata": {},
   "outputs": [
    {
     "data": {
      "image/png": "[encoded data removed]",
      "text/plain": [
       "<Figure size 720x576 with 1 Axes>"
      ]
     },
     "metadata": {
      "needs_background": "light"
     },
     "output_type": "display_data"
    }
   ],
   "source": [
    "fig = plt.figure(figsize=(10,8))\n",
    "sns.barplot(x='zipcode', y='price_per_livingsqft', data=bottom_df_livsq_ft_price, palette=palette)\n",
    "plt.title('Least Expensive Zipcodes by Price/LivingSqFt (to scale)')\n",
    "plt.ylim(0,650)\n",
    "plt.show()"
   ]
  },
  {
   "cell_type": "code",
   "execution_count": 31,
   "metadata": {},
   "outputs": [
    {
     "data": {
      "image/png": "[encoded data removed]",
      "text/plain": [
       "<Figure size 720x576 with 1 Axes>"
      ]
     },
     "metadata": {
      "needs_background": "light"
     },
     "output_type": "display_data"
    }
   ],
   "source": [
    "fig = plt.figure(figsize=(10,8))\n",
    "sns.barplot(x='zipcode', y='price_per_livingsqft', data=bottom_df_livsq_ft_price, palette=palette)\n",
    "plt.title('Least Expensive Zipcodes by Price/LivingSqFt')\n",
    "plt.show()"
   ]
  },
  {
   "cell_type": "code",
   "execution_count": 32,
   "metadata": {},
   "outputs": [
    {
     "data": {
      "text/html": [
       "<div>\n",
       "<style scoped>\n",
       "    .dataframe tbody tr th:only-of-type {\n",
       "        vertical-align: middle;\n",
       "    }\n",
       "\n",
       "    .dataframe tbody tr th {\n",
       "        vertical-align: top;\n",
       "    }\n",
       "\n",
       "    .dataframe thead th {\n",
       "        text-align: right;\n",
       "    }\n",
       "</style>\n",
       "<table border=\"1\" class=\"dataframe\">\n",
       "  <thead>\n",
       "    <tr style=\"text-align: right;\">\n",
       "      <th></th>\n",
       "      <th>zipcode</th>\n",
       "      <th>price_per_livingsqft</th>\n",
       "    </tr>\n",
       "  </thead>\n",
       "  <tbody>\n",
       "    <tr>\n",
       "      <th>67</th>\n",
       "      <td>98188</td>\n",
       "      <td>169.007306</td>\n",
       "    </tr>\n",
       "    <tr>\n",
       "      <th>26</th>\n",
       "      <td>98042</td>\n",
       "      <td>164.589346</td>\n",
       "    </tr>\n",
       "    <tr>\n",
       "      <th>19</th>\n",
       "      <td>98031</td>\n",
       "      <td>161.101680</td>\n",
       "    </tr>\n",
       "    <tr>\n",
       "      <th>2</th>\n",
       "      <td>98003</td>\n",
       "      <td>157.113414</td>\n",
       "    </tr>\n",
       "    <tr>\n",
       "      <th>40</th>\n",
       "      <td>98092</td>\n",
       "      <td>156.014888</td>\n",
       "    </tr>\n",
       "    <tr>\n",
       "      <th>18</th>\n",
       "      <td>98030</td>\n",
       "      <td>155.156221</td>\n",
       "    </tr>\n",
       "    <tr>\n",
       "      <th>20</th>\n",
       "      <td>98032</td>\n",
       "      <td>155.020093</td>\n",
       "    </tr>\n",
       "    <tr>\n",
       "      <th>0</th>\n",
       "      <td>98001</td>\n",
       "      <td>151.362546</td>\n",
       "    </tr>\n",
       "    <tr>\n",
       "      <th>1</th>\n",
       "      <td>98002</td>\n",
       "      <td>151.306283</td>\n",
       "    </tr>\n",
       "    <tr>\n",
       "      <th>13</th>\n",
       "      <td>98023</td>\n",
       "      <td>148.543690</td>\n",
       "    </tr>\n",
       "  </tbody>\n",
       "</table>\n",
       "</div>"
      ],
      "text/plain": [
       "    zipcode  price_per_livingsqft\n",
       "67    98188            169.007306\n",
       "26    98042            164.589346\n",
       "19    98031            161.101680\n",
       "2     98003            157.113414\n",
       "40    98092            156.014888\n",
       "18    98030            155.156221\n",
       "20    98032            155.020093\n",
       "0     98001            151.362546\n",
       "1     98002            151.306283\n",
       "13    98023            148.543690"
      ]
     },
     "execution_count": 32,
     "metadata": {},
     "output_type": "execute_result"
    }
   ],
   "source": [
    "bottom_df_livsq_ft_price"
   ]
  },
  {
   "cell_type": "markdown",
   "metadata": {},
   "source": [
    "## Question 2 Conclusion:\n",
    "\n",
    "In conclusion, when we look at the correlation coefficients, the living square footage has a bigger impact on the price than the lot square footage (0.6 and 0.09 respectively). \n",
    "\n",
    "Breaking this down into price per square footage for both the living space and lot space, we can rank the zipcodes by most expensive and least expensive per square foot. \n",
    "\n",
    "For price per lot square footage, the most expensive zipcodes are 98102, 98119, 98112, 98109 and 98107 with prices between $241-$320 per lot square foot. The least expensive zipcodes are 98070, 98014, 98024, 98010 and 98077 with prices between $14-$24 per lot square foot. Interestingly, 98070 is also a zipcode with waterfront homes. It is possible that part of this area is in a flood zone, or has a lot of run-down homes selling for renovation to explain its low land prices. \n",
    "\n",
    "For price per living square footage, the most expensive zipcodes are 98039, 98004 , 98109 , 98119 and 98112 with mean prices between $400-$620 per living square foot. Least expensive zipcodes are 98023, 98002, 98001, 98032 and 98030 with mean prices between $145-$155 per living square foot. The most expensive zipcodes in terms of living square footage price are similar to our findings from the first question. Interestingly, none of them are waterfront and many of them are also the most expensive in terms of land price. \n",
    "\n",
    "It would be interesting to dig deeper and see what makes these zipcodes so much more expensive. Based on these findings, we can conclude that the home on the lot has a big impact on its price, but the land is also expensive, so it could be the population density of these areas driving up the price of homes and land. We will explore this further in the next question. "
   ]
  },
  {
   "cell_type": "markdown",
   "metadata": {},
   "source": [
    "## Question 3: What is the effect of population density on home price?"
   ]
  },
  {
   "cell_type": "code",
   "execution_count": 33,
   "metadata": {},
   "outputs": [
    {
     "data": {
      "text/html": [
       "<div>\n",
       "<style scoped>\n",
       "    .dataframe tbody tr th:only-of-type {\n",
       "        vertical-align: middle;\n",
       "    }\n",
       "\n",
       "    .dataframe tbody tr th {\n",
       "        vertical-align: top;\n",
       "    }\n",
       "\n",
       "    .dataframe thead th {\n",
       "        text-align: right;\n",
       "    }\n",
       "</style>\n",
       "<table border=\"1\" class=\"dataframe\">\n",
       "  <thead>\n",
       "    <tr style=\"text-align: right;\">\n",
       "      <th></th>\n",
       "      <th>zipcode</th>\n",
       "      <th>pop_density</th>\n",
       "    </tr>\n",
       "  </thead>\n",
       "  <tbody>\n",
       "    <tr>\n",
       "      <th>0</th>\n",
       "      <td>98178</td>\n",
       "      <td>4966</td>\n",
       "    </tr>\n",
       "    <tr>\n",
       "      <th>1</th>\n",
       "      <td>98125</td>\n",
       "      <td>6879</td>\n",
       "    </tr>\n",
       "    <tr>\n",
       "      <th>2</th>\n",
       "      <td>98028</td>\n",
       "      <td>3606</td>\n",
       "    </tr>\n",
       "    <tr>\n",
       "      <th>3</th>\n",
       "      <td>98136</td>\n",
       "      <td>6425</td>\n",
       "    </tr>\n",
       "    <tr>\n",
       "      <th>4</th>\n",
       "      <td>98074</td>\n",
       "      <td>2411</td>\n",
       "    </tr>\n",
       "    <tr>\n",
       "      <th>...</th>\n",
       "      <td>...</td>\n",
       "      <td>...</td>\n",
       "    </tr>\n",
       "    <tr>\n",
       "      <th>65</th>\n",
       "      <td>98072</td>\n",
       "      <td>1231</td>\n",
       "    </tr>\n",
       "    <tr>\n",
       "      <th>66</th>\n",
       "      <td>98188</td>\n",
       "      <td>3062</td>\n",
       "    </tr>\n",
       "    <tr>\n",
       "      <th>67</th>\n",
       "      <td>98014</td>\n",
       "      <td>149</td>\n",
       "    </tr>\n",
       "    <tr>\n",
       "      <th>68</th>\n",
       "      <td>98055</td>\n",
       "      <td>4585</td>\n",
       "    </tr>\n",
       "    <tr>\n",
       "      <th>69</th>\n",
       "      <td>98039</td>\n",
       "      <td>2059</td>\n",
       "    </tr>\n",
       "  </tbody>\n",
       "</table>\n",
       "<p>70 rows × 2 columns</p>\n",
       "</div>"
      ],
      "text/plain": [
       "    zipcode  pop_density\n",
       "0     98178         4966\n",
       "1     98125         6879\n",
       "2     98028         3606\n",
       "3     98136         6425\n",
       "4     98074         2411\n",
       "..      ...          ...\n",
       "65    98072         1231\n",
       "66    98188         3062\n",
       "67    98014          149\n",
       "68    98055         4585\n",
       "69    98039         2059\n",
       "\n",
       "[70 rows x 2 columns]"
      ]
     },
     "execution_count": 33,
     "metadata": {},
     "output_type": "execute_result"
    }
   ],
   "source": [
    "# Create a DF of zipcodes and their corresponding population densities\n",
    "zipcode = [98178, 98125, 98028, 98136, 98074, 98053, 98003, 98198, \n",
    "           98146, 98038, 98007, 98115, 98107, 98126, 98019, 98103,\n",
    "           98002, 98133, 98040, 98092, 98030, 98119, 98112, 98052,\n",
    "           98027, 98117, 98058, 98001, 98056, 98166, 98023, 98070,\n",
    "           98148, 98105, 98042, 98008, 98059, 98122, 98144, 98004,\n",
    "           98005, 98034, 98075, 98116, 98010, 98118, 98199, 98032,\n",
    "           98045, 98102, 98077, 98108, 98168, 98177, 98065, 98029,\n",
    "           98006, 98109, 98022, 98033, 98155, 98024, 98011, 98031,\n",
    "           98106, 98072, 98188, 98014, 98055, 98039]\n",
    "\n",
    "pop_density = [4966, 6879, 3606, 6425, 2411, 662, 3800, 4441, 5573,\n",
    "               469, 5684, 7018, 9602, 6732, 141, 9905, 4423, 6279,\n",
    "               3591, 892, 4741, 8638, 6667, 2908, 469, 7953, 2215,\n",
    "               1717, 4323, 3580, 4604, 288, 3194, 10643, 1537, 4437,\n",
    "               1725, 13594, 7895, 3977, 2361, 4428, 2185,  7523, 334,\n",
    "               6841, 4714, 2024, 41, 15829, 785, 2989, 3794, 3341, 171,\n",
    "               2719, 3402, 10361, 52,3696, 4330, 236, 3569, 4877, 4161,\n",
    "               1231, 3062, 149, 4585, 2059] \n",
    "\n",
    "lists = list(zip(zipcode, pop_density)) \n",
    "pop_density_by_zip = pd.DataFrame(lists, columns = ['zipcode', 'pop_density']) \n",
    "pop_density_by_zip"
   ]
  },
  {
   "cell_type": "code",
   "execution_count": 34,
   "metadata": {},
   "outputs": [],
   "source": [
    "pop_density_by_zip.to_csv('/Users/jordanrjohnson/DataScienceCourseMaterial/phase_2/dsc-phase-2-project-online/data/pop_density_by_zip.csv', index=False)"
   ]
  },
  {
   "cell_type": "code",
   "execution_count": 35,
   "metadata": {},
   "outputs": [
    {
     "data": {
      "text/html": [
       "<div>\n",
       "<style scoped>\n",
       "    .dataframe tbody tr th:only-of-type {\n",
       "        vertical-align: middle;\n",
       "    }\n",
       "\n",
       "    .dataframe tbody tr th {\n",
       "        vertical-align: top;\n",
       "    }\n",
       "\n",
       "    .dataframe thead th {\n",
       "        text-align: right;\n",
       "    }\n",
       "</style>\n",
       "<table border=\"1\" class=\"dataframe\">\n",
       "  <thead>\n",
       "    <tr style=\"text-align: right;\">\n",
       "      <th></th>\n",
       "      <th>pop_density</th>\n",
       "    </tr>\n",
       "    <tr>\n",
       "      <th>zipcode</th>\n",
       "      <th></th>\n",
       "    </tr>\n",
       "  </thead>\n",
       "  <tbody>\n",
       "    <tr>\n",
       "      <th>98178</th>\n",
       "      <td>4966</td>\n",
       "    </tr>\n",
       "    <tr>\n",
       "      <th>98125</th>\n",
       "      <td>6879</td>\n",
       "    </tr>\n",
       "    <tr>\n",
       "      <th>98028</th>\n",
       "      <td>3606</td>\n",
       "    </tr>\n",
       "    <tr>\n",
       "      <th>98136</th>\n",
       "      <td>6425</td>\n",
       "    </tr>\n",
       "    <tr>\n",
       "      <th>98074</th>\n",
       "      <td>2411</td>\n",
       "    </tr>\n",
       "    <tr>\n",
       "      <th>...</th>\n",
       "      <td>...</td>\n",
       "    </tr>\n",
       "    <tr>\n",
       "      <th>98072</th>\n",
       "      <td>1231</td>\n",
       "    </tr>\n",
       "    <tr>\n",
       "      <th>98188</th>\n",
       "      <td>3062</td>\n",
       "    </tr>\n",
       "    <tr>\n",
       "      <th>98014</th>\n",
       "      <td>149</td>\n",
       "    </tr>\n",
       "    <tr>\n",
       "      <th>98055</th>\n",
       "      <td>4585</td>\n",
       "    </tr>\n",
       "    <tr>\n",
       "      <th>98039</th>\n",
       "      <td>2059</td>\n",
       "    </tr>\n",
       "  </tbody>\n",
       "</table>\n",
       "<p>70 rows × 1 columns</p>\n",
       "</div>"
      ],
      "text/plain": [
       "         pop_density\n",
       "zipcode             \n",
       "98178           4966\n",
       "98125           6879\n",
       "98028           3606\n",
       "98136           6425\n",
       "98074           2411\n",
       "...              ...\n",
       "98072           1231\n",
       "98188           3062\n",
       "98014            149\n",
       "98055           4585\n",
       "98039           2059\n",
       "\n",
       "[70 rows x 1 columns]"
      ]
     },
     "execution_count": 35,
     "metadata": {},
     "output_type": "execute_result"
    }
   ],
   "source": [
    "# Reset index to prepare for concatenation\n",
    "pop_density_by_zip = pop_density_by_zip.set_index('zipcode')\n",
    "pop_density_by_zip"
   ]
  },
  {
   "cell_type": "code",
   "execution_count": 36,
   "metadata": {},
   "outputs": [],
   "source": [
    "# Same thing on this other DF from Q2\n",
    "df_livsq_ft_price = df_livsq_ft_price.set_index('zipcode')"
   ]
  },
  {
   "cell_type": "code",
   "execution_count": 37,
   "metadata": {},
   "outputs": [
    {
     "data": {
      "text/html": [
       "<div>\n",
       "<style scoped>\n",
       "    .dataframe tbody tr th:only-of-type {\n",
       "        vertical-align: middle;\n",
       "    }\n",
       "\n",
       "    .dataframe tbody tr th {\n",
       "        vertical-align: top;\n",
       "    }\n",
       "\n",
       "    .dataframe thead th {\n",
       "        text-align: right;\n",
       "    }\n",
       "</style>\n",
       "<table border=\"1\" class=\"dataframe\">\n",
       "  <thead>\n",
       "    <tr style=\"text-align: right;\">\n",
       "      <th></th>\n",
       "      <th>pop_density</th>\n",
       "    </tr>\n",
       "    <tr>\n",
       "      <th>zipcode</th>\n",
       "      <th></th>\n",
       "    </tr>\n",
       "  </thead>\n",
       "  <tbody>\n",
       "    <tr>\n",
       "      <th>98001</th>\n",
       "      <td>1717</td>\n",
       "    </tr>\n",
       "    <tr>\n",
       "      <th>98002</th>\n",
       "      <td>4423</td>\n",
       "    </tr>\n",
       "    <tr>\n",
       "      <th>98003</th>\n",
       "      <td>3800</td>\n",
       "    </tr>\n",
       "    <tr>\n",
       "      <th>98004</th>\n",
       "      <td>3977</td>\n",
       "    </tr>\n",
       "    <tr>\n",
       "      <th>98005</th>\n",
       "      <td>2361</td>\n",
       "    </tr>\n",
       "    <tr>\n",
       "      <th>...</th>\n",
       "      <td>...</td>\n",
       "    </tr>\n",
       "    <tr>\n",
       "      <th>98177</th>\n",
       "      <td>3341</td>\n",
       "    </tr>\n",
       "    <tr>\n",
       "      <th>98178</th>\n",
       "      <td>4966</td>\n",
       "    </tr>\n",
       "    <tr>\n",
       "      <th>98188</th>\n",
       "      <td>3062</td>\n",
       "    </tr>\n",
       "    <tr>\n",
       "      <th>98198</th>\n",
       "      <td>4441</td>\n",
       "    </tr>\n",
       "    <tr>\n",
       "      <th>98199</th>\n",
       "      <td>4714</td>\n",
       "    </tr>\n",
       "  </tbody>\n",
       "</table>\n",
       "<p>70 rows × 1 columns</p>\n",
       "</div>"
      ],
      "text/plain": [
       "         pop_density\n",
       "zipcode             \n",
       "98001           1717\n",
       "98002           4423\n",
       "98003           3800\n",
       "98004           3977\n",
       "98005           2361\n",
       "...              ...\n",
       "98177           3341\n",
       "98178           4966\n",
       "98188           3062\n",
       "98198           4441\n",
       "98199           4714\n",
       "\n",
       "[70 rows x 1 columns]"
      ]
     },
     "execution_count": 37,
     "metadata": {},
     "output_type": "execute_result"
    }
   ],
   "source": [
    "# Sort index so zipcodes are in order\n",
    "df_livsq_ft_price = df_livsq_ft_price.sort_index()\n",
    "pop_density_by_zip = pop_density_by_zip.sort_index()\n",
    "pop_density_by_zip"
   ]
  },
  {
   "cell_type": "code",
   "execution_count": 38,
   "metadata": {},
   "outputs": [],
   "source": [
    "# Concatenate the DFs\n",
    "pop_density_price_zip = pd.concat([df_livsq_ft_price, pop_density_by_zip], axis=1, sort=False)"
   ]
  },
  {
   "cell_type": "code",
   "execution_count": 39,
   "metadata": {},
   "outputs": [
    {
     "data": {
      "text/html": [
       "<div>\n",
       "<style scoped>\n",
       "    .dataframe tbody tr th:only-of-type {\n",
       "        vertical-align: middle;\n",
       "    }\n",
       "\n",
       "    .dataframe tbody tr th {\n",
       "        vertical-align: top;\n",
       "    }\n",
       "\n",
       "    .dataframe thead th {\n",
       "        text-align: right;\n",
       "    }\n",
       "</style>\n",
       "<table border=\"1\" class=\"dataframe\">\n",
       "  <thead>\n",
       "    <tr style=\"text-align: right;\">\n",
       "      <th></th>\n",
       "      <th>price_per_livingsqft</th>\n",
       "      <th>pop_density</th>\n",
       "    </tr>\n",
       "    <tr>\n",
       "      <th>zipcode</th>\n",
       "      <th></th>\n",
       "      <th></th>\n",
       "    </tr>\n",
       "  </thead>\n",
       "  <tbody>\n",
       "    <tr>\n",
       "      <th>98001</th>\n",
       "      <td>151.362546</td>\n",
       "      <td>1717</td>\n",
       "    </tr>\n",
       "    <tr>\n",
       "      <th>98002</th>\n",
       "      <td>151.306283</td>\n",
       "      <td>4423</td>\n",
       "    </tr>\n",
       "    <tr>\n",
       "      <th>98003</th>\n",
       "      <td>157.113414</td>\n",
       "      <td>3800</td>\n",
       "    </tr>\n",
       "    <tr>\n",
       "      <th>98004</th>\n",
       "      <td>445.842495</td>\n",
       "      <td>3977</td>\n",
       "    </tr>\n",
       "    <tr>\n",
       "      <th>98005</th>\n",
       "      <td>309.321585</td>\n",
       "      <td>2361</td>\n",
       "    </tr>\n",
       "    <tr>\n",
       "      <th>...</th>\n",
       "      <td>...</td>\n",
       "      <td>...</td>\n",
       "    </tr>\n",
       "    <tr>\n",
       "      <th>98177</th>\n",
       "      <td>277.857301</td>\n",
       "      <td>3341</td>\n",
       "    </tr>\n",
       "    <tr>\n",
       "      <th>98178</th>\n",
       "      <td>187.375626</td>\n",
       "      <td>4966</td>\n",
       "    </tr>\n",
       "    <tr>\n",
       "      <th>98188</th>\n",
       "      <td>169.007306</td>\n",
       "      <td>3062</td>\n",
       "    </tr>\n",
       "    <tr>\n",
       "      <th>98198</th>\n",
       "      <td>177.631085</td>\n",
       "      <td>4441</td>\n",
       "    </tr>\n",
       "    <tr>\n",
       "      <th>98199</th>\n",
       "      <td>366.300448</td>\n",
       "      <td>4714</td>\n",
       "    </tr>\n",
       "  </tbody>\n",
       "</table>\n",
       "<p>70 rows × 2 columns</p>\n",
       "</div>"
      ],
      "text/plain": [
       "         price_per_livingsqft  pop_density\n",
       "zipcode                                   \n",
       "98001              151.362546         1717\n",
       "98002              151.306283         4423\n",
       "98003              157.113414         3800\n",
       "98004              445.842495         3977\n",
       "98005              309.321585         2361\n",
       "...                       ...          ...\n",
       "98177              277.857301         3341\n",
       "98178              187.375626         4966\n",
       "98188              169.007306         3062\n",
       "98198              177.631085         4441\n",
       "98199              366.300448         4714\n",
       "\n",
       "[70 rows x 2 columns]"
      ]
     },
     "execution_count": 39,
     "metadata": {},
     "output_type": "execute_result"
    }
   ],
   "source": [
    "pop_density_price_zip"
   ]
  },
  {
   "cell_type": "code",
   "execution_count": 40,
   "metadata": {},
   "outputs": [
    {
     "data": {
      "text/plain": [
       "price_per_livingsqft    0\n",
       "pop_density             0\n",
       "dtype: int64"
      ]
     },
     "execution_count": 40,
     "metadata": {},
     "output_type": "execute_result"
    }
   ],
   "source": [
    "# Make sure we don't have any nulls and that our concat worked nicely\n",
    "pop_density_price_zip.isna().sum()"
   ]
  },
  {
   "cell_type": "code",
   "execution_count": 41,
   "metadata": {},
   "outputs": [],
   "source": [
    "# Reset the index on this DF\n",
    "pop_density_price_zip = pop_density_price_zip.reset_index()"
   ]
  },
  {
   "cell_type": "code",
   "execution_count": 53,
   "metadata": {},
   "outputs": [
    {
     "data": {
      "image/png": "[encoded data removed]",
      "text/plain": [
       "<Figure size 720x576 with 1 Axes>"
      ]
     },
     "metadata": {
      "needs_background": "light"
     },
     "output_type": "display_data"
    },
    {
     "name": "stdout",
     "output_type": "stream",
     "text": [
      "Correlation Coefficient: [0.51444205 1.        ]\n"
     ]
    }
   ],
   "source": [
    "# Plot the data\n",
    "fig = plt.figure(figsize=(10,8))\n",
    "sns.scatterplot(data=pop_density_price_zip,\n",
    "                 x='pop_density',\n",
    "                 y='price_per_livingsqft',\n",
    "                palette=palette)\n",
    "plt.title('Population Density vs Price per Living SqFt')\n",
    "plt.show()\n",
    "# Notice the somewhat positive correlation between the price per living sq ft and the population density\n",
    "print('Correlation Coefficient:', np.corrcoef(pop_density_price_zip['pop_density'], pop_density_price_zip['price_per_livingsqft'])[1])"
   ]
  },
  {
   "cell_type": "code",
   "execution_count": 55,
   "metadata": {},
   "outputs": [
    {
     "data": {
      "image/png": "[encoded data removed]",
      "text/plain": [
       "<Figure size 720x576 with 1 Axes>"
      ]
     },
     "metadata": {
      "needs_background": "light"
     },
     "output_type": "display_data"
    }
   ],
   "source": [
    "# Plot this so we can see the different zipcodes\n",
    "fig = plt.figure(figsize=(10,8))\n",
    "sns.scatterplot(data=pop_density_price_zip,\n",
    "                 x='zipcode',\n",
    "                 y='price_per_livingsqft',\n",
    "                 hue='pop_density',\n",
    "                palette=palette)\n",
    "plt.title('Population Density vs Price per Living SqFt')\n",
    "plt.show()"
   ]
  },
  {
   "cell_type": "code",
   "execution_count": 44,
   "metadata": {},
   "outputs": [
    {
     "data": {
      "text/html": [
       "<div>\n",
       "<style scoped>\n",
       "    .dataframe tbody tr th:only-of-type {\n",
       "        vertical-align: middle;\n",
       "    }\n",
       "\n",
       "    .dataframe tbody tr th {\n",
       "        vertical-align: top;\n",
       "    }\n",
       "\n",
       "    .dataframe thead th {\n",
       "        text-align: right;\n",
       "    }\n",
       "</style>\n",
       "<table border=\"1\" class=\"dataframe\">\n",
       "  <thead>\n",
       "    <tr style=\"text-align: right;\">\n",
       "      <th></th>\n",
       "      <th>zipcode</th>\n",
       "      <th>price_per_livingsqft</th>\n",
       "      <th>pop_density</th>\n",
       "    </tr>\n",
       "  </thead>\n",
       "  <tbody>\n",
       "    <tr>\n",
       "      <th>41</th>\n",
       "      <td>98102</td>\n",
       "      <td>413.479667</td>\n",
       "      <td>15829</td>\n",
       "    </tr>\n",
       "    <tr>\n",
       "      <th>42</th>\n",
       "      <td>98103</td>\n",
       "      <td>368.870253</td>\n",
       "      <td>9905</td>\n",
       "    </tr>\n",
       "    <tr>\n",
       "      <th>43</th>\n",
       "      <td>98105</td>\n",
       "      <td>388.128961</td>\n",
       "      <td>10643</td>\n",
       "    </tr>\n",
       "    <tr>\n",
       "      <th>44</th>\n",
       "      <td>98106</td>\n",
       "      <td>231.538367</td>\n",
       "      <td>4161</td>\n",
       "    </tr>\n",
       "    <tr>\n",
       "      <th>45</th>\n",
       "      <td>98107</td>\n",
       "      <td>380.959081</td>\n",
       "      <td>9602</td>\n",
       "    </tr>\n",
       "    <tr>\n",
       "      <th>46</th>\n",
       "      <td>98108</td>\n",
       "      <td>225.032792</td>\n",
       "      <td>2989</td>\n",
       "    </tr>\n",
       "    <tr>\n",
       "      <th>47</th>\n",
       "      <td>98109</td>\n",
       "      <td>421.839114</td>\n",
       "      <td>10361</td>\n",
       "    </tr>\n",
       "    <tr>\n",
       "      <th>48</th>\n",
       "      <td>98112</td>\n",
       "      <td>400.215632</td>\n",
       "      <td>6667</td>\n",
       "    </tr>\n",
       "    <tr>\n",
       "      <th>49</th>\n",
       "      <td>98115</td>\n",
       "      <td>350.672699</td>\n",
       "      <td>7018</td>\n",
       "    </tr>\n",
       "    <tr>\n",
       "      <th>50</th>\n",
       "      <td>98116</td>\n",
       "      <td>345.590645</td>\n",
       "      <td>7523</td>\n",
       "    </tr>\n",
       "    <tr>\n",
       "      <th>51</th>\n",
       "      <td>98117</td>\n",
       "      <td>363.381279</td>\n",
       "      <td>7953</td>\n",
       "    </tr>\n",
       "    <tr>\n",
       "      <th>52</th>\n",
       "      <td>98118</td>\n",
       "      <td>260.241308</td>\n",
       "      <td>6841</td>\n",
       "    </tr>\n",
       "    <tr>\n",
       "      <th>53</th>\n",
       "      <td>98119</td>\n",
       "      <td>412.241082</td>\n",
       "      <td>8638</td>\n",
       "    </tr>\n",
       "    <tr>\n",
       "      <th>54</th>\n",
       "      <td>98122</td>\n",
       "      <td>359.635737</td>\n",
       "      <td>13594</td>\n",
       "    </tr>\n",
       "  </tbody>\n",
       "</table>\n",
       "</div>"
      ],
      "text/plain": [
       "    zipcode  price_per_livingsqft  pop_density\n",
       "41    98102            413.479667        15829\n",
       "42    98103            368.870253         9905\n",
       "43    98105            388.128961        10643\n",
       "44    98106            231.538367         4161\n",
       "45    98107            380.959081         9602\n",
       "46    98108            225.032792         2989\n",
       "47    98109            421.839114        10361\n",
       "48    98112            400.215632         6667\n",
       "49    98115            350.672699         7018\n",
       "50    98116            345.590645         7523\n",
       "51    98117            363.381279         7953\n",
       "52    98118            260.241308         6841\n",
       "53    98119            412.241082         8638\n",
       "54    98122            359.635737        13594"
      ]
     },
     "execution_count": 44,
     "metadata": {},
     "output_type": "execute_result"
    }
   ],
   "source": [
    "# Let's take a closer look at that interesting cluster of densely populated zipcodes \n",
    "most_pop_zips = pop_density_price_zip.loc[(pop_density_price_zip['zipcode'] > 98100) &\n",
    "                                         (pop_density_price_zip['zipcode'] < 98125)]\n",
    "most_pop_zips"
   ]
  },
  {
   "cell_type": "markdown",
   "metadata": {},
   "source": [
    "## Question 3 Conclusion:\n",
    "\n",
    "In conclusion, there is a relationship between population density and price per living sqft. There is a positive correlation of about 0.5, meaning it is not a very strong correlation, but it is still a positive one. As the population density increases, so does the price per sq ft. \n",
    "\n",
    "When looking at the different zipcodes, we can easily see a cluster of zipcodes where there is a high population density, and also high prices per sq ft. These zipcodes are chronologically from 98102 to 98122, so we can expect that these zipcodes represent Seattle proper, and not the suburbs(98122 is actually the official city center zipcode). Of these zipcodes, 98109, 98102 and 98119 are the most expensive per sq ft, but also some of the most densely populated. The only exception is 98039, in which homes are the most expensive per sq ft, but not as densely populated as the city-center zipcodes.\n",
    "\n",
    "Therefore, it is generally more expensive to live in the city-center, where the population is more dense. "
   ]
  },
  {
   "cell_type": "markdown",
   "metadata": {},
   "source": [
    "## Future Work:\n",
    "\n",
    "* Dig deeper into the qualities of the homes in these areas, such as home condition and grade to see what other characteristics besides the home's location and sq footage affect the price. \n",
    "* Look at some of the characteristics of the most expensive zipcodes that are not densely populated (ex. 98039) to see what makes them so expensive. \n",
    "* Look at renovated homes vs non renovated homes built in the same year to see how much value a renovation adds."
   ]
  },
  {
   "cell_type": "code",
   "execution_count": null,
   "metadata": {},
   "outputs": [],
   "source": []
  }
 ],
 "metadata": {
  "kernelspec": {
   "display_name": "learn-env",
   "language": "python",
   "name": "learn-env"
  },
  "language_info": {
   "codemirror_mode": {
    "name": "ipython",
    "version": 3
   },
   "file_extension": ".py",
   "mimetype": "text/x-python",
   "name": "python",
   "nbconvert_exporter": "python",
   "pygments_lexer": "ipython3",
   "version": "3.6.9"
  }
 },
 "nbformat": 4,
 "nbformat_minor": 4
}
