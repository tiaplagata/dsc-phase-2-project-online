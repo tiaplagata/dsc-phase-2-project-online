{
 "cells": [
  {
   "cell_type": "markdown",
   "metadata": {},
   "source": [
    "## Final Project Submission\n",
    "\n",
    "Please fill out:\n",
    "* Student name: Tia Plagata\n",
    "* Student pace: full time\n",
    "* Scheduled project review date/time: 10/19 10am EST\n",
    "* Instructor name: Rafael Carrasco\n",
    "* Blog post URL:"
   ]
  },
  {
   "cell_type": "markdown",
   "metadata": {},
   "source": [
    "# EDA #\n",
    "**Outline**\n",
    "* Stakeholder(s): Real-estate company working on an app feature that will estimate the price of your home.\n",
    "* Q1: What is the effect of zipcode on home price? \n",
    "* Q2: What is the impact of home and lot square footage on home price? What is the average price per square foot for different zipcodes?\n",
    "* Q3: What is the effect of population density on home price?"
   ]
  },
  {
   "cell_type": "markdown",
   "metadata": {},
   "source": [
    "## Import Data & Explore"
   ]
  },
  {
   "cell_type": "code",
   "execution_count": 14,
   "metadata": {},
   "outputs": [],
   "source": [
    "# Import statements\n",
    "import pandas as pd\n",
    "import numpy as np\n",
    "import matplotlib.pyplot as plt\n",
    "import seaborn as sns\n",
    "sns.set_style(style=\"whitegrid\")\n",
    "palette = \"ch:r=-.2,d=.3_r\"\n",
    "import folium\n",
    "import plotly.express as px"
   ]
  },
  {
   "cell_type": "code",
   "execution_count": 15,
   "metadata": {},
   "outputs": [
    {
     "data": {
      "text/html": [
       "<div>\n",
       "<style scoped>\n",
       "    .dataframe tbody tr th:only-of-type {\n",
       "        vertical-align: middle;\n",
       "    }\n",
       "\n",
       "    .dataframe tbody tr th {\n",
       "        vertical-align: top;\n",
       "    }\n",
       "\n",
       "    .dataframe thead th {\n",
       "        text-align: right;\n",
       "    }\n",
       "</style>\n",
       "<table border=\"1\" class=\"dataframe\">\n",
       "  <thead>\n",
       "    <tr style=\"text-align: right;\">\n",
       "      <th></th>\n",
       "      <th>id</th>\n",
       "      <th>date</th>\n",
       "      <th>price</th>\n",
       "      <th>bedrooms</th>\n",
       "      <th>bathrooms</th>\n",
       "      <th>sqft_living</th>\n",
       "      <th>sqft_lot</th>\n",
       "      <th>floors</th>\n",
       "      <th>waterfront</th>\n",
       "      <th>view</th>\n",
       "      <th>...</th>\n",
       "      <th>grade</th>\n",
       "      <th>sqft_above</th>\n",
       "      <th>sqft_basement</th>\n",
       "      <th>yr_built</th>\n",
       "      <th>yr_renovated</th>\n",
       "      <th>zipcode</th>\n",
       "      <th>lat</th>\n",
       "      <th>long</th>\n",
       "      <th>sqft_living15</th>\n",
       "      <th>sqft_lot15</th>\n",
       "    </tr>\n",
       "  </thead>\n",
       "  <tbody>\n",
       "    <tr>\n",
       "      <th>0</th>\n",
       "      <td>7129300520</td>\n",
       "      <td>2014-10-13</td>\n",
       "      <td>221900.0</td>\n",
       "      <td>3</td>\n",
       "      <td>1.00</td>\n",
       "      <td>1180</td>\n",
       "      <td>5650</td>\n",
       "      <td>1.0</td>\n",
       "      <td>0.0</td>\n",
       "      <td>0.0</td>\n",
       "      <td>...</td>\n",
       "      <td>7</td>\n",
       "      <td>1180</td>\n",
       "      <td>0.0</td>\n",
       "      <td>1955</td>\n",
       "      <td>0.0</td>\n",
       "      <td>98178</td>\n",
       "      <td>47.5112</td>\n",
       "      <td>-122.257</td>\n",
       "      <td>1340</td>\n",
       "      <td>5650</td>\n",
       "    </tr>\n",
       "    <tr>\n",
       "      <th>1</th>\n",
       "      <td>6414100192</td>\n",
       "      <td>2014-12-09</td>\n",
       "      <td>538000.0</td>\n",
       "      <td>3</td>\n",
       "      <td>2.25</td>\n",
       "      <td>2570</td>\n",
       "      <td>7242</td>\n",
       "      <td>2.0</td>\n",
       "      <td>0.0</td>\n",
       "      <td>0.0</td>\n",
       "      <td>...</td>\n",
       "      <td>7</td>\n",
       "      <td>2170</td>\n",
       "      <td>400.0</td>\n",
       "      <td>1951</td>\n",
       "      <td>1991.0</td>\n",
       "      <td>98125</td>\n",
       "      <td>47.7210</td>\n",
       "      <td>-122.319</td>\n",
       "      <td>1690</td>\n",
       "      <td>7639</td>\n",
       "    </tr>\n",
       "    <tr>\n",
       "      <th>2</th>\n",
       "      <td>5631500400</td>\n",
       "      <td>2015-02-25</td>\n",
       "      <td>180000.0</td>\n",
       "      <td>2</td>\n",
       "      <td>1.00</td>\n",
       "      <td>770</td>\n",
       "      <td>10000</td>\n",
       "      <td>1.0</td>\n",
       "      <td>0.0</td>\n",
       "      <td>0.0</td>\n",
       "      <td>...</td>\n",
       "      <td>6</td>\n",
       "      <td>770</td>\n",
       "      <td>0.0</td>\n",
       "      <td>1933</td>\n",
       "      <td>0.0</td>\n",
       "      <td>98028</td>\n",
       "      <td>47.7379</td>\n",
       "      <td>-122.233</td>\n",
       "      <td>2720</td>\n",
       "      <td>8062</td>\n",
       "    </tr>\n",
       "    <tr>\n",
       "      <th>3</th>\n",
       "      <td>2487200875</td>\n",
       "      <td>2014-12-09</td>\n",
       "      <td>604000.0</td>\n",
       "      <td>4</td>\n",
       "      <td>3.00</td>\n",
       "      <td>1960</td>\n",
       "      <td>5000</td>\n",
       "      <td>1.0</td>\n",
       "      <td>0.0</td>\n",
       "      <td>0.0</td>\n",
       "      <td>...</td>\n",
       "      <td>7</td>\n",
       "      <td>1050</td>\n",
       "      <td>910.0</td>\n",
       "      <td>1965</td>\n",
       "      <td>0.0</td>\n",
       "      <td>98136</td>\n",
       "      <td>47.5208</td>\n",
       "      <td>-122.393</td>\n",
       "      <td>1360</td>\n",
       "      <td>5000</td>\n",
       "    </tr>\n",
       "    <tr>\n",
       "      <th>4</th>\n",
       "      <td>1954400510</td>\n",
       "      <td>2015-02-18</td>\n",
       "      <td>510000.0</td>\n",
       "      <td>3</td>\n",
       "      <td>2.00</td>\n",
       "      <td>1680</td>\n",
       "      <td>8080</td>\n",
       "      <td>1.0</td>\n",
       "      <td>0.0</td>\n",
       "      <td>0.0</td>\n",
       "      <td>...</td>\n",
       "      <td>8</td>\n",
       "      <td>1680</td>\n",
       "      <td>0.0</td>\n",
       "      <td>1987</td>\n",
       "      <td>0.0</td>\n",
       "      <td>98074</td>\n",
       "      <td>47.6168</td>\n",
       "      <td>-122.045</td>\n",
       "      <td>1800</td>\n",
       "      <td>7503</td>\n",
       "    </tr>\n",
       "  </tbody>\n",
       "</table>\n",
       "<p>5 rows × 21 columns</p>\n",
       "</div>"
      ],
      "text/plain": [
       "           id        date     price  bedrooms  bathrooms  sqft_living  \\\n",
       "0  7129300520  2014-10-13  221900.0         3       1.00         1180   \n",
       "1  6414100192  2014-12-09  538000.0         3       2.25         2570   \n",
       "2  5631500400  2015-02-25  180000.0         2       1.00          770   \n",
       "3  2487200875  2014-12-09  604000.0         4       3.00         1960   \n",
       "4  1954400510  2015-02-18  510000.0         3       2.00         1680   \n",
       "\n",
       "   sqft_lot  floors  waterfront  view  ...  grade  sqft_above  sqft_basement  \\\n",
       "0      5650     1.0         0.0   0.0  ...      7        1180            0.0   \n",
       "1      7242     2.0         0.0   0.0  ...      7        2170          400.0   \n",
       "2     10000     1.0         0.0   0.0  ...      6         770            0.0   \n",
       "3      5000     1.0         0.0   0.0  ...      7        1050          910.0   \n",
       "4      8080     1.0         0.0   0.0  ...      8        1680            0.0   \n",
       "\n",
       "   yr_built  yr_renovated  zipcode      lat     long  sqft_living15  \\\n",
       "0      1955           0.0    98178  47.5112 -122.257           1340   \n",
       "1      1951        1991.0    98125  47.7210 -122.319           1690   \n",
       "2      1933           0.0    98028  47.7379 -122.233           2720   \n",
       "3      1965           0.0    98136  47.5208 -122.393           1360   \n",
       "4      1987           0.0    98074  47.6168 -122.045           1800   \n",
       "\n",
       "   sqft_lot15  \n",
       "0        5650  \n",
       "1        7639  \n",
       "2        8062  \n",
       "3        5000  \n",
       "4        7503  \n",
       "\n",
       "[5 rows x 21 columns]"
      ]
     },
     "execution_count": 15,
     "metadata": {},
     "output_type": "execute_result"
    }
   ],
   "source": [
    "df = pd.read_csv('/Users/jordanrjohnson/DataScienceCourseMaterial/phase_2/dsc-phase-2-project-online/data/kc_house_data_cleaned.csv')\n",
    "df.head()"
   ]
  },
  {
   "cell_type": "code",
   "execution_count": 16,
   "metadata": {
    "scrolled": true
   },
   "outputs": [
    {
     "data": {
      "text/plain": [
       "9546     2014-05-02\n",
       "8935     2014-05-02\n",
       "12704    2014-05-02\n",
       "9968     2014-05-02\n",
       "10711    2014-05-02\n",
       "            ...    \n",
       "14710    2015-05-14\n",
       "18040    2015-05-14\n",
       "6726     2015-05-14\n",
       "5247     2015-05-15\n",
       "12156    2015-05-24\n",
       "Name: date, Length: 20057, dtype: object"
      ]
     },
     "execution_count": 16,
     "metadata": {},
     "output_type": "execute_result"
    }
   ],
   "source": [
    "df['date'].sort_values()"
   ]
  },
  {
   "cell_type": "code",
   "execution_count": 17,
   "metadata": {},
   "outputs": [
    {
     "data": {
      "text/plain": [
       "1934     19\n",
       "1935     22\n",
       "1933     22\n",
       "1902     24\n",
       "1901     28\n",
       "       ... \n",
       "2006    397\n",
       "2004    399\n",
       "1977    400\n",
       "2005    415\n",
       "2014    491\n",
       "Name: yr_built, Length: 116, dtype: int64"
      ]
     },
     "execution_count": 17,
     "metadata": {},
     "output_type": "execute_result"
    }
   ],
   "source": [
    "df['yr_built'].value_counts().sort_values()"
   ]
  },
  {
   "cell_type": "code",
   "execution_count": 18,
   "metadata": {
    "scrolled": true
   },
   "outputs": [
    {
     "name": "stdout",
     "output_type": "stream",
     "text": [
      "waterfront\n",
      "0.0    20007\n",
      "1.0       50\n",
      "Name: price, dtype: int64\n",
      "waterfront\n",
      "0.0    467899.981656\n",
      "1.0    671667.000000\n",
      "Name: price, dtype: float64\n"
     ]
    }
   ],
   "source": [
    "print(df.groupby('waterfront')['price'].count())\n",
    "print(df.groupby('waterfront')['price'].mean())"
   ]
  },
  {
   "cell_type": "code",
   "execution_count": 19,
   "metadata": {
    "scrolled": false
   },
   "outputs": [
    {
     "name": "stdout",
     "output_type": "stream",
     "text": [
      "condition\n",
      "1       26\n",
      "2      164\n",
      "3    13025\n",
      "4     5326\n",
      "5     1516\n",
      "Name: price, dtype: int64\n",
      "condition\n",
      "1    316613.461538\n",
      "2    315084.689024\n",
      "3    471077.427946\n",
      "4    457666.392227\n",
      "5    502399.564644\n",
      "Name: price, dtype: float64\n"
     ]
    }
   ],
   "source": [
    "print(df.groupby('condition')['price'].count())\n",
    "print(df.groupby('condition')['price'].mean())"
   ]
  },
  {
   "cell_type": "markdown",
   "metadata": {},
   "source": [
    "## Stakeholder(s)\n",
    "\n",
    "### A real-estate company is working on an app feature, which will predict the price of your home in case you are looking to sell it.\n",
    "\n",
    "**Key Stakeholders**\n",
    "* Real-estate company app product manager\n",
    "* Real-estate company board of directors\n",
    "* Marketing department who may want to integrate the feature into their email campaigns or other promotions\n",
    "* App users, such as homeowners currently looking to sell and homeowners interested in selling their home in the near/distant future"
   ]
  },
  {
   "cell_type": "markdown",
   "metadata": {},
   "source": [
    "## Question 1: What is the effect of zipcode on home price? Which zipcode has the highest home prices? Further exploration: is highest-priced zipcode mostly waterfront property?"
   ]
  },
  {
   "cell_type": "code",
   "execution_count": 20,
   "metadata": {},
   "outputs": [
    {
     "name": "stdout",
     "output_type": "stream",
     "text": [
      "70\n"
     ]
    },
    {
     "data": {
      "text/plain": [
       "array([98178, 98125, 98028, 98136, 98074, 98003, 98146, 98038, 98007,\n",
       "       98115, 98107, 98126, 98019, 98103, 98002, 98133, 98092, 98030,\n",
       "       98119, 98112, 98052, 98027, 98117, 98058, 98001, 98056, 98166,\n",
       "       98053, 98023, 98148, 98105, 98042, 98008, 98059, 98122, 98144,\n",
       "       98004, 98034, 98075, 98116, 98010, 98118, 98040, 98032, 98045,\n",
       "       98102, 98077, 98198, 98108, 98168, 98177, 98029, 98006, 98109,\n",
       "       98022, 98033, 98155, 98024, 98011, 98031, 98106, 98070, 98199,\n",
       "       98072, 98188, 98065, 98005, 98014, 98055, 98039])"
      ]
     },
     "execution_count": 20,
     "metadata": {},
     "output_type": "execute_result"
    }
   ],
   "source": [
    "# What are the unique zip codes?\n",
    "print(df['zipcode'].nunique())\n",
    "df['zipcode'].unique()"
   ]
  },
  {
   "cell_type": "code",
   "execution_count": 21,
   "metadata": {},
   "outputs": [
    {
     "data": {
      "image/png": "[encoded data removed]",
      "text/plain": [
       "<Figure size 1080x864 with 1 Axes>"
      ]
     },
     "metadata": {},
     "output_type": "display_data"
    }
   ],
   "source": [
    "# In which zipcodes are the majority of the homes in our dataset?\n",
    "fig = plt.figure(figsize=(15,12))\n",
    "df.groupby('zipcode')['price'].count().sort_values().plot(kind='bar')\n",
    "plt.ylabel('Number of Homes in Zipcode')\n",
    "plt.title('Homes in Each Zipcode')\n",
    "plt.show()"
   ]
  },
  {
   "cell_type": "code",
   "execution_count": 22,
   "metadata": {},
   "outputs": [],
   "source": [
    "# Let's just look at the top 15 zipcodes with the highest mean home prices\n",
    "highest_price_zipcode = pd.DataFrame(df.groupby('zipcode')['price']\n",
    "                                     .agg('mean')\n",
    "                                     .sort_values(ascending=False)\n",
    "                                     .head(15))\n",
    "highest_price_zipcode = highest_price_zipcode.reset_index()"
   ]
  },
  {
   "cell_type": "code",
   "execution_count": 23,
   "metadata": {},
   "outputs": [
    {
     "data": {
      "image/png": "[encoded data removed]",
      "text/plain": [
       "<Figure size 720x504 with 1 Axes>"
      ]
     },
     "metadata": {},
     "output_type": "display_data"
    }
   ],
   "source": [
    "# Plot them\n",
    "fig = plt.figure(figsize=(10,7))\n",
    "x = highest_price_zipcode.zipcode\n",
    "y = highest_price_zipcode.price\n",
    "sns.barplot(x=x, y=y, palette=palette)\n",
    "plt.title('Top 15 Highest Mean Home Prices by Zipcode')\n",
    "plt.ylim(0, 950000)\n",
    "plt.ylabel('Mean Home Price')\n",
    "plt.show()"
   ]
  },
  {
   "cell_type": "code",
   "execution_count": 24,
   "metadata": {},
   "outputs": [],
   "source": [
    "# Which zipcodes have homes with lowest mean prices?\n",
    "lowest_price_zipcode = pd.DataFrame(df.groupby('zipcode')['price']\n",
    "                                     .mean()\n",
    "                                     .sort_values(ascending=True)\n",
    "                                     .head(15))\n",
    "lowest_price_zipcode = lowest_price_zipcode.reset_index()"
   ]
  },
  {
   "cell_type": "code",
   "execution_count": 25,
   "metadata": {},
   "outputs": [
    {
     "data": {
      "image/png": "[encoded data removed]",
      "text/plain": [
       "<Figure size 720x504 with 1 Axes>"
      ]
     },
     "metadata": {},
     "output_type": "display_data"
    }
   ],
   "source": [
    "# Plot them\n",
    "fig = plt.figure(figsize=(10,7))\n",
    "x1 = lowest_price_zipcode.zipcode\n",
    "y1 = lowest_price_zipcode.price\n",
    "sns.barplot(x=x1, y=y1, palette=palette)\n",
    "plt.title('Top 15 Lowest Mean Home Prices by Zipcode')\n",
    "plt.ylim(0, 950000)\n",
    "plt.ylabel('Mean Home Price')\n",
    "plt.show()"
   ]
  },
  {
   "cell_type": "code",
   "execution_count": 26,
   "metadata": {},
   "outputs": [],
   "source": [
    "# Of our top 15 highest mean-price zipcodes, which of them are waterfront?\n",
    "waterfront_zip = df.groupby(['waterfront', 'zipcode']).agg(mean_price =(\"price\",'mean'))\n",
    "waterfront_zip = waterfront_zip.reset_index()"
   ]
  },
  {
   "cell_type": "code",
   "execution_count": 27,
   "metadata": {
    "scrolled": true
   },
   "outputs": [],
   "source": [
    "waterfront_zip = waterfront_zip.loc[waterfront_zip['zipcode'].isin(x)]"
   ]
  },
  {
   "cell_type": "code",
   "execution_count": 28,
   "metadata": {
    "scrolled": true
   },
   "outputs": [
    {
     "data": {
      "image/png": "[encoded data removed]",
      "text/plain": [
       "<Figure size 720x504 with 1 Axes>"
      ]
     },
     "metadata": {},
     "output_type": "display_data"
    }
   ],
   "source": [
    "# Only 2 of those zipcodes have waterfront homes\n",
    "fig = plt.figure(figsize=(10,7))\n",
    "sns.barplot(x='zipcode', y='mean_price',\n",
    "            data=waterfront_zip,\n",
    "            hue='waterfront',\n",
    "            palette=palette)\n",
    "plt.title('Grouped Mean Home Prices by Zipcode')\n",
    "plt.ylabel('Mean Home Price')\n",
    "plt.show()"
   ]
  },
  {
   "cell_type": "code",
   "execution_count": 29,
   "metadata": {},
   "outputs": [
    {
     "data": {
      "text/html": [
       "<div>\n",
       "<style scoped>\n",
       "    .dataframe tbody tr th:only-of-type {\n",
       "        vertical-align: middle;\n",
       "    }\n",
       "\n",
       "    .dataframe tbody tr th {\n",
       "        vertical-align: top;\n",
       "    }\n",
       "\n",
       "    .dataframe thead th {\n",
       "        text-align: right;\n",
       "    }\n",
       "</style>\n",
       "<table border=\"1\" class=\"dataframe\">\n",
       "  <thead>\n",
       "    <tr style=\"text-align: right;\">\n",
       "      <th></th>\n",
       "      <th>waterfront</th>\n",
       "      <th>zipcode</th>\n",
       "      <th>mean_price</th>\n",
       "    </tr>\n",
       "  </thead>\n",
       "  <tbody>\n",
       "  </tbody>\n",
       "</table>\n",
       "</div>"
      ],
      "text/plain": [
       "Empty DataFrame\n",
       "Columns: [waterfront, zipcode, mean_price]\n",
       "Index: []"
      ]
     },
     "execution_count": 29,
     "metadata": {},
     "output_type": "execute_result"
    }
   ],
   "source": [
    "# Are any of the homes in the lowest-priced zipcodes waterfront?\n",
    "waterfront_zip2 = waterfront_zip.loc[waterfront_zip['zipcode'].isin(x1)]\n",
    "waterfront_zip2\n",
    "# No"
   ]
  },
  {
   "cell_type": "code",
   "execution_count": 30,
   "metadata": {},
   "outputs": [],
   "source": [
    "# Let's look at all waterfront homes and see where the highest mean prices are located\n",
    "waterfront_df = df.loc[df['waterfront'] == 1]"
   ]
  },
  {
   "cell_type": "code",
   "execution_count": 31,
   "metadata": {},
   "outputs": [],
   "source": [
    "waterfront_zipcode = pd.DataFrame(waterfront_df.groupby('zipcode')['price']\n",
    "                                     .mean()\n",
    "                                     .sort_values(ascending=False))\n",
    "waterfront_zipcode = waterfront_zipcode.reset_index()"
   ]
  },
  {
   "cell_type": "code",
   "execution_count": 59,
   "metadata": {
    "scrolled": true
   },
   "outputs": [
    {
     "data": {
      "image/png": "[encoded data removed]",
      "text/plain": [
       "<Figure size 720x504 with 1 Axes>"
      ]
     },
     "metadata": {},
     "output_type": "display_data"
    }
   ],
   "source": [
    "fig = plt.figure(figsize=(10,7))\n",
    "x2 = waterfront_zipcode.zipcode\n",
    "y2 = waterfront_zipcode.price\n",
    "sns.barplot(x=x2, y=y2, palette=palette)\n",
    "plt.title('Waterfront Mean Home Prices by Zipcode')\n",
    "plt.ylabel('Mean Home Price')\n",
    "plt.show()"
   ]
  },
  {
   "cell_type": "code",
   "execution_count": 33,
   "metadata": {},
   "outputs": [
    {
     "data": {
      "image/png": "[encoded data removed]",
      "text/plain": [
       "<Figure size 720x504 with 1 Axes>"
      ]
     },
     "metadata": {},
     "output_type": "display_data"
    }
   ],
   "source": [
    "# Distributions of waterfront home prices by zipcode\n",
    "fig = plt.figure(figsize=(10,7))\n",
    "sns.violinplot(x='zipcode', y='price', data=waterfront_df, palette=palette)\n",
    "plt.title('Distributions of Waterfront Home Prices')\n",
    "plt.show()"
   ]
  },
  {
   "cell_type": "code",
   "execution_count": 34,
   "metadata": {
    "scrolled": true
   },
   "outputs": [
    {
     "data": {
      "text/html": [
       "<div style=\"width:100%;\"><div style=\"position:relative;width:100%;height:0;padding-bottom:60%;\"><span style=\"color:#565656\">Make this Notebook Trusted to load map: File -> Trust Notebook</span><iframe src=\"about:blank\" style=\"position:absolute;width:100%;height:100%;left:0;top:0;border:none !important;\" data-html=PCFET0NUWVBFIGh0bWw+CjxoZWFkPiAgICAKICAgIDxtZXRhIGh0dHAtZXF1aXY9ImNvbnRlbnQtdHlwZSIgY29udGVudD0idGV4dC9odG1sOyBjaGFyc2V0PVVURi04IiAvPgogICAgCiAgICAgICAgPHNjcmlwdD4KICAgICAgICAgICAgTF9OT19UT1VDSCA9IGZhbHNlOwogICAgICAgICAgICBMX0RJU0FCTEVfM0QgPSBmYWxzZTsKICAgICAgICA8L3NjcmlwdD4KICAgIAogICAgPHNjcmlwdCBzcmM9Imh0dHBzOi8vY2RuLmpzZGVsaXZyLm5ldC9ucG0vbGVhZmxldEAxLjYuMC9kaXN0L2xlYWZsZXQuanMiPjwvc2NyaXB0PgogICAgPHNjcmlwdCBzcmM9Imh0dHBzOi8vY29kZS5qcXVlcnkuY29tL2pxdWVyeS0xLjEyLjQubWluLmpzIj48L3NjcmlwdD4KICAgIDxzY3JpcHQgc3JjPSJodHRwczovL21heGNkbi5ib290c3RyYXBjZG4uY29tL2Jvb3RzdHJhcC8zLjIuMC9qcy9ib290c3RyYXAubWluLmpzIj48L3NjcmlwdD4KICAgIDxzY3JpcHQgc3JjPSJodHRwczovL2NkbmpzLmNsb3VkZmxhcmUuY29tL2FqYXgvbGlicy9MZWFmbGV0LmF3ZXNvbWUtbWFya2Vycy8yLjAuMi9sZWFmbGV0LmF3ZXNvbWUtbWFya2Vycy5qcyI+PC9zY3JpcHQ+CiAgICA8bGluayByZWw9InN0eWxlc2hlZXQiIGhyZWY9Imh0dHBzOi8vY2RuLmpzZGVsaXZyLm5ldC9ucG0vbGVhZmxldEAxLjYuMC9kaXN0L2xlYWZsZXQuY3NzIi8+CiAgICA8bGluayByZWw9InN0eWxlc2hlZXQiIGhyZWY9Imh0dHBzOi8vbWF4Y2RuLmJvb3RzdHJhcGNkbi5jb20vYm9vdHN0cmFwLzMuMi4wL2Nzcy9ib290c3RyYXAubWluLmNzcyIvPgogICAgPGxpbmsgcmVsPSJzdHlsZXNoZWV0IiBocmVmPSJodHRwczovL21heGNkbi5ib290c3RyYXBjZG4uY29tL2Jvb3RzdHJhcC8zLjIuMC9jc3MvYm9vdHN0cmFwLXRoZW1lLm1pbi5jc3MiLz4KICAgIDxsaW5rIHJlbD0ic3R5bGVzaGVldCIgaHJlZj0iaHR0cHM6Ly9tYXhjZG4uYm9vdHN0cmFwY2RuLmNvbS9mb250LWF3ZXNvbWUvNC42LjMvY3NzL2ZvbnQtYXdlc29tZS5taW4uY3NzIi8+CiAgICA8bGluayByZWw9InN0eWxlc2hlZXQiIGhyZWY9Imh0dHBzOi8vY2RuanMuY2xvdWRmbGFyZS5jb20vYWpheC9saWJzL0xlYWZsZXQuYXdlc29tZS1tYXJrZXJzLzIuMC4yL2xlYWZsZXQuYXdlc29tZS1tYXJrZXJzLmNzcyIvPgogICAgPGxpbmsgcmVsPSJzdHlsZXNoZWV0IiBocmVmPSJodHRwczovL3Jhd2Nkbi5naXRoYWNrLmNvbS9weXRob24tdmlzdWFsaXphdGlvbi9mb2xpdW0vbWFzdGVyL2ZvbGl1bS90ZW1wbGF0ZXMvbGVhZmxldC5hd2Vzb21lLnJvdGF0ZS5jc3MiLz4KICAgIDxzdHlsZT5odG1sLCBib2R5IHt3aWR0aDogMTAwJTtoZWlnaHQ6IDEwMCU7bWFyZ2luOiAwO3BhZGRpbmc6IDA7fTwvc3R5bGU+CiAgICA8c3R5bGU+I21hcCB7cG9zaXRpb246YWJzb2x1dGU7dG9wOjA7Ym90dG9tOjA7cmlnaHQ6MDtsZWZ0OjA7fTwvc3R5bGU+CiAgICAKICAgICAgICAgICAgPG1ldGEgbmFtZT0idmlld3BvcnQiIGNvbnRlbnQ9IndpZHRoPWRldmljZS13aWR0aCwKICAgICAgICAgICAgICAgIGluaXRpYWwtc2NhbGU9MS4wLCBtYXhpbXVtLXNjYWxlPTEuMCwgdXNlci1zY2FsYWJsZT1ubyIgLz4KICAgICAgICAgICAgPHN0eWxlPgogICAgICAgICAgICAgICAgI21hcF9jNzgyZDhiNDViNjM0ZmQ2ODE4OWMyMDM2YmRjYWQ1NSB7CiAgICAgICAgICAgICAgICAgICAgcG9zaXRpb246IHJlbGF0aXZlOwogICAgICAgICAgICAgICAgICAgIHdpZHRoOiAxMDAuMCU7CiAgICAgICAgICAgICAgICAgICAgaGVpZ2h0OiAxMDAuMCU7CiAgICAgICAgICAgICAgICAgICAgbGVmdDogMC4wJTsKICAgICAgICAgICAgICAgICAgICB0b3A6IDAuMCU7CiAgICAgICAgICAgICAgICB9CiAgICAgICAgICAgIDwvc3R5bGU+CiAgICAgICAgCjwvaGVhZD4KPGJvZHk+ICAgIAogICAgCiAgICAgICAgICAgIDxkaXYgY2xhc3M9ImZvbGl1bS1tYXAiIGlkPSJtYXBfYzc4MmQ4YjQ1YjYzNGZkNjgxODljMjAzNmJkY2FkNTUiID48L2Rpdj4KICAgICAgICAKPC9ib2R5Pgo8c2NyaXB0PiAgICAKICAgIAogICAgICAgICAgICB2YXIgbWFwX2M3ODJkOGI0NWI2MzRmZDY4MTg5YzIwMzZiZGNhZDU1ID0gTC5tYXAoCiAgICAgICAgICAgICAgICAibWFwX2M3ODJkOGI0NWI2MzRmZDY4MTg5YzIwMzZiZGNhZDU1IiwKICAgICAgICAgICAgICAgIHsKICAgICAgICAgICAgICAgICAgICBjZW50ZXI6IFs0Ny41LCAtMTIyLjMzXSwKICAgICAgICAgICAgICAgICAgICBjcnM6IEwuQ1JTLkVQU0czODU3LAogICAgICAgICAgICAgICAgICAgIHpvb206IDEwLAogICAgICAgICAgICAgICAgICAgIHpvb21Db250cm9sOiB0cnVlLAogICAgICAgICAgICAgICAgICAgIHByZWZlckNhbnZhczogZmFsc2UsCiAgICAgICAgICAgICAgICB9CiAgICAgICAgICAgICk7CgogICAgICAgICAgICAKCiAgICAgICAgCiAgICAKICAgICAgICAgICAgdmFyIHRpbGVfbGF5ZXJfMjRmNWY4NWQyMTIwNGUwMmE5MWEyMzFiMGNhNzQ0YmEgPSBMLnRpbGVMYXllcigKICAgICAgICAgICAgICAgICJodHRwczovL3tzfS50aWxlLm9wZW5zdHJlZXRtYXAub3JnL3t6fS97eH0ve3l9LnBuZyIsCiAgICAgICAgICAgICAgICB7ImF0dHJpYnV0aW9uIjogIkRhdGEgYnkgXHUwMDI2Y29weTsgXHUwMDNjYSBocmVmPVwiaHR0cDovL29wZW5zdHJlZXRtYXAub3JnXCJcdTAwM2VPcGVuU3RyZWV0TWFwXHUwMDNjL2FcdTAwM2UsIHVuZGVyIFx1MDAzY2EgaHJlZj1cImh0dHA6Ly93d3cub3BlbnN0cmVldG1hcC5vcmcvY29weXJpZ2h0XCJcdTAwM2VPRGJMXHUwMDNjL2FcdTAwM2UuIiwgImRldGVjdFJldGluYSI6IGZhbHNlLCAibWF4TmF0aXZlWm9vbSI6IDE4LCAibWF4Wm9vbSI6IDE4LCAibWluWm9vbSI6IDAsICJub1dyYXAiOiBmYWxzZSwgIm9wYWNpdHkiOiAxLCAic3ViZG9tYWlucyI6ICJhYmMiLCAidG1zIjogZmFsc2V9CiAgICAgICAgICAgICkuYWRkVG8obWFwX2M3ODJkOGI0NWI2MzRmZDY4MTg5YzIwMzZiZGNhZDU1KTsKICAgICAgICAKICAgIAogICAgICAgICAgICB2YXIgbWFya2VyX2MwOWFlYTk2NWI4MTQ3ZmQ4ZTVlMDYyYjc1N2QxMjBlID0gTC5tYXJrZXIoCiAgICAgICAgICAgICAgICBbNDcuNDQ5NywgLTEyMi4zNzVdLAogICAgICAgICAgICAgICAge30KICAgICAgICAgICAgKS5hZGRUbyhtYXBfYzc4MmQ4YjQ1YjYzNGZkNjgxODljMjAzNmJkY2FkNTUpOwogICAgICAgIAogICAgCiAgICAgICAgdmFyIHBvcHVwXzlmY2FlZjk5ZDJjMzRkNGRhMmUzNDBhZTFiYjE4NDliID0gTC5wb3B1cCh7Im1heFdpZHRoIjogIjEwMCUifSk7CgogICAgICAgIAogICAgICAgICAgICB2YXIgaHRtbF80MmEzMjU1NzY5MTM0MmE5ODYwZDJhOWY1ODNjNDMyMSA9ICQoYDxkaXYgaWQ9Imh0bWxfNDJhMzI1NTc2OTEzNDJhOTg2MGQyYTlmNTgzYzQzMjEiIHN0eWxlPSJ3aWR0aDogMTAwLjAlOyBoZWlnaHQ6IDEwMC4wJTsiPjk4MTY2PC9kaXY+YClbMF07CiAgICAgICAgICAgIHBvcHVwXzlmY2FlZjk5ZDJjMzRkNGRhMmUzNDBhZTFiYjE4NDliLnNldENvbnRlbnQoaHRtbF80MmEzMjU1NzY5MTM0MmE5ODYwZDJhOWY1ODNjNDMyMSk7CiAgICAgICAgCgogICAgICAgIG1hcmtlcl9jMDlhZWE5NjViODE0N2ZkOGU1ZTA2MmI3NTdkMTIwZS5iaW5kUG9wdXAocG9wdXBfOWZjYWVmOTlkMmMzNGQ0ZGEyZTM0MGFlMWJiMTg0OWIpCiAgICAgICAgOwoKICAgICAgICAKICAgIAogICAgCiAgICAgICAgICAgIHZhciBtYXJrZXJfZTlmNTkzNjYxNzQ1NDQzNThlNWRlMTkyMjI1MTEwZjEgPSBMLm1hcmtlcigKICAgICAgICAgICAgICAgIFs0Ny40NjgzLCAtMTIyLjQzOF0sCiAgICAgICAgICAgICAgICB7fQogICAgICAgICAgICApLmFkZFRvKG1hcF9jNzgyZDhiNDViNjM0ZmQ2ODE4OWMyMDM2YmRjYWQ1NSk7CiAgICAgICAgCiAgICAKICAgICAgICB2YXIgcG9wdXBfOTBhYmNlMDliMGE5NDczNzhhY2QyNWQzYTAwOTU3M2UgPSBMLnBvcHVwKHsibWF4V2lkdGgiOiAiMTAwJSJ9KTsKCiAgICAgICAgCiAgICAgICAgICAgIHZhciBodG1sX2YyOWE4ZGVkN2VmOTRlOTFhNGU2MzA2MGFjZGYyYWI2ID0gJChgPGRpdiBpZD0iaHRtbF9mMjlhOGRlZDdlZjk0ZTkxYTRlNjMwNjBhY2RmMmFiNiIgc3R5bGU9IndpZHRoOiAxMDAuMCU7IGhlaWdodDogMTAwLjAlOyI+OTgwNzA8L2Rpdj5gKVswXTsKICAgICAgICAgICAgcG9wdXBfOTBhYmNlMDliMGE5NDczNzhhY2QyNWQzYTAwOTU3M2Uuc2V0Q29udGVudChodG1sX2YyOWE4ZGVkN2VmOTRlOTFhNGU2MzA2MGFjZGYyYWI2KTsKICAgICAgICAKCiAgICAgICAgbWFya2VyX2U5ZjU5MzY2MTc0NTQ0MzU4ZTVkZTE5MjIyNTExMGYxLmJpbmRQb3B1cChwb3B1cF85MGFiY2UwOWIwYTk0NzM3OGFjZDI1ZDNhMDA5NTczZSkKICAgICAgICA7CgogICAgICAgIAogICAgCiAgICAKICAgICAgICAgICAgdmFyIG1hcmtlcl82OWM0OGY1NjEyYWQ0NjA1OTFhNDhlZWMyYTY3NGM3YyA9IEwubWFya2VyKAogICAgICAgICAgICAgICAgWzQ3LjM4NDQsIC0xMjIuNDM4XSwKICAgICAgICAgICAgICAgIHt9CiAgICAgICAgICAgICkuYWRkVG8obWFwX2M3ODJkOGI0NWI2MzRmZDY4MTg5YzIwMzZiZGNhZDU1KTsKICAgICAgICAKICAgIAogICAgICAgIHZhciBwb3B1cF9mMzU2ZWUzMjA5YmI0NWY4YWFlZDE0MDIyOTkwOWQ1ZiA9IEwucG9wdXAoeyJtYXhXaWR0aCI6ICIxMDAlIn0pOwoKICAgICAgICAKICAgICAgICAgICAgdmFyIGh0bWxfY2JmM2NhZjgyYWMxNGUwNTg4NDg1ZjZjMjVlM2E3MTIgPSAkKGA8ZGl2IGlkPSJodG1sX2NiZjNjYWY4MmFjMTRlMDU4ODQ4NWY2YzI1ZTNhNzEyIiBzdHlsZT0id2lkdGg6IDEwMC4wJTsgaGVpZ2h0OiAxMDAuMCU7Ij45ODA3MDwvZGl2PmApWzBdOwogICAgICAgICAgICBwb3B1cF9mMzU2ZWUzMjA5YmI0NWY4YWFlZDE0MDIyOTkwOWQ1Zi5zZXRDb250ZW50KGh0bWxfY2JmM2NhZjgyYWMxNGUwNTg4NDg1ZjZjMjVlM2E3MTIpOwogICAgICAgIAoKICAgICAgICBtYXJrZXJfNjljNDhmNTYxMmFkNDYwNTkxYTQ4ZWVjMmE2NzRjN2MuYmluZFBvcHVwKHBvcHVwX2YzNTZlZTMyMDliYjQ1ZjhhYWVkMTQwMjI5OTA5ZDVmKQogICAgICAgIDsKCiAgICAgICAgCiAgICAKICAgIAogICAgICAgICAgICB2YXIgbWFya2VyX2NmZGI5ZjAyNjAxODRkNWRhN2EyNmI5NzM3NzdjNjAzID0gTC5tYXJrZXIoCiAgICAgICAgICAgICAgICBbNDcuNTAyLCAtMTIyLjIyMl0sCiAgICAgICAgICAgICAgICB7fQogICAgICAgICAgICApLmFkZFRvKG1hcF9jNzgyZDhiNDViNjM0ZmQ2ODE4OWMyMDM2YmRjYWQ1NSk7CiAgICAgICAgCiAgICAKICAgICAgICB2YXIgcG9wdXBfMzI2OTYwMmJmN2ZiNDE5YjliZDk5YzE0YjVjZDViODQgPSBMLnBvcHVwKHsibWF4V2lkdGgiOiAiMTAwJSJ9KTsKCiAgICAgICAgCiAgICAgICAgICAgIHZhciBodG1sXzhjNjhjMTFmMWZkNjQ5MmFiMjk2Mjk0ZjUxYzljZjc2ID0gJChgPGRpdiBpZD0iaHRtbF84YzY4YzExZjFmZDY0OTJhYjI5NjI5NGY1MWM5Y2Y3NiIgc3R5bGU9IndpZHRoOiAxMDAuMCU7IGhlaWdodDogMTAwLjAlOyI+OTgxNzg8L2Rpdj5gKVswXTsKICAgICAgICAgICAgcG9wdXBfMzI2OTYwMmJmN2ZiNDE5YjliZDk5YzE0YjVjZDViODQuc2V0Q29udGVudChodG1sXzhjNjhjMTFmMWZkNjQ5MmFiMjk2Mjk0ZjUxYzljZjc2KTsKICAgICAgICAKCiAgICAgICAgbWFya2VyX2NmZGI5ZjAyNjAxODRkNWRhN2EyNmI5NzM3NzdjNjAzLmJpbmRQb3B1cChwb3B1cF8zMjY5NjAyYmY3ZmI0MTliOWJkOTljMTRiNWNkNWI4NCkKICAgICAgICA7CgogICAgICAgIAogICAgCiAgICAKICAgICAgICAgICAgdmFyIG1hcmtlcl82ODQ4ZjRlZGRlYWE0OTE5OWZlMGJiOGVmMDNlZDQ1MyA9IEwubWFya2VyKAogICAgICAgICAgICAgICAgWzQ3LjUxMDUsIC0xMjIuMjM4XSwKICAgICAgICAgICAgICAgIHt9CiAgICAgICAgICAgICkuYWRkVG8obWFwX2M3ODJkOGI0NWI2MzRmZDY4MTg5YzIwMzZiZGNhZDU1KTsKICAgICAgICAKICAgIAogICAgICAgIHZhciBwb3B1cF8yZjEyM2QwZDdlNTQ0NjljYTE5YzUxMzVlODBhYjJmNyA9IEwucG9wdXAoeyJtYXhXaWR0aCI6ICIxMDAlIn0pOwoKICAgICAgICAKICAgICAgICAgICAgdmFyIGh0bWxfNjcwZDJlMjA0YzhlNGY1OThiZGMwMWUyMDJhY2I1ZmUgPSAkKGA8ZGl2IGlkPSJodG1sXzY3MGQyZTIwNGM4ZTRmNTk4YmRjMDFlMjAyYWNiNWZlIiBzdHlsZT0id2lkdGg6IDEwMC4wJTsgaGVpZ2h0OiAxMDAuMCU7Ij45ODE3ODwvZGl2PmApWzBdOwogICAgICAgICAgICBwb3B1cF8yZjEyM2QwZDdlNTQ0NjljYTE5YzUxMzVlODBhYjJmNy5zZXRDb250ZW50KGh0bWxfNjcwZDJlMjA0YzhlNGY1OThiZGMwMWUyMDJhY2I1ZmUpOwogICAgICAgIAoKICAgICAgICBtYXJrZXJfNjg0OGY0ZWRkZWFhNDkxOTlmZTBiYjhlZjAzZWQ0NTMuYmluZFBvcHVwKHBvcHVwXzJmMTIzZDBkN2U1NDQ2OWNhMTljNTEzNWU4MGFiMmY3KQogICAgICAgIDsKCiAgICAgICAgCiAgICAKICAgIAogICAgICAgICAgICB2YXIgbWFya2VyXzU0MmM4YTNhZDA5MzQ0NmZiY2Y1YTBiYmYxMDQzNmEyID0gTC5tYXJrZXIoCiAgICAgICAgICAgICAgICBbNDcuNDMzOSwgLTEyMi41MTJdLAogICAgICAgICAgICAgICAge30KICAgICAgICAgICAgKS5hZGRUbyhtYXBfYzc4MmQ4YjQ1YjYzNGZkNjgxODljMjAzNmJkY2FkNTUpOwogICAgICAgIAogICAgCiAgICAgICAgdmFyIHBvcHVwXzkyNDJmZWQ1YTU5ZDRhYTA4Zjg5ZTY3MGUxMzI5NmNkID0gTC5wb3B1cCh7Im1heFdpZHRoIjogIjEwMCUifSk7CgogICAgICAgIAogICAgICAgICAgICB2YXIgaHRtbF9hMmZmOWQ0YzIxMzc0NTQzOGQ4YzgzYzY2OTYxYTAyNCA9ICQoYDxkaXYgaWQ9Imh0bWxfYTJmZjlkNGMyMTM3NDU0MzhkOGM4M2M2Njk2MWEwMjQiIHN0eWxlPSJ3aWR0aDogMTAwLjAlOyBoZWlnaHQ6IDEwMC4wJTsiPjk4MDcwPC9kaXY+YClbMF07CiAgICAgICAgICAgIHBvcHVwXzkyNDJmZWQ1YTU5ZDRhYTA4Zjg5ZTY3MGUxMzI5NmNkLnNldENvbnRlbnQoaHRtbF9hMmZmOWQ0YzIxMzc0NTQzOGQ4YzgzYzY2OTYxYTAyNCk7CiAgICAgICAgCgogICAgICAgIG1hcmtlcl81NDJjOGEzYWQwOTM0NDZmYmNmNWEwYmJmMTA0MzZhMi5iaW5kUG9wdXAocG9wdXBfOTI0MmZlZDVhNTlkNGFhMDhmODllNjcwZTEzMjk2Y2QpCiAgICAgICAgOwoKICAgICAgICAKICAgIAogICAgCiAgICAgICAgICAgIHZhciBtYXJrZXJfZjMxMDEyMDhiZWRmNGE5NzkwMTFmOWIyOGRhODVhMTMgPSBMLm1hcmtlcigKICAgICAgICAgICAgICAgIFs0Ny40NzM0LCAtMTIyLjM2NV0sCiAgICAgICAgICAgICAgICB7fQogICAgICAgICAgICApLmFkZFRvKG1hcF9jNzgyZDhiNDViNjM0ZmQ2ODE4OWMyMDM2YmRjYWQ1NSk7CiAgICAgICAgCiAgICAKICAgICAgICB2YXIgcG9wdXBfMTgzMjI0MGUxY2Q4NDRmYWE4MTEzN2RlZTVlMDUyZmMgPSBMLnBvcHVwKHsibWF4V2lkdGgiOiAiMTAwJSJ9KTsKCiAgICAgICAgCiAgICAgICAgICAgIHZhciBodG1sX2IzZWMzNzMwYTFjZTRiNmJhOWNjMDgwZjEyYzQ5NWY3ID0gJChgPGRpdiBpZD0iaHRtbF9iM2VjMzczMGExY2U0YjZiYTljYzA4MGYxMmM0OTVmNyIgc3R5bGU9IndpZHRoOiAxMDAuMCU7IGhlaWdodDogMTAwLjAlOyI+OTgxNjY8L2Rpdj5gKVswXTsKICAgICAgICAgICAgcG9wdXBfMTgzMjI0MGUxY2Q4NDRmYWE4MTEzN2RlZTVlMDUyZmMuc2V0Q29udGVudChodG1sX2IzZWMzNzMwYTFjZTRiNmJhOWNjMDgwZjEyYzQ5NWY3KTsKICAgICAgICAKCiAgICAgICAgbWFya2VyX2YzMTAxMjA4YmVkZjRhOTc5MDExZjliMjhkYTg1YTEzLmJpbmRQb3B1cChwb3B1cF8xODMyMjQwZTFjZDg0NGZhYTgxMTM3ZGVlNWUwNTJmYykKICAgICAgICA7CgogICAgICAgIAogICAgCiAgICAKICAgICAgICAgICAgdmFyIG1hcmtlcl8wMjkyNGMwNjJmYTc0Nzc4YmU3ZGIzYTg3OGMyMzI4NiA9IEwubWFya2VyKAogICAgICAgICAgICAgICAgWzQ3LjY0NSwgLTEyMi4wODRdLAogICAgICAgICAgICAgICAge30KICAgICAgICAgICAgKS5hZGRUbyhtYXBfYzc4MmQ4YjQ1YjYzNGZkNjgxODljMjAzNmJkY2FkNTUpOwogICAgICAgIAogICAgCiAgICAgICAgdmFyIHBvcHVwX2NjNzMxYTBhYzc1MDQ0YmRiZDc2OGViN2UyYTRiMTEwID0gTC5wb3B1cCh7Im1heFdpZHRoIjogIjEwMCUifSk7CgogICAgICAgIAogICAgICAgICAgICB2YXIgaHRtbF81YzdiYTU5MDJkNzA0NDhiYmExZTQ3OTE2ZDVmNDQ4MCA9ICQoYDxkaXYgaWQ9Imh0bWxfNWM3YmE1OTAyZDcwNDQ4YmJhMWU0NzkxNmQ1ZjQ0ODAiIHN0eWxlPSJ3aWR0aDogMTAwLjAlOyBoZWlnaHQ6IDEwMC4wJTsiPjk4MDc0PC9kaXY+YClbMF07CiAgICAgICAgICAgIHBvcHVwX2NjNzMxYTBhYzc1MDQ0YmRiZDc2OGViN2UyYTRiMTEwLnNldENvbnRlbnQoaHRtbF81YzdiYTU5MDJkNzA0NDhiYmExZTQ3OTE2ZDVmNDQ4MCk7CiAgICAgICAgCgogICAgICAgIG1hcmtlcl8wMjkyNGMwNjJmYTc0Nzc4YmU3ZGIzYTg3OGMyMzI4Ni5iaW5kUG9wdXAocG9wdXBfY2M3MzFhMGFjNzUwNDRiZGJkNzY4ZWI3ZTJhNGIxMTApCiAgICAgICAgOwoKICAgICAgICAKICAgIAogICAgCiAgICAgICAgICAgIHZhciBtYXJrZXJfODJhY2YyYzUyYTFlNGZlZjllYTY3MDBkYzNlNTNhM2EgPSBMLm1hcmtlcigKICAgICAgICAgICAgICAgIFs0Ny4zODUzLCAtMTIyLjQ3OV0sCiAgICAgICAgICAgICAgICB7fQogICAgICAgICAgICApLmFkZFRvKG1hcF9jNzgyZDhiNDViNjM0ZmQ2ODE4OWMyMDM2YmRjYWQ1NSk7CiAgICAgICAgCiAgICAKICAgICAgICB2YXIgcG9wdXBfYmY5ZTY1MzYxM2Y1NDI4MmI5NDc5YTY3MWU2MDc2MjkgPSBMLnBvcHVwKHsibWF4V2lkdGgiOiAiMTAwJSJ9KTsKCiAgICAgICAgCiAgICAgICAgICAgIHZhciBodG1sXzM4MWM1NjNmNWJiZDRjMDA5YTIyN2ZhMTJjODU4NmI5ID0gJChgPGRpdiBpZD0iaHRtbF8zODFjNTYzZjViYmQ0YzAwOWEyMjdmYTEyYzg1ODZiOSIgc3R5bGU9IndpZHRoOiAxMDAuMCU7IGhlaWdodDogMTAwLjAlOyI+OTgwNzA8L2Rpdj5gKVswXTsKICAgICAgICAgICAgcG9wdXBfYmY5ZTY1MzYxM2Y1NDI4MmI5NDc5YTY3MWU2MDc2Mjkuc2V0Q29udGVudChodG1sXzM4MWM1NjNmNWJiZDRjMDA5YTIyN2ZhMTJjODU4NmI5KTsKICAgICAgICAKCiAgICAgICAgbWFya2VyXzgyYWNmMmM1MmExZTRmZWY5ZWE2NzAwZGMzZTUzYTNhLmJpbmRQb3B1cChwb3B1cF9iZjllNjUzNjEzZjU0MjgyYjk0NzlhNjcxZTYwNzYyOSkKICAgICAgICA7CgogICAgICAgIAogICAgCiAgICAKICAgICAgICAgICAgdmFyIG1hcmtlcl9hOTYxZmJkYzBlY2Y0ZDA5YWM5MDk5YzdmNzM5ZmNiNSA9IEwubWFya2VyKAogICAgICAgICAgICAgICAgWzQ3LjM3ODIsIC0xMjIuNTE0XSwKICAgICAgICAgICAgICAgIHt9CiAgICAgICAgICAgICkuYWRkVG8obWFwX2M3ODJkOGI0NWI2MzRmZDY4MTg5YzIwMzZiZGNhZDU1KTsKICAgICAgICAKICAgIAogICAgICAgIHZhciBwb3B1cF9hZDkxMjQ5MDNjMzc0NzFjYjBlNWNiZWUyMjY4OTNmZiA9IEwucG9wdXAoeyJtYXhXaWR0aCI6ICIxMDAlIn0pOwoKICAgICAgICAKICAgICAgICAgICAgdmFyIGh0bWxfYzM4ZTYyZGZlNDRmNDQ5NGIxMzg5ZjY3MGFjMWI0MWIgPSAkKGA8ZGl2IGlkPSJodG1sX2MzOGU2MmRmZTQ0ZjQ0OTRiMTM4OWY2NzBhYzFiNDFiIiBzdHlsZT0id2lkdGg6IDEwMC4wJTsgaGVpZ2h0OiAxMDAuMCU7Ij45ODA3MDwvZGl2PmApWzBdOwogICAgICAgICAgICBwb3B1cF9hZDkxMjQ5MDNjMzc0NzFjYjBlNWNiZWUyMjY4OTNmZi5zZXRDb250ZW50KGh0bWxfYzM4ZTYyZGZlNDRmNDQ5NGIxMzg5ZjY3MGFjMWI0MWIpOwogICAgICAgIAoKICAgICAgICBtYXJrZXJfYTk2MWZiZGMwZWNmNGQwOWFjOTA5OWM3ZjczOWZjYjUuYmluZFBvcHVwKHBvcHVwX2FkOTEyNDkwM2MzNzQ3MWNiMGU1Y2JlZTIyNjg5M2ZmKQogICAgICAgIDsKCiAgICAgICAgCiAgICAKICAgIAogICAgICAgICAgICB2YXIgbWFya2VyXzdjZWZiMDMzNDkwNzQ4MDY4YzVmMWM4OGJhZjQ3M2NlID0gTC5tYXJrZXIoCiAgICAgICAgICAgICAgICBbNDcuNTExNywgLTEyMi4yNDhdLAogICAgICAgICAgICAgICAge30KICAgICAgICAgICAgKS5hZGRUbyhtYXBfYzc4MmQ4YjQ1YjYzNGZkNjgxODljMjAzNmJkY2FkNTUpOwogICAgICAgIAogICAgCiAgICAgICAgdmFyIHBvcHVwXzNkYWY4MGI5YjFkMzQ5MjhhNjJiMTU5ZTJiYTMyNmM1ID0gTC5wb3B1cCh7Im1heFdpZHRoIjogIjEwMCUifSk7CgogICAgICAgIAogICAgICAgICAgICB2YXIgaHRtbF9kMTllMzM3MGJjMGU0MmZiODg3ZDA2ZTQ0ZGRjYmMwNCA9ICQoYDxkaXYgaWQ9Imh0bWxfZDE5ZTMzNzBiYzBlNDJmYjg4N2QwNmU0NGRkY2JjMDQiIHN0eWxlPSJ3aWR0aDogMTAwLjAlOyBoZWlnaHQ6IDEwMC4wJTsiPjk4MTc4PC9kaXY+YClbMF07CiAgICAgICAgICAgIHBvcHVwXzNkYWY4MGI5YjFkMzQ5MjhhNjJiMTU5ZTJiYTMyNmM1LnNldENvbnRlbnQoaHRtbF9kMTllMzM3MGJjMGU0MmZiODg3ZDA2ZTQ0ZGRjYmMwNCk7CiAgICAgICAgCgogICAgICAgIG1hcmtlcl83Y2VmYjAzMzQ5MDc0ODA2OGM1ZjFjODhiYWY0NzNjZS5iaW5kUG9wdXAocG9wdXBfM2RhZjgwYjliMWQzNDkyOGE2MmIxNTllMmJhMzI2YzUpCiAgICAgICAgOwoKICAgICAgICAKICAgIAogICAgCiAgICAgICAgICAgIHZhciBtYXJrZXJfZmY5Y2FkNjg3Y2NiNGIzY2FjNDgyZmRmOTc5ODhjZTYgPSBMLm1hcmtlcigKICAgICAgICAgICAgICAgIFs0Ny41NDg4LCAtMTIyLjE5N10sCiAgICAgICAgICAgICAgICB7fQogICAgICAgICAgICApLmFkZFRvKG1hcF9jNzgyZDhiNDViNjM0ZmQ2ODE4OWMyMDM2YmRjYWQ1NSk7CiAgICAgICAgCiAgICAKICAgICAgICB2YXIgcG9wdXBfNzY4ODI4MDhhNmIyNDAyNmIwYWMyYTIyZWI3M2VmYjUgPSBMLnBvcHVwKHsibWF4V2lkdGgiOiAiMTAwJSJ9KTsKCiAgICAgICAgCiAgICAgICAgICAgIHZhciBodG1sXzI4OGI0OTI5NDgxNTRhMGY4MmE2NjEzYWUxNDZlMWIyID0gJChgPGRpdiBpZD0iaHRtbF8yODhiNDkyOTQ4MTU0YTBmODJhNjYxM2FlMTQ2ZTFiMiIgc3R5bGU9IndpZHRoOiAxMDAuMCU7IGhlaWdodDogMTAwLjAlOyI+OTgwMDY8L2Rpdj5gKVswXTsKICAgICAgICAgICAgcG9wdXBfNzY4ODI4MDhhNmIyNDAyNmIwYWMyYTIyZWI3M2VmYjUuc2V0Q29udGVudChodG1sXzI4OGI0OTI5NDgxNTRhMGY4MmE2NjEzYWUxNDZlMWIyKTsKICAgICAgICAKCiAgICAgICAgbWFya2VyX2ZmOWNhZDY4N2NjYjRiM2NhYzQ4MmZkZjk3OTg4Y2U2LmJpbmRQb3B1cChwb3B1cF83Njg4MjgwOGE2YjI0MDI2YjBhYzJhMjJlYjczZWZiNSkKICAgICAgICA7CgogICAgICAgIAogICAgCiAgICAKICAgICAgICAgICAgdmFyIG1hcmtlcl80MjRlZDEzYmQxNWI0MWM3YWIzY2I5MGY3YzcwNjgyNyA9IEwubWFya2VyKAogICAgICAgICAgICAgICAgWzQ3LjMzMTIsIC0xMjIuNTAzXSwKICAgICAgICAgICAgICAgIHt9CiAgICAgICAgICAgICkuYWRkVG8obWFwX2M3ODJkOGI0NWI2MzRmZDY4MTg5YzIwMzZiZGNhZDU1KTsKICAgICAgICAKICAgIAogICAgICAgIHZhciBwb3B1cF83YTRkNDk1NzRlYzQ0OTE1OTgyODlkYmYxZDRiYmFiNSA9IEwucG9wdXAoeyJtYXhXaWR0aCI6ICIxMDAlIn0pOwoKICAgICAgICAKICAgICAgICAgICAgdmFyIGh0bWxfYmU2OTkxOWM5ZDk4NDU5ZjgxNjA4ODViY2U5OTExYzMgPSAkKGA8ZGl2IGlkPSJodG1sX2JlNjk5MTljOWQ5ODQ1OWY4MTYwODg1YmNlOTkxMWMzIiBzdHlsZT0id2lkdGg6IDEwMC4wJTsgaGVpZ2h0OiAxMDAuMCU7Ij45ODA3MDwvZGl2PmApWzBdOwogICAgICAgICAgICBwb3B1cF83YTRkNDk1NzRlYzQ0OTE1OTgyODlkYmYxZDRiYmFiNS5zZXRDb250ZW50KGh0bWxfYmU2OTkxOWM5ZDk4NDU5ZjgxNjA4ODViY2U5OTExYzMpOwogICAgICAgIAoKICAgICAgICBtYXJrZXJfNDI0ZWQxM2JkMTViNDFjN2FiM2NiOTBmN2M3MDY4MjcuYmluZFBvcHVwKHBvcHVwXzdhNGQ0OTU3NGVjNDQ5MTU5ODI4OWRiZjFkNGJiYWI1KQogICAgICAgIDsKCiAgICAgICAgCiAgICAKICAgIAogICAgICAgICAgICB2YXIgbWFya2VyX2M5ZmYyZGE1ZmY5ODQwZDE5MDZmYzIyY2IxMGUxZGM0ID0gTC5tYXJrZXIoCiAgICAgICAgICAgICAgICBbNDcuNDI4NSwgLTEyMi41MTFdLAogICAgICAgICAgICAgICAge30KICAgICAgICAgICAgKS5hZGRUbyhtYXBfYzc4MmQ4YjQ1YjYzNGZkNjgxODljMjAzNmJkY2FkNTUpOwogICAgICAgIAogICAgCiAgICAgICAgdmFyIHBvcHVwXzUzZGI0M2FmNTUxMzQ2Njk5NTZmZjg5ZDE3ZmZlNDU0ID0gTC5wb3B1cCh7Im1heFdpZHRoIjogIjEwMCUifSk7CgogICAgICAgIAogICAgICAgICAgICB2YXIgaHRtbF84ODc3NzUzZGViNzE0NGFkOGJiZTY0ZTAyMTJiNWYxZCA9ICQoYDxkaXYgaWQ9Imh0bWxfODg3Nzc1M2RlYjcxNDRhZDhiYmU2NGUwMjEyYjVmMWQiIHN0eWxlPSJ3aWR0aDogMTAwLjAlOyBoZWlnaHQ6IDEwMC4wJTsiPjk4MDcwPC9kaXY+YClbMF07CiAgICAgICAgICAgIHBvcHVwXzUzZGI0M2FmNTUxMzQ2Njk5NTZmZjg5ZDE3ZmZlNDU0LnNldENvbnRlbnQoaHRtbF84ODc3NzUzZGViNzE0NGFkOGJiZTY0ZTAyMTJiNWYxZCk7CiAgICAgICAgCgogICAgICAgIG1hcmtlcl9jOWZmMmRhNWZmOTg0MGQxOTA2ZmMyMmNiMTBlMWRjNC5iaW5kUG9wdXAocG9wdXBfNTNkYjQzYWY1NTEzNDY2OTk1NmZmODlkMTdmZmU0NTQpCiAgICAgICAgOwoKICAgICAgICAKICAgIAogICAgCiAgICAgICAgICAgIHZhciBtYXJrZXJfM2Q4NTViMzQ5MmQxNDAzMTllMzZiYzkxOWEzZmQ3ZDkgPSBMLm1hcmtlcigKICAgICAgICAgICAgICAgIFs0Ny4zMjc2LCAtMTIyLjM4OV0sCiAgICAgICAgICAgICAgICB7fQogICAgICAgICAgICApLmFkZFRvKG1hcF9jNzgyZDhiNDViNjM0ZmQ2ODE4OWMyMDM2YmRjYWQ1NSk7CiAgICAgICAgCiAgICAKICAgICAgICB2YXIgcG9wdXBfNmE3YThkMTliN2M4NDc5ZDg0ZWFhMmQ0N2VjMDY5MDMgPSBMLnBvcHVwKHsibWF4V2lkdGgiOiAiMTAwJSJ9KTsKCiAgICAgICAgCiAgICAgICAgICAgIHZhciBodG1sXzRjYzdhM2E3ZjVkODQ0OWRhNzEwMzcxMTFjMzk0NGI5ID0gJChgPGRpdiBpZD0iaHRtbF80Y2M3YTNhN2Y1ZDg0NDlkYTcxMDM3MTExYzM5NDRiOSIgc3R5bGU9IndpZHRoOiAxMDAuMCU7IGhlaWdodDogMTAwLjAlOyI+OTgwMjM8L2Rpdj5gKVswXTsKICAgICAgICAgICAgcG9wdXBfNmE3YThkMTliN2M4NDc5ZDg0ZWFhMmQ0N2VjMDY5MDMuc2V0Q29udGVudChodG1sXzRjYzdhM2E3ZjVkODQ0OWRhNzEwMzcxMTFjMzk0NGI5KTsKICAgICAgICAKCiAgICAgICAgbWFya2VyXzNkODU1YjM0OTJkMTQwMzE5ZTM2YmM5MTlhM2ZkN2Q5LmJpbmRQb3B1cChwb3B1cF82YTdhOGQxOWI3Yzg0NzlkODRlYWEyZDQ3ZWMwNjkwMykKICAgICAgICA7CgogICAgICAgIAogICAgCiAgICAKICAgICAgICAgICAgdmFyIG1hcmtlcl9iMzk5ODI4NTNiYTk0YjJmODEyMmVjZjEyNjg3ZTYwYSA9IEwubWFya2VyKAogICAgICAgICAgICAgICAgWzQ3LjUxOTMsIC0xMjIuMjU3XSwKICAgICAgICAgICAgICAgIHt9CiAgICAgICAgICAgICkuYWRkVG8obWFwX2M3ODJkOGI0NWI2MzRmZDY4MTg5YzIwMzZiZGNhZDU1KTsKICAgICAgICAKICAgIAogICAgICAgIHZhciBwb3B1cF9hZmY2ZmFkNzE4OTY0YzYxODZhNWZkMDdjNjUwYjdkYSA9IEwucG9wdXAoeyJtYXhXaWR0aCI6ICIxMDAlIn0pOwoKICAgICAgICAKICAgICAgICAgICAgdmFyIGh0bWxfYTI1M2Q1M2QxYjg3NDM3NDllZWQ5ZDJjOWI2OWQ4MzUgPSAkKGA8ZGl2IGlkPSJodG1sX2EyNTNkNTNkMWI4NzQzNzQ5ZWVkOWQyYzliNjlkODM1IiBzdHlsZT0id2lkdGg6IDEwMC4wJTsgaGVpZ2h0OiAxMDAuMCU7Ij45ODExODwvZGl2PmApWzBdOwogICAgICAgICAgICBwb3B1cF9hZmY2ZmFkNzE4OTY0YzYxODZhNWZkMDdjNjUwYjdkYS5zZXRDb250ZW50KGh0bWxfYTI1M2Q1M2QxYjg3NDM3NDllZWQ5ZDJjOWI2OWQ4MzUpOwogICAgICAgIAoKICAgICAgICBtYXJrZXJfYjM5OTgyODUzYmE5NGIyZjgxMjJlY2YxMjY4N2U2MGEuYmluZFBvcHVwKHBvcHVwX2FmZjZmYWQ3MTg5NjRjNjE4NmE1ZmQwN2M2NTBiN2RhKQogICAgICAgIDsKCiAgICAgICAgCiAgICAKICAgIAogICAgICAgICAgICB2YXIgbWFya2VyX2VhOTM1MDQ0YTAxNzQ2ZTQ5OGRjMTZkYjExNTA2NzlmID0gTC5tYXJrZXIoCiAgICAgICAgICAgICAgICBbNDcuMzMzOCwgLTEyMi41MTFdLAogICAgICAgICAgICAgICAge30KICAgICAgICAgICAgKS5hZGRUbyhtYXBfYzc4MmQ4YjQ1YjYzNGZkNjgxODljMjAzNmJkY2FkNTUpOwogICAgICAgIAogICAgCiAgICAgICAgdmFyIHBvcHVwX2RmYzZiOGExZTE0NTRmYzViODM5ZjFjNzQ2NzFkMTlhID0gTC5wb3B1cCh7Im1heFdpZHRoIjogIjEwMCUifSk7CgogICAgICAgIAogICAgICAgICAgICB2YXIgaHRtbF85NmRlYTUxNzgwYTY0YTdkYjA1NWUxMTllZTcxYTg2NSA9ICQoYDxkaXYgaWQ9Imh0bWxfOTZkZWE1MTc4MGE2NGE3ZGIwNTVlMTE5ZWU3MWE4NjUiIHN0eWxlPSJ3aWR0aDogMTAwLjAlOyBoZWlnaHQ6IDEwMC4wJTsiPjk4MDcwPC9kaXY+YClbMF07CiAgICAgICAgICAgIHBvcHVwX2RmYzZiOGExZTE0NTRmYzViODM5ZjFjNzQ2NzFkMTlhLnNldENvbnRlbnQoaHRtbF85NmRlYTUxNzgwYTY0YTdkYjA1NWUxMTllZTcxYTg2NSk7CiAgICAgICAgCgogICAgICAgIG1hcmtlcl9lYTkzNTA0NGEwMTc0NmU0OThkYzE2ZGIxMTUwNjc5Zi5iaW5kUG9wdXAocG9wdXBfZGZjNmI4YTFlMTQ1NGZjNWI4MzlmMWM3NDY3MWQxOWEpCiAgICAgICAgOwoKICAgICAgICAKICAgIAogICAgCiAgICAgICAgICAgIHZhciBtYXJrZXJfOWRhMDg0NTUwMmIxNDNmMDk2MTNmNGEwYmVhNWZkMmUgPSBMLm1hcmtlcigKICAgICAgICAgICAgICAgIFs0Ny4zNTU0LCAtMTIyLjMyNF0sCiAgICAgICAgICAgICAgICB7fQogICAgICAgICAgICApLmFkZFRvKG1hcF9jNzgyZDhiNDViNjM0ZmQ2ODE4OWMyMDM2YmRjYWQ1NSk7CiAgICAgICAgCiAgICAKICAgICAgICB2YXIgcG9wdXBfZWFiNzRkYjlkYWQ2NDc0NmI4M2YyYmViZjBjMzc4ZWEgPSBMLnBvcHVwKHsibWF4V2lkdGgiOiAiMTAwJSJ9KTsKCiAgICAgICAgCiAgICAgICAgICAgIHZhciBodG1sXzdmNmRiYjQ3MDQ0OTQwYzdhYmY2NGNlMzQxNjBmOTI3ID0gJChgPGRpdiBpZD0iaHRtbF83ZjZkYmI0NzA0NDk0MGM3YWJmNjRjZTM0MTYwZjkyNyIgc3R5bGU9IndpZHRoOiAxMDAuMCU7IGhlaWdodDogMTAwLjAlOyI+OTgxOTg8L2Rpdj5gKVswXTsKICAgICAgICAgICAgcG9wdXBfZWFiNzRkYjlkYWQ2NDc0NmI4M2YyYmViZjBjMzc4ZWEuc2V0Q29udGVudChodG1sXzdmNmRiYjQ3MDQ0OTQwYzdhYmY2NGNlMzQxNjBmOTI3KTsKICAgICAgICAKCiAgICAgICAgbWFya2VyXzlkYTA4NDU1MDJiMTQzZjA5NjEzZjRhMGJlYTVmZDJlLmJpbmRQb3B1cChwb3B1cF9lYWI3NGRiOWRhZDY0NzQ2YjgzZjJiZWJmMGMzNzhlYSkKICAgICAgICA7CgogICAgICAgIAogICAgCiAgICAKICAgICAgICAgICAgdmFyIG1hcmtlcl9jMDczMTFkZTg3OTk0OTlkOTg0MzY1ZDM5OWExNTIxZiA9IEwubWFya2VyKAogICAgICAgICAgICAgICAgWzQ3LjMzMTEsIC0xMjIuMzc1XSwKICAgICAgICAgICAgICAgIHt9CiAgICAgICAgICAgICkuYWRkVG8obWFwX2M3ODJkOGI0NWI2MzRmZDY4MTg5YzIwMzZiZGNhZDU1KTsKICAgICAgICAKICAgIAogICAgICAgIHZhciBwb3B1cF84NjhhMGJhZmMyMGM0ZTNlYTIzNWJkZGY5NjU2YWI0OSA9IEwucG9wdXAoeyJtYXhXaWR0aCI6ICIxMDAlIn0pOwoKICAgICAgICAKICAgICAgICAgICAgdmFyIGh0bWxfZDVmMWFhYjcxMWZiNGZiZjkwYWQyMTVlZjQ4ZTUzMWYgPSAkKGA8ZGl2IGlkPSJodG1sX2Q1ZjFhYWI3MTFmYjRmYmY5MGFkMjE1ZWY0OGU1MzFmIiBzdHlsZT0id2lkdGg6IDEwMC4wJTsgaGVpZ2h0OiAxMDAuMCU7Ij45ODAyMzwvZGl2PmApWzBdOwogICAgICAgICAgICBwb3B1cF84NjhhMGJhZmMyMGM0ZTNlYTIzNWJkZGY5NjU2YWI0OS5zZXRDb250ZW50KGh0bWxfZDVmMWFhYjcxMWZiNGZiZjkwYWQyMTVlZjQ4ZTUzMWYpOwogICAgICAgIAoKICAgICAgICBtYXJrZXJfYzA3MzExZGU4Nzk5NDk5ZDk4NDM2NWQzOTlhMTUyMWYuYmluZFBvcHVwKHBvcHVwXzg2OGEwYmFmYzIwYzRlM2VhMjM1YmRkZjk2NTZhYjQ5KQogICAgICAgIDsKCiAgICAgICAgCiAgICAKICAgIAogICAgICAgICAgICB2YXIgbWFya2VyXzdlYTRiZWM1NjJhMTQwZjk5MjBiMjliODRjN2YzMmEzID0gTC5tYXJrZXIoCiAgICAgICAgICAgICAgICBbNDcuNDQ5OSwgLTEyMi4zNzZdLAogICAgICAgICAgICAgICAge30KICAgICAgICAgICAgKS5hZGRUbyhtYXBfYzc4MmQ4YjQ1YjYzNGZkNjgxODljMjAzNmJkY2FkNTUpOwogICAgICAgIAogICAgCiAgICAgICAgdmFyIHBvcHVwX2IzYTI4NzY0NDQzMzQ5Mzg5N2FiMTIzOTYxNzEyNzFjID0gTC5wb3B1cCh7Im1heFdpZHRoIjogIjEwMCUifSk7CgogICAgICAgIAogICAgICAgICAgICB2YXIgaHRtbF9mOWU1NjBkZmFmYjA0MWNmYTFiYjlkMjczZjNkNjlmZSA9ICQoYDxkaXYgaWQ9Imh0bWxfZjllNTYwZGZhZmIwNDFjZmExYmI5ZDI3M2YzZDY5ZmUiIHN0eWxlPSJ3aWR0aDogMTAwLjAlOyBoZWlnaHQ6IDEwMC4wJTsiPjk4MTY2PC9kaXY+YClbMF07CiAgICAgICAgICAgIHBvcHVwX2IzYTI4NzY0NDQzMzQ5Mzg5N2FiMTIzOTYxNzEyNzFjLnNldENvbnRlbnQoaHRtbF9mOWU1NjBkZmFmYjA0MWNmYTFiYjlkMjczZjNkNjlmZSk7CiAgICAgICAgCgogICAgICAgIG1hcmtlcl83ZWE0YmVjNTYyYTE0MGY5OTIwYjI5Yjg0YzdmMzJhMy5iaW5kUG9wdXAocG9wdXBfYjNhMjg3NjQ0NDMzNDkzODk3YWIxMjM5NjE3MTI3MWMpCiAgICAgICAgOwoKICAgICAgICAKICAgIAogICAgCiAgICAgICAgICAgIHZhciBtYXJrZXJfMjkyYWQwYWNiZGQ3NDhiMThmYjRlZTEzMThmZTE3YjUgPSBMLm1hcmtlcigKICAgICAgICAgICAgICAgIFs0Ny41MDIyLCAtMTIyLjIyM10sCiAgICAgICAgICAgICAgICB7fQogICAgICAgICAgICApLmFkZFRvKG1hcF9jNzgyZDhiNDViNjM0ZmQ2ODE4OWMyMDM2YmRjYWQ1NSk7CiAgICAgICAgCiAgICAKICAgICAgICB2YXIgcG9wdXBfZmU2MWNhNTY0OWU5NDhjMWE5NDM4NmFjM2VhM2ZmOWEgPSBMLnBvcHVwKHsibWF4V2lkdGgiOiAiMTAwJSJ9KTsKCiAgICAgICAgCiAgICAgICAgICAgIHZhciBodG1sX2YzNjcxYzVmOWEyOTQzM2RiY2RmNzVlNDk3MDVkMzg3ID0gJChgPGRpdiBpZD0iaHRtbF9mMzY3MWM1ZjlhMjk0MzNkYmNkZjc1ZTQ5NzA1ZDM4NyIgc3R5bGU9IndpZHRoOiAxMDAuMCU7IGhlaWdodDogMTAwLjAlOyI+OTgxNzg8L2Rpdj5gKVswXTsKICAgICAgICAgICAgcG9wdXBfZmU2MWNhNTY0OWU5NDhjMWE5NDM4NmFjM2VhM2ZmOWEuc2V0Q29udGVudChodG1sX2YzNjcxYzVmOWEyOTQzM2RiY2RmNzVlNDk3MDVkMzg3KTsKICAgICAgICAKCiAgICAgICAgbWFya2VyXzI5MmFkMGFjYmRkNzQ4YjE4ZmI0ZWUxMzE4ZmUxN2I1LmJpbmRQb3B1cChwb3B1cF9mZTYxY2E1NjQ5ZTk0OGMxYTk0Mzg2YWMzZWEzZmY5YSkKICAgICAgICA7CgogICAgICAgIAogICAgCiAgICAKICAgICAgICAgICAgdmFyIG1hcmtlcl9jNjQwNWVhOTQwNTM0YjkwYmQ2YzM5ODE3MWM1ZmNmMSA9IEwubWFya2VyKAogICAgICAgICAgICAgICAgWzQ3LjM4ODEsIC0xMjIuMzI2XSwKICAgICAgICAgICAgICAgIHt9CiAgICAgICAgICAgICkuYWRkVG8obWFwX2M3ODJkOGI0NWI2MzRmZDY4MTg5YzIwMzZiZGNhZDU1KTsKICAgICAgICAKICAgIAogICAgICAgIHZhciBwb3B1cF82NmMxYWFjZGNhODA0NDNmOGQwYmNhNTMzNTg5MjQ0MyA9IEwucG9wdXAoeyJtYXhXaWR0aCI6ICIxMDAlIn0pOwoKICAgICAgICAKICAgICAgICAgICAgdmFyIGh0bWxfYzM3MzE2ZWI5YWQ1NGJiMGE3MjM1YjgzYjc3MGVlNjMgPSAkKGA8ZGl2IGlkPSJodG1sX2MzNzMxNmViOWFkNTRiYjBhNzIzNWI4M2I3NzBlZTYzIiBzdHlsZT0id2lkdGg6IDEwMC4wJTsgaGVpZ2h0OiAxMDAuMCU7Ij45ODE5ODwvZGl2PmApWzBdOwogICAgICAgICAgICBwb3B1cF82NmMxYWFjZGNhODA0NDNmOGQwYmNhNTMzNTg5MjQ0My5zZXRDb250ZW50KGh0bWxfYzM3MzE2ZWI5YWQ1NGJiMGE3MjM1YjgzYjc3MGVlNjMpOwogICAgICAgIAoKICAgICAgICBtYXJrZXJfYzY0MDVlYTk0MDUzNGI5MGJkNmMzOTgxNzFjNWZjZjEuYmluZFBvcHVwKHBvcHVwXzY2YzFhYWNkY2E4MDQ0M2Y4ZDBiY2E1MzM1ODkyNDQzKQogICAgICAgIDsKCiAgICAgICAgCiAgICAKICAgIAogICAgICAgICAgICB2YXIgbWFya2VyXzhjODM2MTI4Y2RiOTRkZDNiZTJmYzM0ZmE3NDE4MGJlID0gTC5tYXJrZXIoCiAgICAgICAgICAgICAgICBbNDcuMzgxMSwgLTEyMi4zMjVdLAogICAgICAgICAgICAgICAge30KICAgICAgICAgICAgKS5hZGRUbyhtYXBfYzc4MmQ4YjQ1YjYzNGZkNjgxODljMjAzNmJkY2FkNTUpOwogICAgICAgIAogICAgCiAgICAgICAgdmFyIHBvcHVwXzQ3NTdlYTA0OWY0MzRkZjNhZTBlNTQ2YjQwY2QzYzdhID0gTC5wb3B1cCh7Im1heFdpZHRoIjogIjEwMCUifSk7CgogICAgICAgIAogICAgICAgICAgICB2YXIgaHRtbF9kNmMzZDNhY2VjM2M0OGMzYTk2NjNhOGYzYmEyNjUzNiA9ICQoYDxkaXYgaWQ9Imh0bWxfZDZjM2QzYWNlYzNjNDhjM2E5NjYzYThmM2JhMjY1MzYiIHN0eWxlPSJ3aWR0aDogMTAwLjAlOyBoZWlnaHQ6IDEwMC4wJTsiPjk4MTk4PC9kaXY+YClbMF07CiAgICAgICAgICAgIHBvcHVwXzQ3NTdlYTA0OWY0MzRkZjNhZTBlNTQ2YjQwY2QzYzdhLnNldENvbnRlbnQoaHRtbF9kNmMzZDNhY2VjM2M0OGMzYTk2NjNhOGYzYmEyNjUzNik7CiAgICAgICAgCgogICAgICAgIG1hcmtlcl84YzgzNjEyOGNkYjk0ZGQzYmUyZmMzNGZhNzQxODBiZS5iaW5kUG9wdXAocG9wdXBfNDc1N2VhMDQ5ZjQzNGRmM2FlMGU1NDZiNDBjZDNjN2EpCiAgICAgICAgOwoKICAgICAgICAKICAgIAogICAgCiAgICAgICAgICAgIHZhciBtYXJrZXJfYWU2ZGZjY2YxZDU4NDJhYzkwNTJkNzA0MWJlZjM5MDAgPSBMLm1hcmtlcigKICAgICAgICAgICAgICAgIFs0Ny40NTM2LCAtMTIyLjM3Nl0sCiAgICAgICAgICAgICAgICB7fQogICAgICAgICAgICApLmFkZFRvKG1hcF9jNzgyZDhiNDViNjM0ZmQ2ODE4OWMyMDM2YmRjYWQ1NSk7CiAgICAgICAgCiAgICAKICAgICAgICB2YXIgcG9wdXBfYjBhMGQ1MWI5MzQ4NDRkMWIzZTQ3MzliZjAyMzdiOWUgPSBMLnBvcHVwKHsibWF4V2lkdGgiOiAiMTAwJSJ9KTsKCiAgICAgICAgCiAgICAgICAgICAgIHZhciBodG1sXzlmNzQzZDMzZWY0MTQwODQ5OWVmM2JhMDc1NDgyODRjID0gJChgPGRpdiBpZD0iaHRtbF85Zjc0M2QzM2VmNDE0MDg0OTllZjNiYTA3NTQ4Mjg0YyIgc3R5bGU9IndpZHRoOiAxMDAuMCU7IGhlaWdodDogMTAwLjAlOyI+OTgxNjY8L2Rpdj5gKVswXTsKICAgICAgICAgICAgcG9wdXBfYjBhMGQ1MWI5MzQ4NDRkMWIzZTQ3MzliZjAyMzdiOWUuc2V0Q29udGVudChodG1sXzlmNzQzZDMzZWY0MTQwODQ5OWVmM2JhMDc1NDgyODRjKTsKICAgICAgICAKCiAgICAgICAgbWFya2VyX2FlNmRmY2NmMWQ1ODQyYWM5MDUyZDcwNDFiZWYzOTAwLmJpbmRQb3B1cChwb3B1cF9iMGEwZDUxYjkzNDg0NGQxYjNlNDczOWJmMDIzN2I5ZSkKICAgICAgICA7CgogICAgICAgIAogICAgCiAgICAKICAgICAgICAgICAgdmFyIG1hcmtlcl9mNmZlYjU5M2UzOTY0ZjdjYWJiOWU4YTgwOGIxMTVkOCA9IEwubWFya2VyKAogICAgICAgICAgICAgICAgWzQ3LjM1NzEsIC0xMjIuMzI0XSwKICAgICAgICAgICAgICAgIHt9CiAgICAgICAgICAgICkuYWRkVG8obWFwX2M3ODJkOGI0NWI2MzRmZDY4MTg5YzIwMzZiZGNhZDU1KTsKICAgICAgICAKICAgIAogICAgICAgIHZhciBwb3B1cF8xODExZWUzYjQyZTA0ZmEwYTUyOTQyOGNlMDExODM0MSA9IEwucG9wdXAoeyJtYXhXaWR0aCI6ICIxMDAlIn0pOwoKICAgICAgICAKICAgICAgICAgICAgdmFyIGh0bWxfNjkxYjExOTA4MDkzNDdhMmEwNjIxOTgyYjBiYTBiYjMgPSAkKGA8ZGl2IGlkPSJodG1sXzY5MWIxMTkwODA5MzQ3YTJhMDYyMTk4MmIwYmEwYmIzIiBzdHlsZT0id2lkdGg6IDEwMC4wJTsgaGVpZ2h0OiAxMDAuMCU7Ij45ODE5ODwvZGl2PmApWzBdOwogICAgICAgICAgICBwb3B1cF8xODExZWUzYjQyZTA0ZmEwYTUyOTQyOGNlMDExODM0MS5zZXRDb250ZW50KGh0bWxfNjkxYjExOTA4MDkzNDdhMmEwNjIxOTgyYjBiYTBiYjMpOwogICAgICAgIAoKICAgICAgICBtYXJrZXJfZjZmZWI1OTNlMzk2NGY3Y2FiYjllOGE4MDhiMTE1ZDguYmluZFBvcHVwKHBvcHVwXzE4MTFlZTNiNDJlMDRmYTBhNTI5NDI4Y2UwMTE4MzQxKQogICAgICAgIDsKCiAgICAgICAgCiAgICAKICAgIAogICAgICAgICAgICB2YXIgbWFya2VyX2NkNDgxMzU0YzQ4MzRlMjM5MGJkMWYzOWMwZDQyMDcyID0gTC5tYXJrZXIoCiAgICAgICAgICAgICAgICBbNDcuNDUwMiwgLTEyMi4zNzhdLAogICAgICAgICAgICAgICAge30KICAgICAgICAgICAgKS5hZGRUbyhtYXBfYzc4MmQ4YjQ1YjYzNGZkNjgxODljMjAzNmJkY2FkNTUpOwogICAgICAgIAogICAgCiAgICAgICAgdmFyIHBvcHVwX2IyNjBjODM4ZjQ4ODRmNmRhMTY0NjY4ZjljYmUzNmI1ID0gTC5wb3B1cCh7Im1heFdpZHRoIjogIjEwMCUifSk7CgogICAgICAgIAogICAgICAgICAgICB2YXIgaHRtbF9lZWYxZTNmMmUzMGY0YWEzODMyYzY1MTQyMjA3NTRhYyA9ICQoYDxkaXYgaWQ9Imh0bWxfZWVmMWUzZjJlMzBmNGFhMzgzMmM2NTE0MjIwNzU0YWMiIHN0eWxlPSJ3aWR0aDogMTAwLjAlOyBoZWlnaHQ6IDEwMC4wJTsiPjk4MTY2PC9kaXY+YClbMF07CiAgICAgICAgICAgIHBvcHVwX2IyNjBjODM4ZjQ4ODRmNmRhMTY0NjY4ZjljYmUzNmI1LnNldENvbnRlbnQoaHRtbF9lZWYxZTNmMmUzMGY0YWEzODMyYzY1MTQyMjA3NTRhYyk7CiAgICAgICAgCgogICAgICAgIG1hcmtlcl9jZDQ4MTM1NGM0ODM0ZTIzOTBiZDFmMzljMGQ0MjA3Mi5iaW5kUG9wdXAocG9wdXBfYjI2MGM4MzhmNDg4NGY2ZGExNjQ2NjhmOWNiZTM2YjUpCiAgICAgICAgOwoKICAgICAgICAKICAgIAogICAgCiAgICAgICAgICAgIHZhciBtYXJrZXJfZDdkNzRkMGQ5ZmNkNGQxMDg2ZWFiYzA4NzEwOTgxYzUgPSBMLm1hcmtlcigKICAgICAgICAgICAgICAgIFs0Ny4zNzk5LCAtMTIyLjMyNV0sCiAgICAgICAgICAgICAgICB7fQogICAgICAgICAgICApLmFkZFRvKG1hcF9jNzgyZDhiNDViNjM0ZmQ2ODE4OWMyMDM2YmRjYWQ1NSk7CiAgICAgICAgCiAgICAKICAgICAgICB2YXIgcG9wdXBfZDY2ZGY0ZTJjZmIwNDQ4OGExNDgyMTAwM2MyNGEyMWMgPSBMLnBvcHVwKHsibWF4V2lkdGgiOiAiMTAwJSJ9KTsKCiAgICAgICAgCiAgICAgICAgICAgIHZhciBodG1sXzkzNmFlYmNlZmM4ODQ4ZjlhMWE3YTgwNjgzODk4MWUyID0gJChgPGRpdiBpZD0iaHRtbF85MzZhZWJjZWZjODg0OGY5YTFhN2E4MDY4Mzg5ODFlMiIgc3R5bGU9IndpZHRoOiAxMDAuMCU7IGhlaWdodDogMTAwLjAlOyI+OTgxOTg8L2Rpdj5gKVswXTsKICAgICAgICAgICAgcG9wdXBfZDY2ZGY0ZTJjZmIwNDQ4OGExNDgyMTAwM2MyNGEyMWMuc2V0Q29udGVudChodG1sXzkzNmFlYmNlZmM4ODQ4ZjlhMWE3YTgwNjgzODk4MWUyKTsKICAgICAgICAKCiAgICAgICAgbWFya2VyX2Q3ZDc0ZDBkOWZjZDRkMTA4NmVhYmMwODcxMDk4MWM1LmJpbmRQb3B1cChwb3B1cF9kNjZkZjRlMmNmYjA0NDg4YTE0ODIxMDAzYzI0YTIxYykKICAgICAgICA7CgogICAgICAgIAogICAgCiAgICAKICAgICAgICAgICAgdmFyIG1hcmtlcl8wZmI2ZDY0OGY0M2M0OTM1OGY2YjAxNDkzZWNjZDVhNCA9IEwubWFya2VyKAogICAgICAgICAgICAgICAgWzQ3LjQ1OSwgLTEyMi41MDRdLAogICAgICAgICAgICAgICAge30KICAgICAgICAgICAgKS5hZGRUbyhtYXBfYzc4MmQ4YjQ1YjYzNGZkNjgxODljMjAzNmJkY2FkNTUpOwogICAgICAgIAogICAgCiAgICAgICAgdmFyIHBvcHVwXzhiMWE3MGZiOTQ2ODQ1YzA5MjQwNTAxOTNkMWNmYzRhID0gTC5wb3B1cCh7Im1heFdpZHRoIjogIjEwMCUifSk7CgogICAgICAgIAogICAgICAgICAgICB2YXIgaHRtbF9mNGZhNDhmZWJkOGE0NDU3YjUxMTI2ZDVmMGU2MTJkMyA9ICQoYDxkaXYgaWQ9Imh0bWxfZjRmYTQ4ZmViZDhhNDQ1N2I1MTEyNmQ1ZjBlNjEyZDMiIHN0eWxlPSJ3aWR0aDogMTAwLjAlOyBoZWlnaHQ6IDEwMC4wJTsiPjk4MDcwPC9kaXY+YClbMF07CiAgICAgICAgICAgIHBvcHVwXzhiMWE3MGZiOTQ2ODQ1YzA5MjQwNTAxOTNkMWNmYzRhLnNldENvbnRlbnQoaHRtbF9mNGZhNDhmZWJkOGE0NDU3YjUxMTI2ZDVmMGU2MTJkMyk7CiAgICAgICAgCgogICAgICAgIG1hcmtlcl8wZmI2ZDY0OGY0M2M0OTM1OGY2YjAxNDkzZWNjZDVhNC5iaW5kUG9wdXAocG9wdXBfOGIxYTcwZmI5NDY4NDVjMDkyNDA1MDE5M2QxY2ZjNGEpCiAgICAgICAgOwoKICAgICAgICAKICAgIAogICAgCiAgICAgICAgICAgIHZhciBtYXJrZXJfNDg2YjZiM2ZhMzQ4NDE2YzhmOTg0ZWMxYzUyNTRiMDEgPSBMLm1hcmtlcigKICAgICAgICAgICAgICAgIFs0Ny40NTIyLCAtMTIyLjM3OF0sCiAgICAgICAgICAgICAgICB7fQogICAgICAgICAgICApLmFkZFRvKG1hcF9jNzgyZDhiNDViNjM0ZmQ2ODE4OWMyMDM2YmRjYWQ1NSk7CiAgICAgICAgCiAgICAKICAgICAgICB2YXIgcG9wdXBfMzg4NjIxNWE1NTFkNDRmYTgyNmViMGEzNDJlZmQ4ZDAgPSBMLnBvcHVwKHsibWF4V2lkdGgiOiAiMTAwJSJ9KTsKCiAgICAgICAgCiAgICAgICAgICAgIHZhciBodG1sXzgyNjI2OWY1Njk0ZTRhNGViMGNhMDg2ZDRhY2U5ZDk3ID0gJChgPGRpdiBpZD0iaHRtbF84MjYyNjlmNTY5NGU0YTRlYjBjYTA4NmQ0YWNlOWQ5NyIgc3R5bGU9IndpZHRoOiAxMDAuMCU7IGhlaWdodDogMTAwLjAlOyI+OTgxNjY8L2Rpdj5gKVswXTsKICAgICAgICAgICAgcG9wdXBfMzg4NjIxNWE1NTFkNDRmYTgyNmViMGEzNDJlZmQ4ZDAuc2V0Q29udGVudChodG1sXzgyNjI2OWY1Njk0ZTRhNGViMGNhMDg2ZDRhY2U5ZDk3KTsKICAgICAgICAKCiAgICAgICAgbWFya2VyXzQ4NmI2YjNmYTM0ODQxNmM4Zjk4NGVjMWM1MjU0YjAxLmJpbmRQb3B1cChwb3B1cF8zODg2MjE1YTU1MWQ0NGZhODI2ZWIwYTM0MmVmZDhkMCkKICAgICAgICA7CgogICAgICAgIAogICAgCiAgICAKICAgICAgICAgICAgdmFyIG1hcmtlcl82MDA0MjIyMzUzM2I0MjgyYTE0NDAzNWJkNDIyMzY5MCA9IEwubWFya2VyKAogICAgICAgICAgICAgICAgWzQ3LjM1OCwgLTEyMi40NDZdLAogICAgICAgICAgICAgICAge30KICAgICAgICAgICAgKS5hZGRUbyhtYXBfYzc4MmQ4YjQ1YjYzNGZkNjgxODljMjAzNmJkY2FkNTUpOwogICAgICAgIAogICAgCiAgICAgICAgdmFyIHBvcHVwXzI2ZmRmMDg3Mzc4MzRiZWU5YzBjMGE1ODU4OGY0MGE3ID0gTC5wb3B1cCh7Im1heFdpZHRoIjogIjEwMCUifSk7CgogICAgICAgIAogICAgICAgICAgICB2YXIgaHRtbF8wNTY1ZTUxYWE0YTI0OTRhYmE1M2U1NzNjZmM5MzAyZiA9ICQoYDxkaXYgaWQ9Imh0bWxfMDU2NWU1MWFhNGEyNDk0YWJhNTNlNTczY2ZjOTMwMmYiIHN0eWxlPSJ3aWR0aDogMTAwLjAlOyBoZWlnaHQ6IDEwMC4wJTsiPjk4MDcwPC9kaXY+YClbMF07CiAgICAgICAgICAgIHBvcHVwXzI2ZmRmMDg3Mzc4MzRiZWU5YzBjMGE1ODU4OGY0MGE3LnNldENvbnRlbnQoaHRtbF8wNTY1ZTUxYWE0YTI0OTRhYmE1M2U1NzNjZmM5MzAyZik7CiAgICAgICAgCgogICAgICAgIG1hcmtlcl82MDA0MjIyMzUzM2I0MjgyYTE0NDAzNWJkNDIyMzY5MC5iaW5kUG9wdXAocG9wdXBfMjZmZGYwODczNzgzNGJlZTljMGMwYTU4NTg4ZjQwYTcpCiAgICAgICAgOwoKICAgICAgICAKICAgIAogICAgCiAgICAgICAgICAgIHZhciBtYXJrZXJfNGM5MDE5MzhmZmRiNDM3NGI0OTE5ZTMzMTQ2NTQzNWEgPSBMLm1hcmtlcigKICAgICAgICAgICAgICAgIFs0Ny40NzI4LCAtMTIyLjQ5N10sCiAgICAgICAgICAgICAgICB7fQogICAgICAgICAgICApLmFkZFRvKG1hcF9jNzgyZDhiNDViNjM0ZmQ2ODE4OWMyMDM2YmRjYWQ1NSk7CiAgICAgICAgCiAgICAKICAgICAgICB2YXIgcG9wdXBfMWM0MDUwNjE5YzhhNGY4ZDhmY2E5ODFkNmFjMWRjMzMgPSBMLnBvcHVwKHsibWF4V2lkdGgiOiAiMTAwJSJ9KTsKCiAgICAgICAgCiAgICAgICAgICAgIHZhciBodG1sXzMyMTZkZTI5MTJhMjQ3ZDQ4MWQ3ZGIzODQ0ZjkzZmUwID0gJChgPGRpdiBpZD0iaHRtbF8zMjE2ZGUyOTEyYTI0N2Q0ODFkN2RiMzg0NGY5M2ZlMCIgc3R5bGU9IndpZHRoOiAxMDAuMCU7IGhlaWdodDogMTAwLjAlOyI+OTgwNzA8L2Rpdj5gKVswXTsKICAgICAgICAgICAgcG9wdXBfMWM0MDUwNjE5YzhhNGY4ZDhmY2E5ODFkNmFjMWRjMzMuc2V0Q29udGVudChodG1sXzMyMTZkZTI5MTJhMjQ3ZDQ4MWQ3ZGIzODQ0ZjkzZmUwKTsKICAgICAgICAKCiAgICAgICAgbWFya2VyXzRjOTAxOTM4ZmZkYjQzNzRiNDkxOWUzMzE0NjU0MzVhLmJpbmRQb3B1cChwb3B1cF8xYzQwNTA2MTljOGE0ZjhkOGZjYTk4MWQ2YWMxZGMzMykKICAgICAgICA7CgogICAgICAgIAogICAgCiAgICAKICAgICAgICAgICAgdmFyIG1hcmtlcl85NjljNzdlZGE2MDQ0NWNiYmVlN2VjMDM5NjVjODlmYyA9IEwubWFya2VyKAogICAgICAgICAgICAgICAgWzQ3LjM2NDgsIC0xMjIuMzI1XSwKICAgICAgICAgICAgICAgIHt9CiAgICAgICAgICAgICkuYWRkVG8obWFwX2M3ODJkOGI0NWI2MzRmZDY4MTg5YzIwMzZiZGNhZDU1KTsKICAgICAgICAKICAgIAogICAgICAgIHZhciBwb3B1cF9hNDYzM2Y4ZWViYWI0OTY5YTMxNTg2NmVhMDcxZjNlNCA9IEwucG9wdXAoeyJtYXhXaWR0aCI6ICIxMDAlIn0pOwoKICAgICAgICAKICAgICAgICAgICAgdmFyIGh0bWxfOGE1YWI1ZWVkODFhNDY4M2FkM2VlMTNlNmE4Y2NkZTIgPSAkKGA8ZGl2IGlkPSJodG1sXzhhNWFiNWVlZDgxYTQ2ODNhZDNlZTEzZTZhOGNjZGUyIiBzdHlsZT0id2lkdGg6IDEwMC4wJTsgaGVpZ2h0OiAxMDAuMCU7Ij45ODE5ODwvZGl2PmApWzBdOwogICAgICAgICAgICBwb3B1cF9hNDYzM2Y4ZWViYWI0OTY5YTMxNTg2NmVhMDcxZjNlNC5zZXRDb250ZW50KGh0bWxfOGE1YWI1ZWVkODFhNDY4M2FkM2VlMTNlNmE4Y2NkZTIpOwogICAgICAgIAoKICAgICAgICBtYXJrZXJfOTY5Yzc3ZWRhNjA0NDVjYmJlZTdlYzAzOTY1Yzg5ZmMuYmluZFBvcHVwKHBvcHVwX2E0NjMzZjhlZWJhYjQ5NjlhMzE1ODY2ZWEwNzFmM2U0KQogICAgICAgIDsKCiAgICAgICAgCiAgICAKICAgIAogICAgICAgICAgICB2YXIgbWFya2VyXzgyNzFjMDU5NDRlMzQ3ZWViMTFjZTVhYTFlMWM5MTAwID0gTC5tYXJrZXIoCiAgICAgICAgICAgICAgICBbNDcuNTQ3NiwgLTEyMi4zOTldLAogICAgICAgICAgICAgICAge30KICAgICAgICAgICAgKS5hZGRUbyhtYXBfYzc4MmQ4YjQ1YjYzNGZkNjgxODljMjAzNmJkY2FkNTUpOwogICAgICAgIAogICAgCiAgICAgICAgdmFyIHBvcHVwX2MxOWRkZDUwODk2OTRlMTA5ZjEyYmM5ZjQ5YWY5ZTI3ID0gTC5wb3B1cCh7Im1heFdpZHRoIjogIjEwMCUifSk7CgogICAgICAgIAogICAgICAgICAgICB2YXIgaHRtbF82ZGE2ZGUwNTFkNGQ0OTczYmQ5ZWJhZDI1OWVmYmFiYiA9ICQoYDxkaXYgaWQ9Imh0bWxfNmRhNmRlMDUxZDRkNDk3M2JkOWViYWQyNTllZmJhYmIiIHN0eWxlPSJ3aWR0aDogMTAwLjAlOyBoZWlnaHQ6IDEwMC4wJTsiPjk4MTM2PC9kaXY+YClbMF07CiAgICAgICAgICAgIHBvcHVwX2MxOWRkZDUwODk2OTRlMTA5ZjEyYmM5ZjQ5YWY5ZTI3LnNldENvbnRlbnQoaHRtbF82ZGE2ZGUwNTFkNGQ0OTczYmQ5ZWJhZDI1OWVmYmFiYik7CiAgICAgICAgCgogICAgICAgIG1hcmtlcl84MjcxYzA1OTQ0ZTM0N2VlYjExY2U1YWExZTFjOTEwMC5iaW5kUG9wdXAocG9wdXBfYzE5ZGRkNTA4OTY5NGUxMDlmMTJiYzlmNDlhZjllMjcpCiAgICAgICAgOwoKICAgICAgICAKICAgIAogICAgCiAgICAgICAgICAgIHZhciBtYXJrZXJfOGRhYTllNWFlYTM0NDNiNmE5OGJiOTBhMDZiYjc0NjIgPSBMLm1hcmtlcigKICAgICAgICAgICAgICAgIFs0Ny41MTE0LCAtMTIyLjI0NV0sCiAgICAgICAgICAgICAgICB7fQogICAgICAgICAgICApLmFkZFRvKG1hcF9jNzgyZDhiNDViNjM0ZmQ2ODE4OWMyMDM2YmRjYWQ1NSk7CiAgICAgICAgCiAgICAKICAgICAgICB2YXIgcG9wdXBfN2U2NWYzYjQ4ZDc2NGQ1N2JhMzU3Y2JiOGVkYzU2NDQgPSBMLnBvcHVwKHsibWF4V2lkdGgiOiAiMTAwJSJ9KTsKCiAgICAgICAgCiAgICAgICAgICAgIHZhciBodG1sXzJmNDlhZDc3YWNkMDQyNGJhZGNjMzgzYjdhODRmZGE2ID0gJChgPGRpdiBpZD0iaHRtbF8yZjQ5YWQ3N2FjZDA0MjRiYWRjYzM4M2I3YTg0ZmRhNiIgc3R5bGU9IndpZHRoOiAxMDAuMCU7IGhlaWdodDogMTAwLjAlOyI+OTgxNzg8L2Rpdj5gKVswXTsKICAgICAgICAgICAgcG9wdXBfN2U2NWYzYjQ4ZDc2NGQ1N2JhMzU3Y2JiOGVkYzU2NDQuc2V0Q29udGVudChodG1sXzJmNDlhZDc3YWNkMDQyNGJhZGNjMzgzYjdhODRmZGE2KTsKICAgICAgICAKCiAgICAgICAgbWFya2VyXzhkYWE5ZTVhZWEzNDQzYjZhOThiYjkwYTA2YmI3NDYyLmJpbmRQb3B1cChwb3B1cF83ZTY1ZjNiNDhkNzY0ZDU3YmEzNTdjYmI4ZWRjNTY0NCkKICAgICAgICA7CgogICAgICAgIAogICAgCiAgICAKICAgICAgICAgICAgdmFyIG1hcmtlcl81ZDZmNDIzZGNhYjk0ZDJlYTc5MmZmYzk1ZTBhYzc2NCA9IEwubWFya2VyKAogICAgICAgICAgICAgICAgWzQ3LjUxMjEsIC0xMjIuMjQ4XSwKICAgICAgICAgICAgICAgIHt9CiAgICAgICAgICAgICkuYWRkVG8obWFwX2M3ODJkOGI0NWI2MzRmZDY4MTg5YzIwMzZiZGNhZDU1KTsKICAgICAgICAKICAgIAogICAgICAgIHZhciBwb3B1cF9hZDQ3MDIzNWJmMGI0OGJmOTVmMThlM2ZmMjk4NjNmMiA9IEwucG9wdXAoeyJtYXhXaWR0aCI6ICIxMDAlIn0pOwoKICAgICAgICAKICAgICAgICAgICAgdmFyIGh0bWxfZWJjYjkzODA3MTA5NDVjZDkxYzBjN2UyNWY1YzMxY2MgPSAkKGA8ZGl2IGlkPSJodG1sX2ViY2I5MzgwNzEwOTQ1Y2Q5MWMwYzdlMjVmNWMzMWNjIiBzdHlsZT0id2lkdGg6IDEwMC4wJTsgaGVpZ2h0OiAxMDAuMCU7Ij45ODE3ODwvZGl2PmApWzBdOwogICAgICAgICAgICBwb3B1cF9hZDQ3MDIzNWJmMGI0OGJmOTVmMThlM2ZmMjk4NjNmMi5zZXRDb250ZW50KGh0bWxfZWJjYjkzODA3MTA5NDVjZDkxYzBjN2UyNWY1YzMxY2MpOwogICAgICAgIAoKICAgICAgICBtYXJrZXJfNWQ2ZjQyM2RjYWI5NGQyZWE3OTJmZmM5NWUwYWM3NjQuYmluZFBvcHVwKHBvcHVwX2FkNDcwMjM1YmYwYjQ4YmY5NWYxOGUzZmYyOTg2M2YyKQogICAgICAgIDsKCiAgICAgICAgCiAgICAKICAgIAogICAgICAgICAgICB2YXIgbWFya2VyXzhhYjA1NGViYmM0NjQwNzE4ZGYzMmM4MTY3NjJmYTdhID0gTC5tYXJrZXIoCiAgICAgICAgICAgICAgICBbNDcuNTEyMSwgLTEyMi4yNDhdLAogICAgICAgICAgICAgICAge30KICAgICAgICAgICAgKS5hZGRUbyhtYXBfYzc4MmQ4YjQ1YjYzNGZkNjgxODljMjAzNmJkY2FkNTUpOwogICAgICAgIAogICAgCiAgICAgICAgdmFyIHBvcHVwXzk2NTZiZGNhYWQ4OTQ4MzZiYzg4NTEzYzhiMDI5NmIxID0gTC5wb3B1cCh7Im1heFdpZHRoIjogIjEwMCUifSk7CgogICAgICAgIAogICAgICAgICAgICB2YXIgaHRtbF8xY2Q4MzQxYjhhNDc0YzVjYWFkY2VjOTI0Y2I5MzFhNSA9ICQoYDxkaXYgaWQ9Imh0bWxfMWNkODM0MWI4YTQ3NGM1Y2FhZGNlYzkyNGNiOTMxYTUiIHN0eWxlPSJ3aWR0aDogMTAwLjAlOyBoZWlnaHQ6IDEwMC4wJTsiPjk4MTc4PC9kaXY+YClbMF07CiAgICAgICAgICAgIHBvcHVwXzk2NTZiZGNhYWQ4OTQ4MzZiYzg4NTEzYzhiMDI5NmIxLnNldENvbnRlbnQoaHRtbF8xY2Q4MzQxYjhhNDc0YzVjYWFkY2VjOTI0Y2I5MzFhNSk7CiAgICAgICAgCgogICAgICAgIG1hcmtlcl84YWIwNTRlYmJjNDY0MDcxOGRmMzJjODE2NzYyZmE3YS5iaW5kUG9wdXAocG9wdXBfOTY1NmJkY2FhZDg5NDgzNmJjODg1MTNjOGIwMjk2YjEpCiAgICAgICAgOwoKICAgICAgICAKICAgIAogICAgCiAgICAgICAgICAgIHZhciBtYXJrZXJfZTUyMjY2OGQwZjczNDQyMzhkNTY0YzAzYTUxNDMxN2YgPSBMLm1hcmtlcigKICAgICAgICAgICAgICAgIFs0Ny40OTk2LCAtMTIyLjM3OF0sCiAgICAgICAgICAgICAgICB7fQogICAgICAgICAgICApLmFkZFRvKG1hcF9jNzgyZDhiNDViNjM0ZmQ2ODE4OWMyMDM2YmRjYWQ1NSk7CiAgICAgICAgCiAgICAKICAgICAgICB2YXIgcG9wdXBfOGRiNjBlMTVjODdkNDA4N2E4YjRlNGM4NjU2NDVhZmIgPSBMLnBvcHVwKHsibWF4V2lkdGgiOiAiMTAwJSJ9KTsKCiAgICAgICAgCiAgICAgICAgICAgIHZhciBodG1sX2ZjOTMyNTg5MDJmMTQyYTM4ODAzYWUzMTIzMTZlZjQwID0gJChgPGRpdiBpZD0iaHRtbF9mYzkzMjU4OTAyZjE0MmEzODgwM2FlMzEyMzE2ZWY0MCIgc3R5bGU9IndpZHRoOiAxMDAuMCU7IGhlaWdodDogMTAwLjAlOyI+OTgxNDY8L2Rpdj5gKVswXTsKICAgICAgICAgICAgcG9wdXBfOGRiNjBlMTVjODdkNDA4N2E4YjRlNGM4NjU2NDVhZmIuc2V0Q29udGVudChodG1sX2ZjOTMyNTg5MDJmMTQyYTM4ODAzYWUzMTIzMTZlZjQwKTsKICAgICAgICAKCiAgICAgICAgbWFya2VyX2U1MjI2NjhkMGY3MzQ0MjM4ZDU2NGMwM2E1MTQzMTdmLmJpbmRQb3B1cChwb3B1cF84ZGI2MGUxNWM4N2Q0MDg3YThiNGU0Yzg2NTY0NWFmYikKICAgICAgICA7CgogICAgICAgIAogICAgCiAgICAKICAgICAgICAgICAgdmFyIG1hcmtlcl81NDY1OGZiZmJmMjg0Mjk3YjliMjkyM2QyNTFhOTc2OSA9IEwubWFya2VyKAogICAgICAgICAgICAgICAgWzQ3LjQ1NTcsIC0xMjIuNDQzXSwKICAgICAgICAgICAgICAgIHt9CiAgICAgICAgICAgICkuYWRkVG8obWFwX2M3ODJkOGI0NWI2MzRmZDY4MTg5YzIwMzZiZGNhZDU1KTsKICAgICAgICAKICAgIAogICAgICAgIHZhciBwb3B1cF80NTEzY2IwZTk4OWM0ODc3YTFiYzg1YWIxNDNjZTFlZiA9IEwucG9wdXAoeyJtYXhXaWR0aCI6ICIxMDAlIn0pOwoKICAgICAgICAKICAgICAgICAgICAgdmFyIGh0bWxfNzk3OTJiZmMwYWFiNGZiYmI4MTUxMDA3MTU1ZTNiMzAgPSAkKGA8ZGl2IGlkPSJodG1sXzc5NzkyYmZjMGFhYjRmYmJiODE1MTAwNzE1NWUzYjMwIiBzdHlsZT0id2lkdGg6IDEwMC4wJTsgaGVpZ2h0OiAxMDAuMCU7Ij45ODA3MDwvZGl2PmApWzBdOwogICAgICAgICAgICBwb3B1cF80NTEzY2IwZTk4OWM0ODc3YTFiYzg1YWIxNDNjZTFlZi5zZXRDb250ZW50KGh0bWxfNzk3OTJiZmMwYWFiNGZiYmI4MTUxMDA3MTU1ZTNiMzApOwogICAgICAgIAoKICAgICAgICBtYXJrZXJfNTQ2NThmYmZiZjI4NDI5N2I5YjI5MjNkMjUxYTk3NjkuYmluZFBvcHVwKHBvcHVwXzQ1MTNjYjBlOTg5YzQ4NzdhMWJjODVhYjE0M2NlMWVmKQogICAgICAgIDsKCiAgICAgICAgCiAgICAKICAgIAogICAgICAgICAgICB2YXIgbWFya2VyXzJkOTlkMjkwMDM4NDQxMGU5ZThiNTI4NTY0Zjg4ZmNmID0gTC5tYXJrZXIoCiAgICAgICAgICAgICAgICBbNDcuMzczMDAwMDAwMDAwMDEsIC0xMjIuNDY0XSwKICAgICAgICAgICAgICAgIHt9CiAgICAgICAgICAgICkuYWRkVG8obWFwX2M3ODJkOGI0NWI2MzRmZDY4MTg5YzIwMzZiZGNhZDU1KTsKICAgICAgICAKICAgIAogICAgICAgIHZhciBwb3B1cF81YjA0NTE5Y2VlNDA0YWViYWM2NDliZTJlMDkzZGQyNyA9IEwucG9wdXAoeyJtYXhXaWR0aCI6ICIxMDAlIn0pOwoKICAgICAgICAKICAgICAgICAgICAgdmFyIGh0bWxfMThlOGJhZWZlNjhmNGNmOGIxNWUzYjcwNGE2NGQxYzkgPSAkKGA8ZGl2IGlkPSJodG1sXzE4ZThiYWVmZTY4ZjRjZjhiMTVlM2I3MDRhNjRkMWM5IiBzdHlsZT0id2lkdGg6IDEwMC4wJTsgaGVpZ2h0OiAxMDAuMCU7Ij45ODA3MDwvZGl2PmApWzBdOwogICAgICAgICAgICBwb3B1cF81YjA0NTE5Y2VlNDA0YWViYWM2NDliZTJlMDkzZGQyNy5zZXRDb250ZW50KGh0bWxfMThlOGJhZWZlNjhmNGNmOGIxNWUzYjcwNGE2NGQxYzkpOwogICAgICAgIAoKICAgICAgICBtYXJrZXJfMmQ5OWQyOTAwMzg0NDEwZTllOGI1Mjg1NjRmODhmY2YuYmluZFBvcHVwKHBvcHVwXzViMDQ1MTljZWU0MDRhZWJhYzY0OWJlMmUwOTNkZDI3KQogICAgICAgIDsKCiAgICAgICAgCiAgICAKICAgIAogICAgICAgICAgICB2YXIgbWFya2VyX2ZhZGIyNzBkMGU3MjRiZmJiMzQ1ZjQ5NGQ5ZjNiYmRlID0gTC5tYXJrZXIoCiAgICAgICAgICAgICAgICBbNDcuNCwgLTEyMi40Ml0sCiAgICAgICAgICAgICAgICB7fQogICAgICAgICAgICApLmFkZFRvKG1hcF9jNzgyZDhiNDViNjM0ZmQ2ODE4OWMyMDM2YmRjYWQ1NSk7CiAgICAgICAgCiAgICAKICAgICAgICB2YXIgcG9wdXBfNmE5NzVlMzE2NDA5NDQ1NGI2YWIwOTE3YjIxZWY5NDggPSBMLnBvcHVwKHsibWF4V2lkdGgiOiAiMTAwJSJ9KTsKCiAgICAgICAgCiAgICAgICAgICAgIHZhciBodG1sXzQ4OWFmYjVkNWNhNDRjM2JiYWViYzgwM2EzNjgwMWU0ID0gJChgPGRpdiBpZD0iaHRtbF80ODlhZmI1ZDVjYTQ0YzNiYmFlYmM4MDNhMzY4MDFlNCIgc3R5bGU9IndpZHRoOiAxMDAuMCU7IGhlaWdodDogMTAwLjAlOyI+OTgwNzA8L2Rpdj5gKVswXTsKICAgICAgICAgICAgcG9wdXBfNmE5NzVlMzE2NDA5NDQ1NGI2YWIwOTE3YjIxZWY5NDguc2V0Q29udGVudChodG1sXzQ4OWFmYjVkNWNhNDRjM2JiYWViYzgwM2EzNjgwMWU0KTsKICAgICAgICAKCiAgICAgICAgbWFya2VyX2ZhZGIyNzBkMGU3MjRiZmJiMzQ1ZjQ5NGQ5ZjNiYmRlLmJpbmRQb3B1cChwb3B1cF82YTk3NWUzMTY0MDk0NDU0YjZhYjA5MTdiMjFlZjk0OCkKICAgICAgICA7CgogICAgICAgIAogICAgCiAgICAKICAgICAgICAgICAgdmFyIG1hcmtlcl9jMmE2NzZkYTY2MDM0NjBlYTE5ODhmYjFkN2U4NDQ1NiA9IEwubWFya2VyKAogICAgICAgICAgICAgICAgWzQ3LjQ5OTcsIC0xMjIuMzc5XSwKICAgICAgICAgICAgICAgIHt9CiAgICAgICAgICAgICkuYWRkVG8obWFwX2M3ODJkOGI0NWI2MzRmZDY4MTg5YzIwMzZiZGNhZDU1KTsKICAgICAgICAKICAgIAogICAgICAgIHZhciBwb3B1cF82YjM5YTQ1MzExNzY0ZmU5OGYxY2U1ZTZiNTQyYTA1YSA9IEwucG9wdXAoeyJtYXhXaWR0aCI6ICIxMDAlIn0pOwoKICAgICAgICAKICAgICAgICAgICAgdmFyIGh0bWxfN2U4NDgxODQyMjgwNGU3YjgwYzhmODE1NTkzOGMyZWQgPSAkKGA8ZGl2IGlkPSJodG1sXzdlODQ4MTg0MjI4MDRlN2I4MGM4ZjgxNTU5MzhjMmVkIiBzdHlsZT0id2lkdGg6IDEwMC4wJTsgaGVpZ2h0OiAxMDAuMCU7Ij45ODE0NjwvZGl2PmApWzBdOwogICAgICAgICAgICBwb3B1cF82YjM5YTQ1MzExNzY0ZmU5OGYxY2U1ZTZiNTQyYTA1YS5zZXRDb250ZW50KGh0bWxfN2U4NDgxODQyMjgwNGU3YjgwYzhmODE1NTkzOGMyZWQpOwogICAgICAgIAoKICAgICAgICBtYXJrZXJfYzJhNjc2ZGE2NjAzNDYwZWExOTg4ZmIxZDdlODQ0NTYuYmluZFBvcHVwKHBvcHVwXzZiMzlhNDUzMTE3NjRmZTk4ZjFjZTVlNmI1NDJhMDVhKQogICAgICAgIDsKCiAgICAgICAgCiAgICAKICAgIAogICAgICAgICAgICB2YXIgbWFya2VyX2Q4ZGYyY2I3NTY2NzQ5NTg5NTViMWVhYTJmYjVjYzZjID0gTC5tYXJrZXIoCiAgICAgICAgICAgICAgICBbNDcuMzU3MywgLTEyMi4zMjRdLAogICAgICAgICAgICAgICAge30KICAgICAgICAgICAgKS5hZGRUbyhtYXBfYzc4MmQ4YjQ1YjYzNGZkNjgxODljMjAzNmJkY2FkNTUpOwogICAgICAgIAogICAgCiAgICAgICAgdmFyIHBvcHVwXzJlYzdlNjA3NTM3MTQwOGJhYTMwYmU4MWNlOGM4YmZhID0gTC5wb3B1cCh7Im1heFdpZHRoIjogIjEwMCUifSk7CgogICAgICAgIAogICAgICAgICAgICB2YXIgaHRtbF8wNWE2ZWJjNDdlYjc0ZTA3OWEwNzliOWJhZjc5Mzk3NCA9ICQoYDxkaXYgaWQ9Imh0bWxfMDVhNmViYzQ3ZWI3NGUwNzlhMDc5YjliYWY3OTM5NzQiIHN0eWxlPSJ3aWR0aDogMTAwLjAlOyBoZWlnaHQ6IDEwMC4wJTsiPjk4MTk4PC9kaXY+YClbMF07CiAgICAgICAgICAgIHBvcHVwXzJlYzdlNjA3NTM3MTQwOGJhYTMwYmU4MWNlOGM4YmZhLnNldENvbnRlbnQoaHRtbF8wNWE2ZWJjNDdlYjc0ZTA3OWEwNzliOWJhZjc5Mzk3NCk7CiAgICAgICAgCgogICAgICAgIG1hcmtlcl9kOGRmMmNiNzU2Njc0OTU4OTU1YjFlYWEyZmI1Y2M2Yy5iaW5kUG9wdXAocG9wdXBfMmVjN2U2MDc1MzcxNDA4YmFhMzBiZTgxY2U4YzhiZmEpCiAgICAgICAgOwoKICAgICAgICAKICAgIAogICAgCiAgICAgICAgICAgIHZhciBtYXJrZXJfMWU2M2M5MDBiNDE4NGNjYzhlZTRjMWY3NGUxMmRiMjYgPSBMLm1hcmtlcigKICAgICAgICAgICAgICAgIFs0Ny40OTY5LCAtMTIyLjM3Nl0sCiAgICAgICAgICAgICAgICB7fQogICAgICAgICAgICApLmFkZFRvKG1hcF9jNzgyZDhiNDViNjM0ZmQ2ODE4OWMyMDM2YmRjYWQ1NSk7CiAgICAgICAgCiAgICAKICAgICAgICB2YXIgcG9wdXBfZDhmMGU4ZTY5NGM2NGFlMDgzZmY0YTA0YjA1MWMxNGQgPSBMLnBvcHVwKHsibWF4V2lkdGgiOiAiMTAwJSJ9KTsKCiAgICAgICAgCiAgICAgICAgICAgIHZhciBodG1sXzhjMWFkZGUwMjY2ZjQ0NTFhMjFhMTE5OTFkZWQ1YmQxID0gJChgPGRpdiBpZD0iaHRtbF84YzFhZGRlMDI2NmY0NDUxYTIxYTExOTkxZGVkNWJkMSIgc3R5bGU9IndpZHRoOiAxMDAuMCU7IGhlaWdodDogMTAwLjAlOyI+OTgxNDY8L2Rpdj5gKVswXTsKICAgICAgICAgICAgcG9wdXBfZDhmMGU4ZTY5NGM2NGFlMDgzZmY0YTA0YjA1MWMxNGQuc2V0Q29udGVudChodG1sXzhjMWFkZGUwMjY2ZjQ0NTFhMjFhMTE5OTFkZWQ1YmQxKTsKICAgICAgICAKCiAgICAgICAgbWFya2VyXzFlNjNjOTAwYjQxODRjY2M4ZWU0YzFmNzRlMTJkYjI2LmJpbmRQb3B1cChwb3B1cF9kOGYwZThlNjk0YzY0YWUwODNmZjRhMDRiMDUxYzE0ZCkKICAgICAgICA7CgogICAgICAgIAogICAgCiAgICAKICAgICAgICAgICAgdmFyIG1hcmtlcl9jM2UwYzU2ZmM3NjU0ZTY2OWEzMDAzYmI2ZjRhOTlhNSA9IEwubWFya2VyKAogICAgICAgICAgICAgICAgWzQ3LjQwNCwgLTEyMi40NDddLAogICAgICAgICAgICAgICAge30KICAgICAgICAgICAgKS5hZGRUbyhtYXBfYzc4MmQ4YjQ1YjYzNGZkNjgxODljMjAzNmJkY2FkNTUpOwogICAgICAgIAogICAgCiAgICAgICAgdmFyIHBvcHVwXzRlYzEwYmY2MDg1ZDQ2OWY5MjE2ODllYmVkMzI3NGYyID0gTC5wb3B1cCh7Im1heFdpZHRoIjogIjEwMCUifSk7CgogICAgICAgIAogICAgICAgICAgICB2YXIgaHRtbF84ODAwMDI2MmE4ODY0M2I4ODlhZDg4M2Y2ZDg2OTQxYyA9ICQoYDxkaXYgaWQ9Imh0bWxfODgwMDAyNjJhODg2NDNiODg5YWQ4ODNmNmQ4Njk0MWMiIHN0eWxlPSJ3aWR0aDogMTAwLjAlOyBoZWlnaHQ6IDEwMC4wJTsiPjk4MDcwPC9kaXY+YClbMF07CiAgICAgICAgICAgIHBvcHVwXzRlYzEwYmY2MDg1ZDQ2OWY5MjE2ODllYmVkMzI3NGYyLnNldENvbnRlbnQoaHRtbF84ODAwMDI2MmE4ODY0M2I4ODlhZDg4M2Y2ZDg2OTQxYyk7CiAgICAgICAgCgogICAgICAgIG1hcmtlcl9jM2UwYzU2ZmM3NjU0ZTY2OWEzMDAzYmI2ZjRhOTlhNS5iaW5kUG9wdXAocG9wdXBfNGVjMTBiZjYwODVkNDY5ZjkyMTY4OWViZWQzMjc0ZjIpCiAgICAgICAgOwoKICAgICAgICAKICAgIAogICAgCiAgICAgICAgICAgIHZhciBtYXJrZXJfMWY1MzY0MmRjNjhmNDZjN2FjM2RiYjVlZTBhZWExZjcgPSBMLm1hcmtlcigKICAgICAgICAgICAgICAgIFs0Ny40NzE2LCAtMTIyLjQ0NV0sCiAgICAgICAgICAgICAgICB7fQogICAgICAgICAgICApLmFkZFRvKG1hcF9jNzgyZDhiNDViNjM0ZmQ2ODE4OWMyMDM2YmRjYWQ1NSk7CiAgICAgICAgCiAgICAKICAgICAgICB2YXIgcG9wdXBfNjQ5OGE2ZTc5OTZhNGU5NGE4OGJkMzQ0NWIyOWU2NDAgPSBMLnBvcHVwKHsibWF4V2lkdGgiOiAiMTAwJSJ9KTsKCiAgICAgICAgCiAgICAgICAgICAgIHZhciBodG1sX2I0OTYyNTdmMTM2ODQwY2RhOTZjNTc1Mjc1NTRlYTcyID0gJChgPGRpdiBpZD0iaHRtbF9iNDk2MjU3ZjEzNjg0MGNkYTk2YzU3NTI3NTU0ZWE3MiIgc3R5bGU9IndpZHRoOiAxMDAuMCU7IGhlaWdodDogMTAwLjAlOyI+OTgwNzA8L2Rpdj5gKVswXTsKICAgICAgICAgICAgcG9wdXBfNjQ5OGE2ZTc5OTZhNGU5NGE4OGJkMzQ0NWIyOWU2NDAuc2V0Q29udGVudChodG1sX2I0OTYyNTdmMTM2ODQwY2RhOTZjNTc1Mjc1NTRlYTcyKTsKICAgICAgICAKCiAgICAgICAgbWFya2VyXzFmNTM2NDJkYzY4ZjQ2YzdhYzNkYmI1ZWUwYWVhMWY3LmJpbmRQb3B1cChwb3B1cF82NDk4YTZlNzk5NmE0ZTk0YTg4YmQzNDQ1YjI5ZTY0MCkKICAgICAgICA7CgogICAgICAgIAogICAgCiAgICAKICAgICAgICAgICAgdmFyIG1hcmtlcl8yOWJlNzM1MWZkZTE0MmFlOWY0ODdmM2IxMDk4ZjU4NCA9IEwubWFya2VyKAogICAgICAgICAgICAgICAgWzQ3LjM1MDksIC0xMjIuMzIzXSwKICAgICAgICAgICAgICAgIHt9CiAgICAgICAgICAgICkuYWRkVG8obWFwX2M3ODJkOGI0NWI2MzRmZDY4MTg5YzIwMzZiZGNhZDU1KTsKICAgICAgICAKICAgIAogICAgICAgIHZhciBwb3B1cF8yMjdhZjAzNzI4ZGU0MmMzOTgyMDdjMjFhNDg5ZDg4ZiA9IEwucG9wdXAoeyJtYXhXaWR0aCI6ICIxMDAlIn0pOwoKICAgICAgICAKICAgICAgICAgICAgdmFyIGh0bWxfNzY0YjU4OGYzZjk4NDVhMDkwNTgzNTQwY2Q2OWFiNjAgPSAkKGA8ZGl2IGlkPSJodG1sXzc2NGI1ODhmM2Y5ODQ1YTA5MDU4MzU0MGNkNjlhYjYwIiBzdHlsZT0id2lkdGg6IDEwMC4wJTsgaGVpZ2h0OiAxMDAuMCU7Ij45ODE5ODwvZGl2PmApWzBdOwogICAgICAgICAgICBwb3B1cF8yMjdhZjAzNzI4ZGU0MmMzOTgyMDdjMjFhNDg5ZDg4Zi5zZXRDb250ZW50KGh0bWxfNzY0YjU4OGYzZjk4NDVhMDkwNTgzNTQwY2Q2OWFiNjApOwogICAgICAgIAoKICAgICAgICBtYXJrZXJfMjliZTczNTFmZGUxNDJhZTlmNDg3ZjNiMTA5OGY1ODQuYmluZFBvcHVwKHBvcHVwXzIyN2FmMDM3MjhkZTQyYzM5ODIwN2MyMWE0ODlkODhmKQogICAgICAgIDsKCiAgICAgICAgCiAgICAKICAgIAogICAgICAgICAgICB2YXIgbWFya2VyX2E2MzMwMjgzZWM0MjQ3ZWM5NTNlN2ExODljZDM4NjQ2ID0gTC5tYXJrZXIoCiAgICAgICAgICAgICAgICBbNDcuNDU1MSwgLTEyMi4zNzNdLAogICAgICAgICAgICAgICAge30KICAgICAgICAgICAgKS5hZGRUbyhtYXBfYzc4MmQ4YjQ1YjYzNGZkNjgxODljMjAzNmJkY2FkNTUpOwogICAgICAgIAogICAgCiAgICAgICAgdmFyIHBvcHVwXzU4MWNjZGQ5Y2EwZTRkZWRiMjUxM2YwNmU0ODZmOWZlID0gTC5wb3B1cCh7Im1heFdpZHRoIjogIjEwMCUifSk7CgogICAgICAgIAogICAgICAgICAgICB2YXIgaHRtbF83NDE2MmY5YTg5N2U0MjEyOWU2YmExYTU4ZDBkNGIxYSA9ICQoYDxkaXYgaWQ9Imh0bWxfNzQxNjJmOWE4OTdlNDIxMjllNmJhMWE1OGQwZDRiMWEiIHN0eWxlPSJ3aWR0aDogMTAwLjAlOyBoZWlnaHQ6IDEwMC4wJTsiPjk4MTY2PC9kaXY+YClbMF07CiAgICAgICAgICAgIHBvcHVwXzU4MWNjZGQ5Y2EwZTRkZWRiMjUxM2YwNmU0ODZmOWZlLnNldENvbnRlbnQoaHRtbF83NDE2MmY5YTg5N2U0MjEyOWU2YmExYTU4ZDBkNGIxYSk7CiAgICAgICAgCgogICAgICAgIG1hcmtlcl9hNjMzMDI4M2VjNDI0N2VjOTUzZTdhMTg5Y2QzODY0Ni5iaW5kUG9wdXAocG9wdXBfNTgxY2NkZDljYTBlNGRlZGIyNTEzZjA2ZTQ4NmY5ZmUpCiAgICAgICAgOwoKICAgICAgICAKICAgIAogICAgCiAgICAgICAgICAgIHZhciBtYXJrZXJfOTljZTVmMmQzODM3NDYzOWJiMzAxYjlhNWVkZmExOWIgPSBMLm1hcmtlcigKICAgICAgICAgICAgICAgIFs0Ny40MDEyLCAtMTIyLjQyNV0sCiAgICAgICAgICAgICAgICB7fQogICAgICAgICAgICApLmFkZFRvKG1hcF9jNzgyZDhiNDViNjM0ZmQ2ODE4OWMyMDM2YmRjYWQ1NSk7CiAgICAgICAgCiAgICAKICAgICAgICB2YXIgcG9wdXBfMGFkYzdhNjg5YTVjNDgxMGI5NjRhMjI2MTIzOTEwOGQgPSBMLnBvcHVwKHsibWF4V2lkdGgiOiAiMTAwJSJ9KTsKCiAgICAgICAgCiAgICAgICAgICAgIHZhciBodG1sX2ZkZDM2NGU0MTg5ODQ2MTc4NjEwYjNlM2NhMzZjODhkID0gJChgPGRpdiBpZD0iaHRtbF9mZGQzNjRlNDE4OTg0NjE3ODYxMGIzZTNjYTM2Yzg4ZCIgc3R5bGU9IndpZHRoOiAxMDAuMCU7IGhlaWdodDogMTAwLjAlOyI+OTgwNzA8L2Rpdj5gKVswXTsKICAgICAgICAgICAgcG9wdXBfMGFkYzdhNjg5YTVjNDgxMGI5NjRhMjI2MTIzOTEwOGQuc2V0Q29udGVudChodG1sX2ZkZDM2NGU0MTg5ODQ2MTc4NjEwYjNlM2NhMzZjODhkKTsKICAgICAgICAKCiAgICAgICAgbWFya2VyXzk5Y2U1ZjJkMzgzNzQ2MzliYjMwMWI5YTVlZGZhMTliLmJpbmRQb3B1cChwb3B1cF8wYWRjN2E2ODlhNWM0ODEwYjk2NGEyMjYxMjM5MTA4ZCkKICAgICAgICA7CgogICAgICAgIAogICAgCiAgICAKICAgICAgICAgICAgdmFyIG1hcmtlcl8xNWRkZTE2ZTc5MzE0ZDJmODJiOTQwODFlZjI0OGRjYSA9IEwubWFya2VyKAogICAgICAgICAgICAgICAgWzQ3LjM5NzksIC0xMjIuNDY1XSwKICAgICAgICAgICAgICAgIHt9CiAgICAgICAgICAgICkuYWRkVG8obWFwX2M3ODJkOGI0NWI2MzRmZDY4MTg5YzIwMzZiZGNhZDU1KTsKICAgICAgICAKICAgIAogICAgICAgIHZhciBwb3B1cF9hMTg4YjZhMjBiZjE0MWUxOTBjODhmMTI3MGRjNTgzMiA9IEwucG9wdXAoeyJtYXhXaWR0aCI6ICIxMDAlIn0pOwoKICAgICAgICAKICAgICAgICAgICAgdmFyIGh0bWxfMGYxZDdiNjcwMjY4NDQ1YmFmMDhmNzM3Y2E4NDcwNDYgPSAkKGA8ZGl2IGlkPSJodG1sXzBmMWQ3YjY3MDI2ODQ0NWJhZjA4ZjczN2NhODQ3MDQ2IiBzdHlsZT0id2lkdGg6IDEwMC4wJTsgaGVpZ2h0OiAxMDAuMCU7Ij45ODA3MDwvZGl2PmApWzBdOwogICAgICAgICAgICBwb3B1cF9hMTg4YjZhMjBiZjE0MWUxOTBjODhmMTI3MGRjNTgzMi5zZXRDb250ZW50KGh0bWxfMGYxZDdiNjcwMjY4NDQ1YmFmMDhmNzM3Y2E4NDcwNDYpOwogICAgICAgIAoKICAgICAgICBtYXJrZXJfMTVkZGUxNmU3OTMxNGQyZjgyYjk0MDgxZWYyNDhkY2EuYmluZFBvcHVwKHBvcHVwX2ExODhiNmEyMGJmMTQxZTE5MGM4OGYxMjcwZGM1ODMyKQogICAgICAgIDsKCiAgICAgICAgCiAgICAKICAgIAogICAgICAgICAgICB2YXIgbWFya2VyX2U1NDQ1MGY1MjhkYjQzOTg4NGU3Y2I3MWE1YmUyNTg2ID0gTC5tYXJrZXIoCiAgICAgICAgICAgICAgICBbNDcuNDUsIC0xMjIuMzc3XSwKICAgICAgICAgICAgICAgIHt9CiAgICAgICAgICAgICkuYWRkVG8obWFwX2M3ODJkOGI0NWI2MzRmZDY4MTg5YzIwMzZiZGNhZDU1KTsKICAgICAgICAKICAgIAogICAgICAgIHZhciBwb3B1cF80M2JkOTI4YzNhY2I0YmU1OTk0NWViMDQ5NTFjNTE3YiA9IEwucG9wdXAoeyJtYXhXaWR0aCI6ICIxMDAlIn0pOwoKICAgICAgICAKICAgICAgICAgICAgdmFyIGh0bWxfNTM0ZWExOGVhYTBkNGJhYmFhMDJlYTg0NWMxYjlhOTAgPSAkKGA8ZGl2IGlkPSJodG1sXzUzNGVhMThlYWEwZDRiYWJhYTAyZWE4NDVjMWI5YTkwIiBzdHlsZT0id2lkdGg6IDEwMC4wJTsgaGVpZ2h0OiAxMDAuMCU7Ij45ODE2NjwvZGl2PmApWzBdOwogICAgICAgICAgICBwb3B1cF80M2JkOTI4YzNhY2I0YmU1OTk0NWViMDQ5NTFjNTE3Yi5zZXRDb250ZW50KGh0bWxfNTM0ZWExOGVhYTBkNGJhYmFhMDJlYTg0NWMxYjlhOTApOwogICAgICAgIAoKICAgICAgICBtYXJrZXJfZTU0NDUwZjUyOGRiNDM5ODg0ZTdjYjcxYTViZTI1ODYuYmluZFBvcHVwKHBvcHVwXzQzYmQ5MjhjM2FjYjRiZTU5OTQ1ZWIwNDk1MWM1MTdiKQogICAgICAgIDsKCiAgICAgICAgCiAgICAKICAgIAogICAgICAgICAgICB2YXIgZmVhdHVyZV9ncm91cF9hYzE3NTA4ZWVjMTg0N2UxODkxYTBkMTFkOWVjNzhlNCA9IEwuZmVhdHVyZUdyb3VwKAogICAgICAgICAgICAgICAge30KICAgICAgICAgICAgKS5hZGRUbyhtYXBfYzc4MmQ4YjQ1YjYzNGZkNjgxODljMjAzNmJkY2FkNTUpOwogICAgICAgIAogICAgCiAgICAgICAgICAgIHZhciBtYXJrZXJfNTY2NmUxNTA2NjgwNGViZTg3Mzk0MTk5NjQxZDBlMDUgPSBMLm1hcmtlcigKICAgICAgICAgICAgICAgIFs0Ny40NDk3LCAtMTIyLjM3NV0sCiAgICAgICAgICAgICAgICB7ImZpbGwiOiB0cnVlLCAiZmlsbE9wYWNpdHkiOiAwLjYsICJyYWRpdXMiOiA1fQogICAgICAgICAgICApLmFkZFRvKGZlYXR1cmVfZ3JvdXBfYWMxNzUwOGVlYzE4NDdlMTg5MWEwZDExZDllYzc4ZTQpOwogICAgICAgIAogICAgCiAgICAgICAgICAgIHZhciBtYXJrZXJfMzBiZDQ4ZmY4NDg4NDIwYTg0Y2QwNmIyNmUzMTllMTIgPSBMLm1hcmtlcigKICAgICAgICAgICAgICAgIFs0Ny40NjgzLCAtMTIyLjQzOF0sCiAgICAgICAgICAgICAgICB7ImZpbGwiOiB0cnVlLCAiZmlsbE9wYWNpdHkiOiAwLjYsICJyYWRpdXMiOiA1fQogICAgICAgICAgICApLmFkZFRvKGZlYXR1cmVfZ3JvdXBfYWMxNzUwOGVlYzE4NDdlMTg5MWEwZDExZDllYzc4ZTQpOwogICAgICAgIAogICAgCiAgICAgICAgICAgIHZhciBtYXJrZXJfZmQyODg0YWZmOWYyNDBkYTg1MmQxYjM5M2NmMTY4YjAgPSBMLm1hcmtlcigKICAgICAgICAgICAgICAgIFs0Ny4zODQ0LCAtMTIyLjQzOF0sCiAgICAgICAgICAgICAgICB7ImZpbGwiOiB0cnVlLCAiZmlsbE9wYWNpdHkiOiAwLjYsICJyYWRpdXMiOiA1fQogICAgICAgICAgICApLmFkZFRvKGZlYXR1cmVfZ3JvdXBfYWMxNzUwOGVlYzE4NDdlMTg5MWEwZDExZDllYzc4ZTQpOwogICAgICAgIAogICAgCiAgICAgICAgICAgIHZhciBtYXJrZXJfZTA3YTFiMjFlNGUwNDJjYTg0MjE3Y2Q0MWFiMmI3OWEgPSBMLm1hcmtlcigKICAgICAgICAgICAgICAgIFs0Ny41MDIsIC0xMjIuMjIyXSwKICAgICAgICAgICAgICAgIHsiZmlsbCI6IHRydWUsICJmaWxsT3BhY2l0eSI6IDAuNiwgInJhZGl1cyI6IDV9CiAgICAgICAgICAgICkuYWRkVG8oZmVhdHVyZV9ncm91cF9hYzE3NTA4ZWVjMTg0N2UxODkxYTBkMTFkOWVjNzhlNCk7CiAgICAgICAgCiAgICAKICAgICAgICAgICAgdmFyIG1hcmtlcl8xMTQ5NzRiM2I4ZDQ0MzQ5YWFiODE3YzA2NmIwMGRjMSA9IEwubWFya2VyKAogICAgICAgICAgICAgICAgWzQ3LjUxMDUsIC0xMjIuMjM4XSwKICAgICAgICAgICAgICAgIHsiZmlsbCI6IHRydWUsICJmaWxsT3BhY2l0eSI6IDAuNiwgInJhZGl1cyI6IDV9CiAgICAgICAgICAgICkuYWRkVG8oZmVhdHVyZV9ncm91cF9hYzE3NTA4ZWVjMTg0N2UxODkxYTBkMTFkOWVjNzhlNCk7CiAgICAgICAgCiAgICAKICAgICAgICAgICAgdmFyIG1hcmtlcl9lMTQyNmJiZmRiNmE0ODIxOTU4ZGQ3MDU0Y2E0MGZiYSA9IEwubWFya2VyKAogICAgICAgICAgICAgICAgWzQ3LjQzMzksIC0xMjIuNTEyXSwKICAgICAgICAgICAgICAgIHsiZmlsbCI6IHRydWUsICJmaWxsT3BhY2l0eSI6IDAuNiwgInJhZGl1cyI6IDV9CiAgICAgICAgICAgICkuYWRkVG8oZmVhdHVyZV9ncm91cF9hYzE3NTA4ZWVjMTg0N2UxODkxYTBkMTFkOWVjNzhlNCk7CiAgICAgICAgCiAgICAKICAgICAgICAgICAgdmFyIG1hcmtlcl9kNjRlYzNkN2Q5MGQ0M2Y5YWEwYzdjNjI4YTViZTY2ZiA9IEwubWFya2VyKAogICAgICAgICAgICAgICAgWzQ3LjQ3MzQsIC0xMjIuMzY1XSwKICAgICAgICAgICAgICAgIHsiZmlsbCI6IHRydWUsICJmaWxsT3BhY2l0eSI6IDAuNiwgInJhZGl1cyI6IDV9CiAgICAgICAgICAgICkuYWRkVG8oZmVhdHVyZV9ncm91cF9hYzE3NTA4ZWVjMTg0N2UxODkxYTBkMTFkOWVjNzhlNCk7CiAgICAgICAgCiAgICAKICAgICAgICAgICAgdmFyIG1hcmtlcl80MTllZGFjYzM4ODc0NDU5YjlkYTc0NjY2YWJiYTkyOCA9IEwubWFya2VyKAogICAgICAgICAgICAgICAgWzQ3LjY0NSwgLTEyMi4wODRdLAogICAgICAgICAgICAgICAgeyJmaWxsIjogdHJ1ZSwgImZpbGxPcGFjaXR5IjogMC42LCAicmFkaXVzIjogNX0KICAgICAgICAgICAgKS5hZGRUbyhmZWF0dXJlX2dyb3VwX2FjMTc1MDhlZWMxODQ3ZTE4OTFhMGQxMWQ5ZWM3OGU0KTsKICAgICAgICAKICAgIAogICAgICAgICAgICB2YXIgbWFya2VyX2I0ZjE5MTdiYTkyNTQ1M2FiMWY5NzM0MGE5N2Q2MDE0ID0gTC5tYXJrZXIoCiAgICAgICAgICAgICAgICBbNDcuMzg1MywgLTEyMi40NzldLAogICAgICAgICAgICAgICAgeyJmaWxsIjogdHJ1ZSwgImZpbGxPcGFjaXR5IjogMC42LCAicmFkaXVzIjogNX0KICAgICAgICAgICAgKS5hZGRUbyhmZWF0dXJlX2dyb3VwX2FjMTc1MDhlZWMxODQ3ZTE4OTFhMGQxMWQ5ZWM3OGU0KTsKICAgICAgICAKICAgIAogICAgICAgICAgICB2YXIgbWFya2VyXzRjMjQ1ZmI0NDg3YjRmOTc4NTU2ZjJmNzQwOWM1OTFiID0gTC5tYXJrZXIoCiAgICAgICAgICAgICAgICBbNDcuMzc4MiwgLTEyMi41MTRdLAogICAgICAgICAgICAgICAgeyJmaWxsIjogdHJ1ZSwgImZpbGxPcGFjaXR5IjogMC42LCAicmFkaXVzIjogNX0KICAgICAgICAgICAgKS5hZGRUbyhmZWF0dXJlX2dyb3VwX2FjMTc1MDhlZWMxODQ3ZTE4OTFhMGQxMWQ5ZWM3OGU0KTsKICAgICAgICAKICAgIAogICAgICAgICAgICB2YXIgbWFya2VyXzE2ZWFlZjFjYTc4NDQwYmE5OGZiOTU2MjZlNTZiYjFmID0gTC5tYXJrZXIoCiAgICAgICAgICAgICAgICBbNDcuNTExNywgLTEyMi4yNDhdLAogICAgICAgICAgICAgICAgeyJmaWxsIjogdHJ1ZSwgImZpbGxPcGFjaXR5IjogMC42LCAicmFkaXVzIjogNX0KICAgICAgICAgICAgKS5hZGRUbyhmZWF0dXJlX2dyb3VwX2FjMTc1MDhlZWMxODQ3ZTE4OTFhMGQxMWQ5ZWM3OGU0KTsKICAgICAgICAKICAgIAogICAgICAgICAgICB2YXIgbWFya2VyX2JhOGVkODMwNjQ2ZDQ2MTU4Y2I3ODg0ZTY2NTBkOTIyID0gTC5tYXJrZXIoCiAgICAgICAgICAgICAgICBbNDcuNTQ4OCwgLTEyMi4xOTddLAogICAgICAgICAgICAgICAgeyJmaWxsIjogdHJ1ZSwgImZpbGxPcGFjaXR5IjogMC42LCAicmFkaXVzIjogNX0KICAgICAgICAgICAgKS5hZGRUbyhmZWF0dXJlX2dyb3VwX2FjMTc1MDhlZWMxODQ3ZTE4OTFhMGQxMWQ5ZWM3OGU0KTsKICAgICAgICAKICAgIAogICAgICAgICAgICB2YXIgbWFya2VyXzJlYzRhYmE5MWVjMzRmNDRhMDQ4ZTc5OTNjNGUxNTg0ID0gTC5tYXJrZXIoCiAgICAgICAgICAgICAgICBbNDcuMzMxMiwgLTEyMi41MDNdLAogICAgICAgICAgICAgICAgeyJmaWxsIjogdHJ1ZSwgImZpbGxPcGFjaXR5IjogMC42LCAicmFkaXVzIjogNX0KICAgICAgICAgICAgKS5hZGRUbyhmZWF0dXJlX2dyb3VwX2FjMTc1MDhlZWMxODQ3ZTE4OTFhMGQxMWQ5ZWM3OGU0KTsKICAgICAgICAKICAgIAogICAgICAgICAgICB2YXIgbWFya2VyX2QzZGIyZWY0NjJlYjRkZTBiYzc1OTI1Y2UxZDA2MGY5ID0gTC5tYXJrZXIoCiAgICAgICAgICAgICAgICBbNDcuNDI4NSwgLTEyMi41MTFdLAogICAgICAgICAgICAgICAgeyJmaWxsIjogdHJ1ZSwgImZpbGxPcGFjaXR5IjogMC42LCAicmFkaXVzIjogNX0KICAgICAgICAgICAgKS5hZGRUbyhmZWF0dXJlX2dyb3VwX2FjMTc1MDhlZWMxODQ3ZTE4OTFhMGQxMWQ5ZWM3OGU0KTsKICAgICAgICAKICAgIAogICAgICAgICAgICB2YXIgbWFya2VyX2I5M2VmZDAzMjI3MTRkMjU4ZWE3ZTJmZWQ4NGYyZjIxID0gTC5tYXJrZXIoCiAgICAgICAgICAgICAgICBbNDcuMzI3NiwgLTEyMi4zODldLAogICAgICAgICAgICAgICAgeyJmaWxsIjogdHJ1ZSwgImZpbGxPcGFjaXR5IjogMC42LCAicmFkaXVzIjogNX0KICAgICAgICAgICAgKS5hZGRUbyhmZWF0dXJlX2dyb3VwX2FjMTc1MDhlZWMxODQ3ZTE4OTFhMGQxMWQ5ZWM3OGU0KTsKICAgICAgICAKICAgIAogICAgICAgICAgICB2YXIgbWFya2VyX2VlMGU2YjBhNDljYzQxOTViMTNjYzMwY2QxNzAxYTNmID0gTC5tYXJrZXIoCiAgICAgICAgICAgICAgICBbNDcuNTE5MywgLTEyMi4yNTddLAogICAgICAgICAgICAgICAgeyJmaWxsIjogdHJ1ZSwgImZpbGxPcGFjaXR5IjogMC42LCAicmFkaXVzIjogNX0KICAgICAgICAgICAgKS5hZGRUbyhmZWF0dXJlX2dyb3VwX2FjMTc1MDhlZWMxODQ3ZTE4OTFhMGQxMWQ5ZWM3OGU0KTsKICAgICAgICAKICAgIAogICAgICAgICAgICB2YXIgbWFya2VyXzYyY2VmNTFlMmRiYTQwODE4NDNiYzk3NTUyOTU0ZmYwID0gTC5tYXJrZXIoCiAgICAgICAgICAgICAgICBbNDcuMzMzOCwgLTEyMi41MTFdLAogICAgICAgICAgICAgICAgeyJmaWxsIjogdHJ1ZSwgImZpbGxPcGFjaXR5IjogMC42LCAicmFkaXVzIjogNX0KICAgICAgICAgICAgKS5hZGRUbyhmZWF0dXJlX2dyb3VwX2FjMTc1MDhlZWMxODQ3ZTE4OTFhMGQxMWQ5ZWM3OGU0KTsKICAgICAgICAKICAgIAogICAgICAgICAgICB2YXIgbWFya2VyX2ZjZTdmMWQ2OTZmZTQ0YWU4YjQ1OTY4NTRhMmY2MThiID0gTC5tYXJrZXIoCiAgICAgICAgICAgICAgICBbNDcuMzU1NCwgLTEyMi4zMjRdLAogICAgICAgICAgICAgICAgeyJmaWxsIjogdHJ1ZSwgImZpbGxPcGFjaXR5IjogMC42LCAicmFkaXVzIjogNX0KICAgICAgICAgICAgKS5hZGRUbyhmZWF0dXJlX2dyb3VwX2FjMTc1MDhlZWMxODQ3ZTE4OTFhMGQxMWQ5ZWM3OGU0KTsKICAgICAgICAKICAgIAogICAgICAgICAgICB2YXIgbWFya2VyXzc0ZmEwYzkyNmQ4NDQzMWViMWZkYjQ4M2EyOTNjNWZiID0gTC5tYXJrZXIoCiAgICAgICAgICAgICAgICBbNDcuMzMxMSwgLTEyMi4zNzVdLAogICAgICAgICAgICAgICAgeyJmaWxsIjogdHJ1ZSwgImZpbGxPcGFjaXR5IjogMC42LCAicmFkaXVzIjogNX0KICAgICAgICAgICAgKS5hZGRUbyhmZWF0dXJlX2dyb3VwX2FjMTc1MDhlZWMxODQ3ZTE4OTFhMGQxMWQ5ZWM3OGU0KTsKICAgICAgICAKICAgIAogICAgICAgICAgICB2YXIgbWFya2VyXzczNmZiNDJlYTU2NzRhZGNiODUxZjdjZGQ5YTZjMjBlID0gTC5tYXJrZXIoCiAgICAgICAgICAgICAgICBbNDcuNDQ5OSwgLTEyMi4zNzZdLAogICAgICAgICAgICAgICAgeyJmaWxsIjogdHJ1ZSwgImZpbGxPcGFjaXR5IjogMC42LCAicmFkaXVzIjogNX0KICAgICAgICAgICAgKS5hZGRUbyhmZWF0dXJlX2dyb3VwX2FjMTc1MDhlZWMxODQ3ZTE4OTFhMGQxMWQ5ZWM3OGU0KTsKICAgICAgICAKICAgIAogICAgICAgICAgICB2YXIgbWFya2VyX2I3Yjk5MTExNjBhNzRkNjM5ZjAzOGZlZTU3MTRkOTU0ID0gTC5tYXJrZXIoCiAgICAgICAgICAgICAgICBbNDcuNTAyMiwgLTEyMi4yMjNdLAogICAgICAgICAgICAgICAgeyJmaWxsIjogdHJ1ZSwgImZpbGxPcGFjaXR5IjogMC42LCAicmFkaXVzIjogNX0KICAgICAgICAgICAgKS5hZGRUbyhmZWF0dXJlX2dyb3VwX2FjMTc1MDhlZWMxODQ3ZTE4OTFhMGQxMWQ5ZWM3OGU0KTsKICAgICAgICAKICAgIAogICAgICAgICAgICB2YXIgbWFya2VyXzA1NDI1OGFkZjIyNDQ5YTliNDY5NWY1NzhjMzVmZWIyID0gTC5tYXJrZXIoCiAgICAgICAgICAgICAgICBbNDcuMzg4MSwgLTEyMi4zMjZdLAogICAgICAgICAgICAgICAgeyJmaWxsIjogdHJ1ZSwgImZpbGxPcGFjaXR5IjogMC42LCAicmFkaXVzIjogNX0KICAgICAgICAgICAgKS5hZGRUbyhmZWF0dXJlX2dyb3VwX2FjMTc1MDhlZWMxODQ3ZTE4OTFhMGQxMWQ5ZWM3OGU0KTsKICAgICAgICAKICAgIAogICAgICAgICAgICB2YXIgbWFya2VyXzEwNjcxYWMzYmY2ODQwNWI5ZTliZWUxNmUwOGM1ZmZmID0gTC5tYXJrZXIoCiAgICAgICAgICAgICAgICBbNDcuMzgxMSwgLTEyMi4zMjVdLAogICAgICAgICAgICAgICAgeyJmaWxsIjogdHJ1ZSwgImZpbGxPcGFjaXR5IjogMC42LCAicmFkaXVzIjogNX0KICAgICAgICAgICAgKS5hZGRUbyhmZWF0dXJlX2dyb3VwX2FjMTc1MDhlZWMxODQ3ZTE4OTFhMGQxMWQ5ZWM3OGU0KTsKICAgICAgICAKICAgIAogICAgICAgICAgICB2YXIgbWFya2VyXzQ5YmVmODgyNTFmYzQzMTRhYTZjNDhmMzg0ZjdiMWNhID0gTC5tYXJrZXIoCiAgICAgICAgICAgICAgICBbNDcuNDUzNiwgLTEyMi4zNzZdLAogICAgICAgICAgICAgICAgeyJmaWxsIjogdHJ1ZSwgImZpbGxPcGFjaXR5IjogMC42LCAicmFkaXVzIjogNX0KICAgICAgICAgICAgKS5hZGRUbyhmZWF0dXJlX2dyb3VwX2FjMTc1MDhlZWMxODQ3ZTE4OTFhMGQxMWQ5ZWM3OGU0KTsKICAgICAgICAKICAgIAogICAgICAgICAgICB2YXIgbWFya2VyXzdlYjUyZWE5ZTM5MDQ1YzNhZThkYTk4OGE1NTVjNjUxID0gTC5tYXJrZXIoCiAgICAgICAgICAgICAgICBbNDcuMzU3MSwgLTEyMi4zMjRdLAogICAgICAgICAgICAgICAgeyJmaWxsIjogdHJ1ZSwgImZpbGxPcGFjaXR5IjogMC42LCAicmFkaXVzIjogNX0KICAgICAgICAgICAgKS5hZGRUbyhmZWF0dXJlX2dyb3VwX2FjMTc1MDhlZWMxODQ3ZTE4OTFhMGQxMWQ5ZWM3OGU0KTsKICAgICAgICAKICAgIAogICAgICAgICAgICB2YXIgbWFya2VyX2JjZTVjZTI2NjEwYjQ0NWZhNDBlNDZjZjg5YmM2NTczID0gTC5tYXJrZXIoCiAgICAgICAgICAgICAgICBbNDcuNDUwMiwgLTEyMi4zNzhdLAogICAgICAgICAgICAgICAgeyJmaWxsIjogdHJ1ZSwgImZpbGxPcGFjaXR5IjogMC42LCAicmFkaXVzIjogNX0KICAgICAgICAgICAgKS5hZGRUbyhmZWF0dXJlX2dyb3VwX2FjMTc1MDhlZWMxODQ3ZTE4OTFhMGQxMWQ5ZWM3OGU0KTsKICAgICAgICAKICAgIAogICAgICAgICAgICB2YXIgbWFya2VyX2U3OTJjOGU3MmY5ZTQ5ZDdiYTRjOTdjZDA5YWE5MGMxID0gTC5tYXJrZXIoCiAgICAgICAgICAgICAgICBbNDcuMzc5OSwgLTEyMi4zMjVdLAogICAgICAgICAgICAgICAgeyJmaWxsIjogdHJ1ZSwgImZpbGxPcGFjaXR5IjogMC42LCAicmFkaXVzIjogNX0KICAgICAgICAgICAgKS5hZGRUbyhmZWF0dXJlX2dyb3VwX2FjMTc1MDhlZWMxODQ3ZTE4OTFhMGQxMWQ5ZWM3OGU0KTsKICAgICAgICAKICAgIAogICAgICAgICAgICB2YXIgbWFya2VyXzIyNmMwNmNmNDA0MjQwYjY4ZTkyMzI2M2ZhZWZmZTIyID0gTC5tYXJrZXIoCiAgICAgICAgICAgICAgICBbNDcuNDU5LCAtMTIyLjUwNF0sCiAgICAgICAgICAgICAgICB7ImZpbGwiOiB0cnVlLCAiZmlsbE9wYWNpdHkiOiAwLjYsICJyYWRpdXMiOiA1fQogICAgICAgICAgICApLmFkZFRvKGZlYXR1cmVfZ3JvdXBfYWMxNzUwOGVlYzE4NDdlMTg5MWEwZDExZDllYzc4ZTQpOwogICAgICAgIAogICAgCiAgICAgICAgICAgIHZhciBtYXJrZXJfMzk5MzNkMzZjOWE4NGM3MGIyMWI1MDJmZjZkM2E5YmUgPSBMLm1hcmtlcigKICAgICAgICAgICAgICAgIFs0Ny40NTIyLCAtMTIyLjM3OF0sCiAgICAgICAgICAgICAgICB7ImZpbGwiOiB0cnVlLCAiZmlsbE9wYWNpdHkiOiAwLjYsICJyYWRpdXMiOiA1fQogICAgICAgICAgICApLmFkZFRvKGZlYXR1cmVfZ3JvdXBfYWMxNzUwOGVlYzE4NDdlMTg5MWEwZDExZDllYzc4ZTQpOwogICAgICAgIAogICAgCiAgICAgICAgICAgIHZhciBtYXJrZXJfMjQ4M2FlYmY4ZGFmNGE0M2IzNmJlZWFhNzQyNDM2MTcgPSBMLm1hcmtlcigKICAgICAgICAgICAgICAgIFs0Ny4zNTgsIC0xMjIuNDQ2XSwKICAgICAgICAgICAgICAgIHsiZmlsbCI6IHRydWUsICJmaWxsT3BhY2l0eSI6IDAuNiwgInJhZGl1cyI6IDV9CiAgICAgICAgICAgICkuYWRkVG8oZmVhdHVyZV9ncm91cF9hYzE3NTA4ZWVjMTg0N2UxODkxYTBkMTFkOWVjNzhlNCk7CiAgICAgICAgCiAgICAKICAgICAgICAgICAgdmFyIG1hcmtlcl84NzI5YmE0MzFhMWI0M2NkYmVlNmI0ZWZjMjI3OGFhNCA9IEwubWFya2VyKAogICAgICAgICAgICAgICAgWzQ3LjQ3MjgsIC0xMjIuNDk3XSwKICAgICAgICAgICAgICAgIHsiZmlsbCI6IHRydWUsICJmaWxsT3BhY2l0eSI6IDAuNiwgInJhZGl1cyI6IDV9CiAgICAgICAgICAgICkuYWRkVG8oZmVhdHVyZV9ncm91cF9hYzE3NTA4ZWVjMTg0N2UxODkxYTBkMTFkOWVjNzhlNCk7CiAgICAgICAgCiAgICAKICAgICAgICAgICAgdmFyIG1hcmtlcl8xODExNDUwYTkwZTE0MWM4ODU2ZGZjYmNhYjFhYTc4MCA9IEwubWFya2VyKAogICAgICAgICAgICAgICAgWzQ3LjM2NDgsIC0xMjIuMzI1XSwKICAgICAgICAgICAgICAgIHsiZmlsbCI6IHRydWUsICJmaWxsT3BhY2l0eSI6IDAuNiwgInJhZGl1cyI6IDV9CiAgICAgICAgICAgICkuYWRkVG8oZmVhdHVyZV9ncm91cF9hYzE3NTA4ZWVjMTg0N2UxODkxYTBkMTFkOWVjNzhlNCk7CiAgICAgICAgCiAgICAKICAgICAgICAgICAgdmFyIG1hcmtlcl81MmI2YjUwYjU4YTA0YjlkOWE4ODQ2MjY2ZjhjNTM2ZCA9IEwubWFya2VyKAogICAgICAgICAgICAgICAgWzQ3LjU0NzYsIC0xMjIuMzk5XSwKICAgICAgICAgICAgICAgIHsiZmlsbCI6IHRydWUsICJmaWxsT3BhY2l0eSI6IDAuNiwgInJhZGl1cyI6IDV9CiAgICAgICAgICAgICkuYWRkVG8oZmVhdHVyZV9ncm91cF9hYzE3NTA4ZWVjMTg0N2UxODkxYTBkMTFkOWVjNzhlNCk7CiAgICAgICAgCiAgICAKICAgICAgICAgICAgdmFyIG1hcmtlcl8wYmEyNjhkMDVjNzk0YTZkODNjN2I3MWU2MzIyMTBmMCA9IEwubWFya2VyKAogICAgICAgICAgICAgICAgWzQ3LjUxMTQsIC0xMjIuMjQ1XSwKICAgICAgICAgICAgICAgIHsiZmlsbCI6IHRydWUsICJmaWxsT3BhY2l0eSI6IDAuNiwgInJhZGl1cyI6IDV9CiAgICAgICAgICAgICkuYWRkVG8oZmVhdHVyZV9ncm91cF9hYzE3NTA4ZWVjMTg0N2UxODkxYTBkMTFkOWVjNzhlNCk7CiAgICAgICAgCiAgICAKICAgICAgICAgICAgdmFyIG1hcmtlcl9hMzI4ZjlhOWRiYTQ0ZDFjODIxMTQ2N2QwNDU5NTI4ZiA9IEwubWFya2VyKAogICAgICAgICAgICAgICAgWzQ3LjUxMjEsIC0xMjIuMjQ4XSwKICAgICAgICAgICAgICAgIHsiZmlsbCI6IHRydWUsICJmaWxsT3BhY2l0eSI6IDAuNiwgInJhZGl1cyI6IDV9CiAgICAgICAgICAgICkuYWRkVG8oZmVhdHVyZV9ncm91cF9hYzE3NTA4ZWVjMTg0N2UxODkxYTBkMTFkOWVjNzhlNCk7CiAgICAgICAgCiAgICAKICAgICAgICAgICAgdmFyIG1hcmtlcl81NWE5YTYwZjQxZDI0MjQ2YjZjYjFkZDY5MTEyMDI3MiA9IEwubWFya2VyKAogICAgICAgICAgICAgICAgWzQ3LjUxMjEsIC0xMjIuMjQ4XSwKICAgICAgICAgICAgICAgIHsiZmlsbCI6IHRydWUsICJmaWxsT3BhY2l0eSI6IDAuNiwgInJhZGl1cyI6IDV9CiAgICAgICAgICAgICkuYWRkVG8oZmVhdHVyZV9ncm91cF9hYzE3NTA4ZWVjMTg0N2UxODkxYTBkMTFkOWVjNzhlNCk7CiAgICAgICAgCiAgICAKICAgICAgICAgICAgdmFyIG1hcmtlcl84YjM3MmMyZDMxMjk0YWEzOTUzMjM4ZDdhNjRjZjY5ZiA9IEwubWFya2VyKAogICAgICAgICAgICAgICAgWzQ3LjQ5OTYsIC0xMjIuMzc4XSwKICAgICAgICAgICAgICAgIHsiZmlsbCI6IHRydWUsICJmaWxsT3BhY2l0eSI6IDAuNiwgInJhZGl1cyI6IDV9CiAgICAgICAgICAgICkuYWRkVG8oZmVhdHVyZV9ncm91cF9hYzE3NTA4ZWVjMTg0N2UxODkxYTBkMTFkOWVjNzhlNCk7CiAgICAgICAgCiAgICAKICAgICAgICAgICAgdmFyIG1hcmtlcl9hNGZjMjU5ZGQ0NTg0MTU5YWE3ZmVkMDEyOGYwMjQzYiA9IEwubWFya2VyKAogICAgICAgICAgICAgICAgWzQ3LjQ1NTcsIC0xMjIuNDQzXSwKICAgICAgICAgICAgICAgIHsiZmlsbCI6IHRydWUsICJmaWxsT3BhY2l0eSI6IDAuNiwgInJhZGl1cyI6IDV9CiAgICAgICAgICAgICkuYWRkVG8oZmVhdHVyZV9ncm91cF9hYzE3NTA4ZWVjMTg0N2UxODkxYTBkMTFkOWVjNzhlNCk7CiAgICAgICAgCiAgICAKICAgICAgICAgICAgdmFyIG1hcmtlcl81ZWY5MjhlYjllYjA0ZmI2ODM5MjdiZGUwYzZiMzcxNyA9IEwubWFya2VyKAogICAgICAgICAgICAgICAgWzQ3LjM3MzAwMDAwMDAwMDAxLCAtMTIyLjQ2NF0sCiAgICAgICAgICAgICAgICB7ImZpbGwiOiB0cnVlLCAiZmlsbE9wYWNpdHkiOiAwLjYsICJyYWRpdXMiOiA1fQogICAgICAgICAgICApLmFkZFRvKGZlYXR1cmVfZ3JvdXBfYWMxNzUwOGVlYzE4NDdlMTg5MWEwZDExZDllYzc4ZTQpOwogICAgICAgIAogICAgCiAgICAgICAgICAgIHZhciBtYXJrZXJfNTdlMWRkOGI3OTBiNDc3MGExN2EwMjZiNmQ0NzVkYzMgPSBMLm1hcmtlcigKICAgICAgICAgICAgICAgIFs0Ny40LCAtMTIyLjQyXSwKICAgICAgICAgICAgICAgIHsiZmlsbCI6IHRydWUsICJmaWxsT3BhY2l0eSI6IDAuNiwgInJhZGl1cyI6IDV9CiAgICAgICAgICAgICkuYWRkVG8oZmVhdHVyZV9ncm91cF9hYzE3NTA4ZWVjMTg0N2UxODkxYTBkMTFkOWVjNzhlNCk7CiAgICAgICAgCiAgICAKICAgICAgICAgICAgdmFyIG1hcmtlcl80ZjFiYzg4YmEwYzU0OWViYWQ2MDUwMjVhOTk4YzQ3YSA9IEwubWFya2VyKAogICAgICAgICAgICAgICAgWzQ3LjQ5OTcsIC0xMjIuMzc5XSwKICAgICAgICAgICAgICAgIHsiZmlsbCI6IHRydWUsICJmaWxsT3BhY2l0eSI6IDAuNiwgInJhZGl1cyI6IDV9CiAgICAgICAgICAgICkuYWRkVG8oZmVhdHVyZV9ncm91cF9hYzE3NTA4ZWVjMTg0N2UxODkxYTBkMTFkOWVjNzhlNCk7CiAgICAgICAgCiAgICAKICAgICAgICAgICAgdmFyIG1hcmtlcl80N2UyZjYxMDk4YWU0OTE4YWRjZTZhOTgyYmY4NTc4NCA9IEwubWFya2VyKAogICAgICAgICAgICAgICAgWzQ3LjM1NzMsIC0xMjIuMzI0XSwKICAgICAgICAgICAgICAgIHsiZmlsbCI6IHRydWUsICJmaWxsT3BhY2l0eSI6IDAuNiwgInJhZGl1cyI6IDV9CiAgICAgICAgICAgICkuYWRkVG8oZmVhdHVyZV9ncm91cF9hYzE3NTA4ZWVjMTg0N2UxODkxYTBkMTFkOWVjNzhlNCk7CiAgICAgICAgCiAgICAKICAgICAgICAgICAgdmFyIG1hcmtlcl9jYTU5YmVhZDA1YzE0NmUwYjM0OWQ2MzIxMDdjMDkxYSA9IEwubWFya2VyKAogICAgICAgICAgICAgICAgWzQ3LjQ5NjksIC0xMjIuMzc2XSwKICAgICAgICAgICAgICAgIHsiZmlsbCI6IHRydWUsICJmaWxsT3BhY2l0eSI6IDAuNiwgInJhZGl1cyI6IDV9CiAgICAgICAgICAgICkuYWRkVG8oZmVhdHVyZV9ncm91cF9hYzE3NTA4ZWVjMTg0N2UxODkxYTBkMTFkOWVjNzhlNCk7CiAgICAgICAgCiAgICAKICAgICAgICAgICAgdmFyIG1hcmtlcl84YzkxODAzZGFlNTE0ODc1OTk0YzhhMTIzN2Q5YjI2MCA9IEwubWFya2VyKAogICAgICAgICAgICAgICAgWzQ3LjQwNCwgLTEyMi40NDddLAogICAgICAgICAgICAgICAgeyJmaWxsIjogdHJ1ZSwgImZpbGxPcGFjaXR5IjogMC42LCAicmFkaXVzIjogNX0KICAgICAgICAgICAgKS5hZGRUbyhmZWF0dXJlX2dyb3VwX2FjMTc1MDhlZWMxODQ3ZTE4OTFhMGQxMWQ5ZWM3OGU0KTsKICAgICAgICAKICAgIAogICAgICAgICAgICB2YXIgbWFya2VyX2UyYTJhYjJkMWJjZjQyYjQ4ODc5YjRjNjUwNGZiOTkzID0gTC5tYXJrZXIoCiAgICAgICAgICAgICAgICBbNDcuNDcxNiwgLTEyMi40NDVdLAogICAgICAgICAgICAgICAgeyJmaWxsIjogdHJ1ZSwgImZpbGxPcGFjaXR5IjogMC42LCAicmFkaXVzIjogNX0KICAgICAgICAgICAgKS5hZGRUbyhmZWF0dXJlX2dyb3VwX2FjMTc1MDhlZWMxODQ3ZTE4OTFhMGQxMWQ5ZWM3OGU0KTsKICAgICAgICAKICAgIAogICAgICAgICAgICB2YXIgbWFya2VyXzM1MmU4MzIzYzRkMDQxMWZhMjBhNjE3M2U5OTdkMmIzID0gTC5tYXJrZXIoCiAgICAgICAgICAgICAgICBbNDcuMzUwOSwgLTEyMi4zMjNdLAogICAgICAgICAgICAgICAgeyJmaWxsIjogdHJ1ZSwgImZpbGxPcGFjaXR5IjogMC42LCAicmFkaXVzIjogNX0KICAgICAgICAgICAgKS5hZGRUbyhmZWF0dXJlX2dyb3VwX2FjMTc1MDhlZWMxODQ3ZTE4OTFhMGQxMWQ5ZWM3OGU0KTsKICAgICAgICAKICAgIAogICAgICAgICAgICB2YXIgbWFya2VyX2Y5ODExNmIyMTM0MTQxNDliZjgzMDNjOTllZTY4ZWE3ID0gTC5tYXJrZXIoCiAgICAgICAgICAgICAgICBbNDcuNDU1MSwgLTEyMi4zNzNdLAogICAgICAgICAgICAgICAgeyJmaWxsIjogdHJ1ZSwgImZpbGxPcGFjaXR5IjogMC42LCAicmFkaXVzIjogNX0KICAgICAgICAgICAgKS5hZGRUbyhmZWF0dXJlX2dyb3VwX2FjMTc1MDhlZWMxODQ3ZTE4OTFhMGQxMWQ5ZWM3OGU0KTsKICAgICAgICAKICAgIAogICAgICAgICAgICB2YXIgbWFya2VyXzUxOWUzOGExYjJhNzQwOGU5MDVmYzYwODczNGNmYjgxID0gTC5tYXJrZXIoCiAgICAgICAgICAgICAgICBbNDcuNDAxMiwgLTEyMi40MjVdLAogICAgICAgICAgICAgICAgeyJmaWxsIjogdHJ1ZSwgImZpbGxPcGFjaXR5IjogMC42LCAicmFkaXVzIjogNX0KICAgICAgICAgICAgKS5hZGRUbyhmZWF0dXJlX2dyb3VwX2FjMTc1MDhlZWMxODQ3ZTE4OTFhMGQxMWQ5ZWM3OGU0KTsKICAgICAgICAKICAgIAogICAgICAgICAgICB2YXIgbWFya2VyX2JkNWM3YWNjMmI3MTQyN2Q5MmIzNzA4MmEwNDg3YjliID0gTC5tYXJrZXIoCiAgICAgICAgICAgICAgICBbNDcuMzk3OSwgLTEyMi40NjVdLAogICAgICAgICAgICAgICAgeyJmaWxsIjogdHJ1ZSwgImZpbGxPcGFjaXR5IjogMC42LCAicmFkaXVzIjogNX0KICAgICAgICAgICAgKS5hZGRUbyhmZWF0dXJlX2dyb3VwX2FjMTc1MDhlZWMxODQ3ZTE4OTFhMGQxMWQ5ZWM3OGU0KTsKICAgICAgICAKICAgIAogICAgICAgICAgICB2YXIgbWFya2VyXzE2ODE3YjVhYTFkZDQxMjg5ZWMzMjU4OWIxZDFkMDJlID0gTC5tYXJrZXIoCiAgICAgICAgICAgICAgICBbNDcuNDUsIC0xMjIuMzc3XSwKICAgICAgICAgICAgICAgIHsiZmlsbCI6IHRydWUsICJmaWxsT3BhY2l0eSI6IDAuNiwgInJhZGl1cyI6IDV9CiAgICAgICAgICAgICkuYWRkVG8oZmVhdHVyZV9ncm91cF9hYzE3NTA4ZWVjMTg0N2UxODkxYTBkMTFkOWVjNzhlNCk7CiAgICAgICAgCjwvc2NyaXB0Pg== onload=\"this.contentDocument.open();this.contentDocument.write(atob(this.getAttribute('data-html')));this.contentDocument.close();\" allowfullscreen webkitallowfullscreen mozallowfullscreen></iframe></div></div>"
      ],
      "text/plain": [
       "<folium.folium.Map at 0x1a1eaf6da0>"
      ]
     },
     "execution_count": 34,
     "metadata": {},
     "output_type": "execute_result"
    }
   ],
   "source": [
    "# Let's map the waterfront homes!\n",
    "# Seattle latitude and longitude values\n",
    "latitude = 47.50\n",
    "longitude = -122.33\n",
    "# create map and display it\n",
    "seattle_map = folium.Map(location=[latitude, longitude])\n",
    "\n",
    "# Display waterfront homes\n",
    "# Create feature group\n",
    "waterfront_homes = folium.map.FeatureGroup()\n",
    "\n",
    "#loop through the homes and add each to the feature group\n",
    "for lat, lng, in zip(waterfront_df.lat, waterfront_df.long):\n",
    "    waterfront_homes.add_child(\n",
    "    folium.features.Marker(\n",
    "    [lat, lng],\n",
    "    radius=5,\n",
    "    fill=True,\n",
    "    fill_opacity=0.6))\n",
    "     \n",
    "# add pop-up text to each marker on the map\n",
    "latitudes = list(waterfront_df.lat)\n",
    "longitudes = list(waterfront_df.long)\n",
    "labels = list(waterfront_df.zipcode)\n",
    "\n",
    "for lat, lng, label in zip(latitudes, longitudes, labels):\n",
    "    folium.Marker([lat, lng], popup=label).add_to(seattle_map)\n",
    "\n",
    "# add homes to map\n",
    "seattle_map.add_child(waterfront_homes)\n",
    "     \n",
    "seattle_map"
   ]
  },
  {
   "cell_type": "markdown",
   "metadata": {},
   "source": [
    "## Question 1 Conclusion:\n",
    "\n",
    "The top 3 zipcodes with the highest mean home prices are: 98039, 98040 and 98006. The top 15 are plotted, and interestingly, only 2 of these zipcodes contain waterfront homes: 98006 and 98074. Looking solely at waterfront homes, the mean home prices are all over $500K. \n",
    "\n",
    "In contrast, the zipcodes with the lowest mean home prices are 98002, 98168 and 98032. The bottom 15 are plotted, and none of those zipcodes contain waterfront homes. \n",
    "\n",
    "We can conclude that waterfront homes are generally more expensive homes, but not all of the highest-priced neighborhoods contain waterfront homes. This brings up the question of which features are causing those home prices to be so high."
   ]
  },
  {
   "cell_type": "markdown",
   "metadata": {},
   "source": [
    "## Question 2: What is the impact of home and lot square footage on home price? What is the price per square foot for different zipcodes?"
   ]
  },
  {
   "cell_type": "code",
   "execution_count": 35,
   "metadata": {},
   "outputs": [
    {
     "data": {
      "text/html": [
       "<div>\n",
       "<style scoped>\n",
       "    .dataframe tbody tr th:only-of-type {\n",
       "        vertical-align: middle;\n",
       "    }\n",
       "\n",
       "    .dataframe tbody tr th {\n",
       "        vertical-align: top;\n",
       "    }\n",
       "\n",
       "    .dataframe thead th {\n",
       "        text-align: right;\n",
       "    }\n",
       "</style>\n",
       "<table border=\"1\" class=\"dataframe\">\n",
       "  <thead>\n",
       "    <tr style=\"text-align: right;\">\n",
       "      <th></th>\n",
       "      <th>id</th>\n",
       "      <th>date</th>\n",
       "      <th>price</th>\n",
       "      <th>bedrooms</th>\n",
       "      <th>bathrooms</th>\n",
       "      <th>sqft_living</th>\n",
       "      <th>sqft_lot</th>\n",
       "      <th>floors</th>\n",
       "      <th>waterfront</th>\n",
       "      <th>view</th>\n",
       "      <th>...</th>\n",
       "      <th>grade</th>\n",
       "      <th>sqft_above</th>\n",
       "      <th>sqft_basement</th>\n",
       "      <th>yr_built</th>\n",
       "      <th>yr_renovated</th>\n",
       "      <th>zipcode</th>\n",
       "      <th>lat</th>\n",
       "      <th>long</th>\n",
       "      <th>sqft_living15</th>\n",
       "      <th>sqft_lot15</th>\n",
       "    </tr>\n",
       "  </thead>\n",
       "  <tbody>\n",
       "    <tr>\n",
       "      <th>0</th>\n",
       "      <td>7129300520</td>\n",
       "      <td>2014-10-13</td>\n",
       "      <td>221900.0</td>\n",
       "      <td>3</td>\n",
       "      <td>1.00</td>\n",
       "      <td>1180</td>\n",
       "      <td>5650</td>\n",
       "      <td>1.0</td>\n",
       "      <td>0.0</td>\n",
       "      <td>0.0</td>\n",
       "      <td>...</td>\n",
       "      <td>7</td>\n",
       "      <td>1180</td>\n",
       "      <td>0.0</td>\n",
       "      <td>1955</td>\n",
       "      <td>0.0</td>\n",
       "      <td>98178</td>\n",
       "      <td>47.5112</td>\n",
       "      <td>-122.257</td>\n",
       "      <td>1340</td>\n",
       "      <td>5650</td>\n",
       "    </tr>\n",
       "    <tr>\n",
       "      <th>1</th>\n",
       "      <td>6414100192</td>\n",
       "      <td>2014-12-09</td>\n",
       "      <td>538000.0</td>\n",
       "      <td>3</td>\n",
       "      <td>2.25</td>\n",
       "      <td>2570</td>\n",
       "      <td>7242</td>\n",
       "      <td>2.0</td>\n",
       "      <td>0.0</td>\n",
       "      <td>0.0</td>\n",
       "      <td>...</td>\n",
       "      <td>7</td>\n",
       "      <td>2170</td>\n",
       "      <td>400.0</td>\n",
       "      <td>1951</td>\n",
       "      <td>1991.0</td>\n",
       "      <td>98125</td>\n",
       "      <td>47.7210</td>\n",
       "      <td>-122.319</td>\n",
       "      <td>1690</td>\n",
       "      <td>7639</td>\n",
       "    </tr>\n",
       "    <tr>\n",
       "      <th>2</th>\n",
       "      <td>5631500400</td>\n",
       "      <td>2015-02-25</td>\n",
       "      <td>180000.0</td>\n",
       "      <td>2</td>\n",
       "      <td>1.00</td>\n",
       "      <td>770</td>\n",
       "      <td>10000</td>\n",
       "      <td>1.0</td>\n",
       "      <td>0.0</td>\n",
       "      <td>0.0</td>\n",
       "      <td>...</td>\n",
       "      <td>6</td>\n",
       "      <td>770</td>\n",
       "      <td>0.0</td>\n",
       "      <td>1933</td>\n",
       "      <td>0.0</td>\n",
       "      <td>98028</td>\n",
       "      <td>47.7379</td>\n",
       "      <td>-122.233</td>\n",
       "      <td>2720</td>\n",
       "      <td>8062</td>\n",
       "    </tr>\n",
       "    <tr>\n",
       "      <th>3</th>\n",
       "      <td>2487200875</td>\n",
       "      <td>2014-12-09</td>\n",
       "      <td>604000.0</td>\n",
       "      <td>4</td>\n",
       "      <td>3.00</td>\n",
       "      <td>1960</td>\n",
       "      <td>5000</td>\n",
       "      <td>1.0</td>\n",
       "      <td>0.0</td>\n",
       "      <td>0.0</td>\n",
       "      <td>...</td>\n",
       "      <td>7</td>\n",
       "      <td>1050</td>\n",
       "      <td>910.0</td>\n",
       "      <td>1965</td>\n",
       "      <td>0.0</td>\n",
       "      <td>98136</td>\n",
       "      <td>47.5208</td>\n",
       "      <td>-122.393</td>\n",
       "      <td>1360</td>\n",
       "      <td>5000</td>\n",
       "    </tr>\n",
       "    <tr>\n",
       "      <th>4</th>\n",
       "      <td>1954400510</td>\n",
       "      <td>2015-02-18</td>\n",
       "      <td>510000.0</td>\n",
       "      <td>3</td>\n",
       "      <td>2.00</td>\n",
       "      <td>1680</td>\n",
       "      <td>8080</td>\n",
       "      <td>1.0</td>\n",
       "      <td>0.0</td>\n",
       "      <td>0.0</td>\n",
       "      <td>...</td>\n",
       "      <td>8</td>\n",
       "      <td>1680</td>\n",
       "      <td>0.0</td>\n",
       "      <td>1987</td>\n",
       "      <td>0.0</td>\n",
       "      <td>98074</td>\n",
       "      <td>47.6168</td>\n",
       "      <td>-122.045</td>\n",
       "      <td>1800</td>\n",
       "      <td>7503</td>\n",
       "    </tr>\n",
       "    <tr>\n",
       "      <th>5</th>\n",
       "      <td>1321400060</td>\n",
       "      <td>2014-06-27</td>\n",
       "      <td>257500.0</td>\n",
       "      <td>3</td>\n",
       "      <td>2.25</td>\n",
       "      <td>1715</td>\n",
       "      <td>6819</td>\n",
       "      <td>2.0</td>\n",
       "      <td>0.0</td>\n",
       "      <td>0.0</td>\n",
       "      <td>...</td>\n",
       "      <td>7</td>\n",
       "      <td>1715</td>\n",
       "      <td>0.0</td>\n",
       "      <td>1995</td>\n",
       "      <td>0.0</td>\n",
       "      <td>98003</td>\n",
       "      <td>47.3097</td>\n",
       "      <td>-122.327</td>\n",
       "      <td>2238</td>\n",
       "      <td>6819</td>\n",
       "    </tr>\n",
       "    <tr>\n",
       "      <th>6</th>\n",
       "      <td>2414600126</td>\n",
       "      <td>2015-04-15</td>\n",
       "      <td>229500.0</td>\n",
       "      <td>3</td>\n",
       "      <td>1.00</td>\n",
       "      <td>1780</td>\n",
       "      <td>7470</td>\n",
       "      <td>1.0</td>\n",
       "      <td>0.0</td>\n",
       "      <td>0.0</td>\n",
       "      <td>...</td>\n",
       "      <td>7</td>\n",
       "      <td>1050</td>\n",
       "      <td>730.0</td>\n",
       "      <td>1960</td>\n",
       "      <td>0.0</td>\n",
       "      <td>98146</td>\n",
       "      <td>47.5123</td>\n",
       "      <td>-122.337</td>\n",
       "      <td>1780</td>\n",
       "      <td>8113</td>\n",
       "    </tr>\n",
       "    <tr>\n",
       "      <th>7</th>\n",
       "      <td>3793500160</td>\n",
       "      <td>2015-03-12</td>\n",
       "      <td>323000.0</td>\n",
       "      <td>3</td>\n",
       "      <td>2.50</td>\n",
       "      <td>1890</td>\n",
       "      <td>6560</td>\n",
       "      <td>2.0</td>\n",
       "      <td>0.0</td>\n",
       "      <td>0.0</td>\n",
       "      <td>...</td>\n",
       "      <td>7</td>\n",
       "      <td>1890</td>\n",
       "      <td>0.0</td>\n",
       "      <td>2003</td>\n",
       "      <td>0.0</td>\n",
       "      <td>98038</td>\n",
       "      <td>47.3684</td>\n",
       "      <td>-122.031</td>\n",
       "      <td>2390</td>\n",
       "      <td>7570</td>\n",
       "    </tr>\n",
       "    <tr>\n",
       "      <th>8</th>\n",
       "      <td>1736800520</td>\n",
       "      <td>2015-04-03</td>\n",
       "      <td>662500.0</td>\n",
       "      <td>3</td>\n",
       "      <td>2.50</td>\n",
       "      <td>3560</td>\n",
       "      <td>9796</td>\n",
       "      <td>1.0</td>\n",
       "      <td>0.0</td>\n",
       "      <td>0.0</td>\n",
       "      <td>...</td>\n",
       "      <td>8</td>\n",
       "      <td>1860</td>\n",
       "      <td>1700.0</td>\n",
       "      <td>1965</td>\n",
       "      <td>0.0</td>\n",
       "      <td>98007</td>\n",
       "      <td>47.6007</td>\n",
       "      <td>-122.145</td>\n",
       "      <td>2210</td>\n",
       "      <td>8925</td>\n",
       "    </tr>\n",
       "    <tr>\n",
       "      <th>9</th>\n",
       "      <td>9212900260</td>\n",
       "      <td>2014-05-27</td>\n",
       "      <td>468000.0</td>\n",
       "      <td>2</td>\n",
       "      <td>1.00</td>\n",
       "      <td>1160</td>\n",
       "      <td>6000</td>\n",
       "      <td>1.0</td>\n",
       "      <td>0.0</td>\n",
       "      <td>0.0</td>\n",
       "      <td>...</td>\n",
       "      <td>7</td>\n",
       "      <td>860</td>\n",
       "      <td>300.0</td>\n",
       "      <td>1942</td>\n",
       "      <td>0.0</td>\n",
       "      <td>98115</td>\n",
       "      <td>47.6900</td>\n",
       "      <td>-122.292</td>\n",
       "      <td>1330</td>\n",
       "      <td>6000</td>\n",
       "    </tr>\n",
       "  </tbody>\n",
       "</table>\n",
       "<p>10 rows × 21 columns</p>\n",
       "</div>"
      ],
      "text/plain": [
       "           id        date     price  bedrooms  bathrooms  sqft_living  \\\n",
       "0  7129300520  2014-10-13  221900.0         3       1.00         1180   \n",
       "1  6414100192  2014-12-09  538000.0         3       2.25         2570   \n",
       "2  5631500400  2015-02-25  180000.0         2       1.00          770   \n",
       "3  2487200875  2014-12-09  604000.0         4       3.00         1960   \n",
       "4  1954400510  2015-02-18  510000.0         3       2.00         1680   \n",
       "5  1321400060  2014-06-27  257500.0         3       2.25         1715   \n",
       "6  2414600126  2015-04-15  229500.0         3       1.00         1780   \n",
       "7  3793500160  2015-03-12  323000.0         3       2.50         1890   \n",
       "8  1736800520  2015-04-03  662500.0         3       2.50         3560   \n",
       "9  9212900260  2014-05-27  468000.0         2       1.00         1160   \n",
       "\n",
       "   sqft_lot  floors  waterfront  view  ...  grade  sqft_above  sqft_basement  \\\n",
       "0      5650     1.0         0.0   0.0  ...      7        1180            0.0   \n",
       "1      7242     2.0         0.0   0.0  ...      7        2170          400.0   \n",
       "2     10000     1.0         0.0   0.0  ...      6         770            0.0   \n",
       "3      5000     1.0         0.0   0.0  ...      7        1050          910.0   \n",
       "4      8080     1.0         0.0   0.0  ...      8        1680            0.0   \n",
       "5      6819     2.0         0.0   0.0  ...      7        1715            0.0   \n",
       "6      7470     1.0         0.0   0.0  ...      7        1050          730.0   \n",
       "7      6560     2.0         0.0   0.0  ...      7        1890            0.0   \n",
       "8      9796     1.0         0.0   0.0  ...      8        1860         1700.0   \n",
       "9      6000     1.0         0.0   0.0  ...      7         860          300.0   \n",
       "\n",
       "   yr_built  yr_renovated  zipcode      lat     long  sqft_living15  \\\n",
       "0      1955           0.0    98178  47.5112 -122.257           1340   \n",
       "1      1951        1991.0    98125  47.7210 -122.319           1690   \n",
       "2      1933           0.0    98028  47.7379 -122.233           2720   \n",
       "3      1965           0.0    98136  47.5208 -122.393           1360   \n",
       "4      1987           0.0    98074  47.6168 -122.045           1800   \n",
       "5      1995           0.0    98003  47.3097 -122.327           2238   \n",
       "6      1960           0.0    98146  47.5123 -122.337           1780   \n",
       "7      2003           0.0    98038  47.3684 -122.031           2390   \n",
       "8      1965           0.0    98007  47.6007 -122.145           2210   \n",
       "9      1942           0.0    98115  47.6900 -122.292           1330   \n",
       "\n",
       "   sqft_lot15  \n",
       "0        5650  \n",
       "1        7639  \n",
       "2        8062  \n",
       "3        5000  \n",
       "4        7503  \n",
       "5        6819  \n",
       "6        8113  \n",
       "7        7570  \n",
       "8        8925  \n",
       "9        6000  \n",
       "\n",
       "[10 rows x 21 columns]"
      ]
     },
     "execution_count": 35,
     "metadata": {},
     "output_type": "execute_result"
    }
   ],
   "source": [
    "df.head(10)"
   ]
  },
  {
   "cell_type": "code",
   "execution_count": 36,
   "metadata": {},
   "outputs": [
    {
     "name": "stdout",
     "output_type": "stream",
     "text": [
      "Living Sqft:Price Correlation: [0.60309848 1.        ]\n",
      "Lot Sqft:Price Correlation: [0.09406745 1.        ]\n",
      "Living Square Footage has a larger effect on price.\n"
     ]
    }
   ],
   "source": [
    "# Which affects the price more? Lot or home square footage?\n",
    "livingsqft_corr = np.corrcoef(df['sqft_living'], df['price'])\n",
    "lotsqft_corr = np.corrcoef(df['sqft_lot'], df['price'])\n",
    "print('Living Sqft:Price Correlation:', livingsqft_corr[1])\n",
    "print('Lot Sqft:Price Correlation:', lotsqft_corr[1])\n",
    "print('Living Square Footage has a larger effect on price.')"
   ]
  },
  {
   "cell_type": "code",
   "execution_count": 37,
   "metadata": {},
   "outputs": [
    {
     "data": {
      "text/html": [
       "<div>\n",
       "<style scoped>\n",
       "    .dataframe tbody tr th:only-of-type {\n",
       "        vertical-align: middle;\n",
       "    }\n",
       "\n",
       "    .dataframe tbody tr th {\n",
       "        vertical-align: top;\n",
       "    }\n",
       "\n",
       "    .dataframe thead th {\n",
       "        text-align: right;\n",
       "    }\n",
       "</style>\n",
       "<table border=\"1\" class=\"dataframe\">\n",
       "  <thead>\n",
       "    <tr style=\"text-align: right;\">\n",
       "      <th></th>\n",
       "      <th>id</th>\n",
       "      <th>date</th>\n",
       "      <th>price</th>\n",
       "      <th>bedrooms</th>\n",
       "      <th>bathrooms</th>\n",
       "      <th>sqft_living</th>\n",
       "      <th>sqft_lot</th>\n",
       "      <th>floors</th>\n",
       "      <th>waterfront</th>\n",
       "      <th>view</th>\n",
       "      <th>...</th>\n",
       "      <th>sqft_basement</th>\n",
       "      <th>yr_built</th>\n",
       "      <th>yr_renovated</th>\n",
       "      <th>zipcode</th>\n",
       "      <th>lat</th>\n",
       "      <th>long</th>\n",
       "      <th>sqft_living15</th>\n",
       "      <th>sqft_lot15</th>\n",
       "      <th>price_per_lotsqft</th>\n",
       "      <th>price_per_livingsqft</th>\n",
       "    </tr>\n",
       "  </thead>\n",
       "  <tbody>\n",
       "    <tr>\n",
       "      <th>0</th>\n",
       "      <td>7129300520</td>\n",
       "      <td>2014-10-13</td>\n",
       "      <td>221900.0</td>\n",
       "      <td>3</td>\n",
       "      <td>1.00</td>\n",
       "      <td>1180</td>\n",
       "      <td>5650</td>\n",
       "      <td>1.0</td>\n",
       "      <td>0.0</td>\n",
       "      <td>0.0</td>\n",
       "      <td>...</td>\n",
       "      <td>0.0</td>\n",
       "      <td>1955</td>\n",
       "      <td>0.0</td>\n",
       "      <td>98178</td>\n",
       "      <td>47.5112</td>\n",
       "      <td>-122.257</td>\n",
       "      <td>1340</td>\n",
       "      <td>5650</td>\n",
       "      <td>39.274336</td>\n",
       "      <td>188.050847</td>\n",
       "    </tr>\n",
       "    <tr>\n",
       "      <th>1</th>\n",
       "      <td>6414100192</td>\n",
       "      <td>2014-12-09</td>\n",
       "      <td>538000.0</td>\n",
       "      <td>3</td>\n",
       "      <td>2.25</td>\n",
       "      <td>2570</td>\n",
       "      <td>7242</td>\n",
       "      <td>2.0</td>\n",
       "      <td>0.0</td>\n",
       "      <td>0.0</td>\n",
       "      <td>...</td>\n",
       "      <td>400.0</td>\n",
       "      <td>1951</td>\n",
       "      <td>1991.0</td>\n",
       "      <td>98125</td>\n",
       "      <td>47.7210</td>\n",
       "      <td>-122.319</td>\n",
       "      <td>1690</td>\n",
       "      <td>7639</td>\n",
       "      <td>74.288870</td>\n",
       "      <td>209.338521</td>\n",
       "    </tr>\n",
       "    <tr>\n",
       "      <th>2</th>\n",
       "      <td>5631500400</td>\n",
       "      <td>2015-02-25</td>\n",
       "      <td>180000.0</td>\n",
       "      <td>2</td>\n",
       "      <td>1.00</td>\n",
       "      <td>770</td>\n",
       "      <td>10000</td>\n",
       "      <td>1.0</td>\n",
       "      <td>0.0</td>\n",
       "      <td>0.0</td>\n",
       "      <td>...</td>\n",
       "      <td>0.0</td>\n",
       "      <td>1933</td>\n",
       "      <td>0.0</td>\n",
       "      <td>98028</td>\n",
       "      <td>47.7379</td>\n",
       "      <td>-122.233</td>\n",
       "      <td>2720</td>\n",
       "      <td>8062</td>\n",
       "      <td>18.000000</td>\n",
       "      <td>233.766234</td>\n",
       "    </tr>\n",
       "    <tr>\n",
       "      <th>3</th>\n",
       "      <td>2487200875</td>\n",
       "      <td>2014-12-09</td>\n",
       "      <td>604000.0</td>\n",
       "      <td>4</td>\n",
       "      <td>3.00</td>\n",
       "      <td>1960</td>\n",
       "      <td>5000</td>\n",
       "      <td>1.0</td>\n",
       "      <td>0.0</td>\n",
       "      <td>0.0</td>\n",
       "      <td>...</td>\n",
       "      <td>910.0</td>\n",
       "      <td>1965</td>\n",
       "      <td>0.0</td>\n",
       "      <td>98136</td>\n",
       "      <td>47.5208</td>\n",
       "      <td>-122.393</td>\n",
       "      <td>1360</td>\n",
       "      <td>5000</td>\n",
       "      <td>120.800000</td>\n",
       "      <td>308.163265</td>\n",
       "    </tr>\n",
       "    <tr>\n",
       "      <th>4</th>\n",
       "      <td>1954400510</td>\n",
       "      <td>2015-02-18</td>\n",
       "      <td>510000.0</td>\n",
       "      <td>3</td>\n",
       "      <td>2.00</td>\n",
       "      <td>1680</td>\n",
       "      <td>8080</td>\n",
       "      <td>1.0</td>\n",
       "      <td>0.0</td>\n",
       "      <td>0.0</td>\n",
       "      <td>...</td>\n",
       "      <td>0.0</td>\n",
       "      <td>1987</td>\n",
       "      <td>0.0</td>\n",
       "      <td>98074</td>\n",
       "      <td>47.6168</td>\n",
       "      <td>-122.045</td>\n",
       "      <td>1800</td>\n",
       "      <td>7503</td>\n",
       "      <td>63.118812</td>\n",
       "      <td>303.571429</td>\n",
       "    </tr>\n",
       "  </tbody>\n",
       "</table>\n",
       "<p>5 rows × 23 columns</p>\n",
       "</div>"
      ],
      "text/plain": [
       "           id        date     price  bedrooms  bathrooms  sqft_living  \\\n",
       "0  7129300520  2014-10-13  221900.0         3       1.00         1180   \n",
       "1  6414100192  2014-12-09  538000.0         3       2.25         2570   \n",
       "2  5631500400  2015-02-25  180000.0         2       1.00          770   \n",
       "3  2487200875  2014-12-09  604000.0         4       3.00         1960   \n",
       "4  1954400510  2015-02-18  510000.0         3       2.00         1680   \n",
       "\n",
       "   sqft_lot  floors  waterfront  view  ...  sqft_basement  yr_built  \\\n",
       "0      5650     1.0         0.0   0.0  ...            0.0      1955   \n",
       "1      7242     2.0         0.0   0.0  ...          400.0      1951   \n",
       "2     10000     1.0         0.0   0.0  ...            0.0      1933   \n",
       "3      5000     1.0         0.0   0.0  ...          910.0      1965   \n",
       "4      8080     1.0         0.0   0.0  ...            0.0      1987   \n",
       "\n",
       "   yr_renovated  zipcode      lat     long  sqft_living15  sqft_lot15  \\\n",
       "0           0.0    98178  47.5112 -122.257           1340        5650   \n",
       "1        1991.0    98125  47.7210 -122.319           1690        7639   \n",
       "2           0.0    98028  47.7379 -122.233           2720        8062   \n",
       "3           0.0    98136  47.5208 -122.393           1360        5000   \n",
       "4           0.0    98074  47.6168 -122.045           1800        7503   \n",
       "\n",
       "   price_per_lotsqft  price_per_livingsqft  \n",
       "0          39.274336            188.050847  \n",
       "1          74.288870            209.338521  \n",
       "2          18.000000            233.766234  \n",
       "3         120.800000            308.163265  \n",
       "4          63.118812            303.571429  \n",
       "\n",
       "[5 rows x 23 columns]"
      ]
     },
     "execution_count": 37,
     "metadata": {},
     "output_type": "execute_result"
    }
   ],
   "source": [
    "# New column price per lot sq ft\n",
    "df['price_per_lotsqft'] = df['price'] / df['sqft_lot']\n",
    "\n",
    "df['price_per_livingsqft'] = df['price'] / df['sqft_living']\n",
    "df.head()"
   ]
  },
  {
   "cell_type": "code",
   "execution_count": 38,
   "metadata": {},
   "outputs": [
    {
     "name": "stdout",
     "output_type": "stream",
     "text": [
      "    zipcode  price_per_lotsqft\n",
      "41    98102         319.074025\n",
      "53    98119         272.944156\n",
      "47    98109         260.680057\n",
      "48    98112         245.741679\n",
      "45    98107         241.440997\n",
      "54    98122         229.077825\n",
      "42    98103         218.882618\n",
      "43    98105         184.945089\n",
      "59    98144         180.010812\n",
      "69    98199         164.265497\n",
      "    zipcode  price_per_livingsqft\n",
      "24    98039            616.082000\n",
      "3     98004            445.842495\n",
      "47    98109            421.839114\n",
      "41    98102            413.479667\n",
      "53    98119            412.241082\n",
      "48    98112            400.215632\n",
      "43    98105            388.128961\n",
      "45    98107            380.959081\n",
      "42    98103            368.870253\n",
      "69    98199            366.300448\n"
     ]
    }
   ],
   "source": [
    "# Let's see the sq ft price of lots & living in each zipcode\n",
    "df_sq_ft_price = df.groupby('zipcode')['price_per_lotsqft'].mean()\n",
    "df_livsq_ft_price = df.groupby('zipcode')['price_per_livingsqft'].mean()\n",
    "\n",
    "# Reset index and sort values from highest price to lowest\n",
    "df_sq_ft_price = df_sq_ft_price.reset_index()\n",
    "df_sq_ft_price = df_sq_ft_price.sort_values(by='price_per_lotsqft', ascending=False)\n",
    "\n",
    "df_livsq_ft_price = df_livsq_ft_price.reset_index()\n",
    "df_livsq_ft_price = df_livsq_ft_price.sort_values(by='price_per_livingsqft', ascending=False)\n",
    "\n",
    "# Just see top 10 and bottom 10 zips\n",
    "top_df_sq_ft_price = df_sq_ft_price.head(10)\n",
    "bottom_df_sq_ft_price = df_sq_ft_price.tail(10)\n",
    "\n",
    "top_df_livsq_ft_price = df_livsq_ft_price.head(10)\n",
    "bottom_df_livsq_ft_price = df_livsq_ft_price.tail(10)\n",
    "\n",
    "print(top_df_sq_ft_price)\n",
    "print(top_df_livsq_ft_price)"
   ]
  },
  {
   "cell_type": "code",
   "execution_count": 39,
   "metadata": {
    "scrolled": false
   },
   "outputs": [
    {
     "data": {
      "image/png": "[encoded data removed]",
      "text/plain": [
       "<Figure size 720x576 with 1 Axes>"
      ]
     },
     "metadata": {},
     "output_type": "display_data"
    }
   ],
   "source": [
    "fig = plt.figure(figsize=(10,8))\n",
    "sns.barplot(x='zipcode', y='price_per_lotsqft', data=top_df_sq_ft_price, palette=palette)\n",
    "plt.title('Most Expensive Zipcodes by Price/LotSqFt')\n",
    "plt.ylim(0,650)\n",
    "plt.show()"
   ]
  },
  {
   "cell_type": "code",
   "execution_count": 40,
   "metadata": {},
   "outputs": [
    {
     "data": {
      "text/html": [
       "<div>\n",
       "<style scoped>\n",
       "    .dataframe tbody tr th:only-of-type {\n",
       "        vertical-align: middle;\n",
       "    }\n",
       "\n",
       "    .dataframe tbody tr th {\n",
       "        vertical-align: top;\n",
       "    }\n",
       "\n",
       "    .dataframe thead th {\n",
       "        text-align: right;\n",
       "    }\n",
       "</style>\n",
       "<table border=\"1\" class=\"dataframe\">\n",
       "  <thead>\n",
       "    <tr style=\"text-align: right;\">\n",
       "      <th></th>\n",
       "      <th>zipcode</th>\n",
       "      <th>price_per_lotsqft</th>\n",
       "    </tr>\n",
       "  </thead>\n",
       "  <tbody>\n",
       "    <tr>\n",
       "      <th>0</th>\n",
       "      <td>98001</td>\n",
       "      <td>30.904078</td>\n",
       "    </tr>\n",
       "    <tr>\n",
       "      <th>27</th>\n",
       "      <td>98045</td>\n",
       "      <td>29.402874</td>\n",
       "    </tr>\n",
       "    <tr>\n",
       "      <th>20</th>\n",
       "      <td>98032</td>\n",
       "      <td>28.516430</td>\n",
       "    </tr>\n",
       "    <tr>\n",
       "      <th>64</th>\n",
       "      <td>98168</td>\n",
       "      <td>26.508638</td>\n",
       "    </tr>\n",
       "    <tr>\n",
       "      <th>12</th>\n",
       "      <td>98022</td>\n",
       "      <td>21.968290</td>\n",
       "    </tr>\n",
       "    <tr>\n",
       "      <th>39</th>\n",
       "      <td>98077</td>\n",
       "      <td>21.517387</td>\n",
       "    </tr>\n",
       "    <tr>\n",
       "      <th>8</th>\n",
       "      <td>98010</td>\n",
       "      <td>21.086372</td>\n",
       "    </tr>\n",
       "    <tr>\n",
       "      <th>14</th>\n",
       "      <td>98024</td>\n",
       "      <td>18.299366</td>\n",
       "    </tr>\n",
       "    <tr>\n",
       "      <th>10</th>\n",
       "      <td>98014</td>\n",
       "      <td>17.920968</td>\n",
       "    </tr>\n",
       "    <tr>\n",
       "      <th>35</th>\n",
       "      <td>98070</td>\n",
       "      <td>14.964870</td>\n",
       "    </tr>\n",
       "  </tbody>\n",
       "</table>\n",
       "</div>"
      ],
      "text/plain": [
       "    zipcode  price_per_lotsqft\n",
       "0     98001          30.904078\n",
       "27    98045          29.402874\n",
       "20    98032          28.516430\n",
       "64    98168          26.508638\n",
       "12    98022          21.968290\n",
       "39    98077          21.517387\n",
       "8     98010          21.086372\n",
       "14    98024          18.299366\n",
       "10    98014          17.920968\n",
       "35    98070          14.964870"
      ]
     },
     "execution_count": 40,
     "metadata": {},
     "output_type": "execute_result"
    }
   ],
   "source": [
    "bottom_df_sq_ft_price"
   ]
  },
  {
   "cell_type": "code",
   "execution_count": 41,
   "metadata": {
    "scrolled": true
   },
   "outputs": [
    {
     "data": {
      "image/png": "[encoded data removed]",
      "text/plain": [
       "<Figure size 720x576 with 1 Axes>"
      ]
     },
     "metadata": {},
     "output_type": "display_data"
    }
   ],
   "source": [
    "fig = plt.figure(figsize=(10,8))\n",
    "sns.barplot(x='zipcode', y='price_per_lotsqft', data=bottom_df_sq_ft_price, palette=palette)\n",
    "plt.title('Least Expensive Zipcodes by Price/LotSqFt (to scale)')\n",
    "plt.ylim(0, 350)\n",
    "plt.show()"
   ]
  },
  {
   "cell_type": "code",
   "execution_count": 42,
   "metadata": {
    "scrolled": false
   },
   "outputs": [
    {
     "data": {
      "image/png": "[encoded data removed]",
      "text/plain": [
       "<Figure size 720x576 with 1 Axes>"
      ]
     },
     "metadata": {},
     "output_type": "display_data"
    }
   ],
   "source": [
    "fig = plt.figure(figsize=(10,8))\n",
    "sns.barplot(x='zipcode', y='price_per_lotsqft', data=bottom_df_sq_ft_price, palette=palette)\n",
    "plt.title('Least Expensive Zipcodes by Price/LotSqFt')\n",
    "plt.show()"
   ]
  },
  {
   "cell_type": "code",
   "execution_count": 43,
   "metadata": {},
   "outputs": [
    {
     "data": {
      "image/png": "[encoded data removed]",
      "text/plain": [
       "<Figure size 720x576 with 1 Axes>"
      ]
     },
     "metadata": {},
     "output_type": "display_data"
    }
   ],
   "source": [
    "fig = plt.figure(figsize=(10,8))\n",
    "sns.barplot(x='zipcode', y='price_per_livingsqft', data=top_df_livsq_ft_price, palette=palette)\n",
    "plt.title('Most Expensive Zipcodes by Price/LivingSqFt')\n",
    "plt.ylim(0,650)\n",
    "plt.show()"
   ]
  },
  {
   "cell_type": "code",
   "execution_count": 44,
   "metadata": {},
   "outputs": [
    {
     "data": {
      "image/png": "[encoded data removed]",
      "text/plain": [
       "<Figure size 720x576 with 1 Axes>"
      ]
     },
     "metadata": {},
     "output_type": "display_data"
    }
   ],
   "source": [
    "fig = plt.figure(figsize=(10,8))\n",
    "sns.barplot(x='zipcode', y='price_per_livingsqft', data=bottom_df_livsq_ft_price, palette=palette)\n",
    "plt.title('Least Expensive Zipcodes by Price/LivingSqFt (to scale)')\n",
    "plt.ylim(0,650)\n",
    "plt.show()"
   ]
  },
  {
   "cell_type": "code",
   "execution_count": 45,
   "metadata": {},
   "outputs": [
    {
     "data": {
      "image/png": "[encoded data removed]",
      "text/plain": [
       "<Figure size 720x576 with 1 Axes>"
      ]
     },
     "metadata": {},
     "output_type": "display_data"
    }
   ],
   "source": [
    "fig = plt.figure(figsize=(10,8))\n",
    "sns.barplot(x='zipcode', y='price_per_livingsqft', data=bottom_df_livsq_ft_price, palette=palette)\n",
    "plt.title('Least Expensive Zipcodes by Price/LivingSqFt')\n",
    "plt.show()"
   ]
  },
  {
   "cell_type": "code",
   "execution_count": 46,
   "metadata": {},
   "outputs": [
    {
     "data": {
      "text/html": [
       "<div>\n",
       "<style scoped>\n",
       "    .dataframe tbody tr th:only-of-type {\n",
       "        vertical-align: middle;\n",
       "    }\n",
       "\n",
       "    .dataframe tbody tr th {\n",
       "        vertical-align: top;\n",
       "    }\n",
       "\n",
       "    .dataframe thead th {\n",
       "        text-align: right;\n",
       "    }\n",
       "</style>\n",
       "<table border=\"1\" class=\"dataframe\">\n",
       "  <thead>\n",
       "    <tr style=\"text-align: right;\">\n",
       "      <th></th>\n",
       "      <th>zipcode</th>\n",
       "      <th>price_per_livingsqft</th>\n",
       "    </tr>\n",
       "  </thead>\n",
       "  <tbody>\n",
       "    <tr>\n",
       "      <th>67</th>\n",
       "      <td>98188</td>\n",
       "      <td>169.007306</td>\n",
       "    </tr>\n",
       "    <tr>\n",
       "      <th>26</th>\n",
       "      <td>98042</td>\n",
       "      <td>164.589346</td>\n",
       "    </tr>\n",
       "    <tr>\n",
       "      <th>19</th>\n",
       "      <td>98031</td>\n",
       "      <td>161.101680</td>\n",
       "    </tr>\n",
       "    <tr>\n",
       "      <th>2</th>\n",
       "      <td>98003</td>\n",
       "      <td>157.113414</td>\n",
       "    </tr>\n",
       "    <tr>\n",
       "      <th>40</th>\n",
       "      <td>98092</td>\n",
       "      <td>156.014888</td>\n",
       "    </tr>\n",
       "    <tr>\n",
       "      <th>18</th>\n",
       "      <td>98030</td>\n",
       "      <td>155.156221</td>\n",
       "    </tr>\n",
       "    <tr>\n",
       "      <th>20</th>\n",
       "      <td>98032</td>\n",
       "      <td>155.020093</td>\n",
       "    </tr>\n",
       "    <tr>\n",
       "      <th>0</th>\n",
       "      <td>98001</td>\n",
       "      <td>151.362546</td>\n",
       "    </tr>\n",
       "    <tr>\n",
       "      <th>1</th>\n",
       "      <td>98002</td>\n",
       "      <td>151.306283</td>\n",
       "    </tr>\n",
       "    <tr>\n",
       "      <th>13</th>\n",
       "      <td>98023</td>\n",
       "      <td>148.543690</td>\n",
       "    </tr>\n",
       "  </tbody>\n",
       "</table>\n",
       "</div>"
      ],
      "text/plain": [
       "    zipcode  price_per_livingsqft\n",
       "67    98188            169.007306\n",
       "26    98042            164.589346\n",
       "19    98031            161.101680\n",
       "2     98003            157.113414\n",
       "40    98092            156.014888\n",
       "18    98030            155.156221\n",
       "20    98032            155.020093\n",
       "0     98001            151.362546\n",
       "1     98002            151.306283\n",
       "13    98023            148.543690"
      ]
     },
     "execution_count": 46,
     "metadata": {},
     "output_type": "execute_result"
    }
   ],
   "source": [
    "bottom_df_livsq_ft_price"
   ]
  },
  {
   "cell_type": "markdown",
   "metadata": {},
   "source": [
    "## Question 2 Conclusion:\n",
    "\n",
    "In conclusion, when we look at the correlation coefficients, the living square footage has a bigger impact on the price than the lot square footage (0.6 and 0.09 respectively). \n",
    "\n",
    "Breaking this down into price per square footage for both the living space and lot space, we can rank the zipcodes by most expensive and least expensive per square foot. \n",
    "\n",
    "For price per lot square footage, the most expensive zipcodes are 98102, 98119, 98112, 98109 and 98107 with prices between $241-$320 per lot square foot. The least expensive zipcodes are 98070, 98014, 98024, 98010 and 98077 with prices between $14-$24 per lot square foot. Interestingly, 98070 is also a zipcode with waterfront homes. It is possible that part of this area is in a flood zone, or has a lot of run-down homes selling for renovation to explain its low land prices. \n",
    "\n",
    "For price per living square footage, the most expensive zipcodes are 98039, 98004 , 98109 , 98119 and 98112 with mean prices between $400-$620 per living square foot. Least expensive zipcodes are 98023, 98002, 98001, 98032 and 98030 with mean prices between $145-$155 per living square foot. The most expensive zipcodes in terms of living square footage price are similar to our findings from the first question. Interestingly, none of them are waterfront and many of them are also the most expensive in terms of land price. \n",
    "\n",
    "It would be interesting to dig deeper and see what makes these zipcodes so much more expensive. Based on these findings, we can conclude that the home on the lot has a big impact on its price, but the land is also expensive, so it could be the population density of these areas driving up the price of homes and land. We will explore this further in the next question. "
   ]
  },
  {
   "cell_type": "markdown",
   "metadata": {},
   "source": [
    "## Question 3: What is the effect of population density on home price?"
   ]
  },
  {
   "cell_type": "code",
   "execution_count": 47,
   "metadata": {},
   "outputs": [
    {
     "data": {
      "text/html": [
       "<div>\n",
       "<style scoped>\n",
       "    .dataframe tbody tr th:only-of-type {\n",
       "        vertical-align: middle;\n",
       "    }\n",
       "\n",
       "    .dataframe tbody tr th {\n",
       "        vertical-align: top;\n",
       "    }\n",
       "\n",
       "    .dataframe thead th {\n",
       "        text-align: right;\n",
       "    }\n",
       "</style>\n",
       "<table border=\"1\" class=\"dataframe\">\n",
       "  <thead>\n",
       "    <tr style=\"text-align: right;\">\n",
       "      <th></th>\n",
       "      <th>zipcode</th>\n",
       "      <th>pop_density</th>\n",
       "    </tr>\n",
       "  </thead>\n",
       "  <tbody>\n",
       "    <tr>\n",
       "      <th>0</th>\n",
       "      <td>98178</td>\n",
       "      <td>4966</td>\n",
       "    </tr>\n",
       "    <tr>\n",
       "      <th>1</th>\n",
       "      <td>98125</td>\n",
       "      <td>6879</td>\n",
       "    </tr>\n",
       "    <tr>\n",
       "      <th>2</th>\n",
       "      <td>98028</td>\n",
       "      <td>3606</td>\n",
       "    </tr>\n",
       "    <tr>\n",
       "      <th>3</th>\n",
       "      <td>98136</td>\n",
       "      <td>6425</td>\n",
       "    </tr>\n",
       "    <tr>\n",
       "      <th>4</th>\n",
       "      <td>98074</td>\n",
       "      <td>2411</td>\n",
       "    </tr>\n",
       "    <tr>\n",
       "      <th>...</th>\n",
       "      <td>...</td>\n",
       "      <td>...</td>\n",
       "    </tr>\n",
       "    <tr>\n",
       "      <th>65</th>\n",
       "      <td>98072</td>\n",
       "      <td>1231</td>\n",
       "    </tr>\n",
       "    <tr>\n",
       "      <th>66</th>\n",
       "      <td>98188</td>\n",
       "      <td>3062</td>\n",
       "    </tr>\n",
       "    <tr>\n",
       "      <th>67</th>\n",
       "      <td>98014</td>\n",
       "      <td>149</td>\n",
       "    </tr>\n",
       "    <tr>\n",
       "      <th>68</th>\n",
       "      <td>98055</td>\n",
       "      <td>4585</td>\n",
       "    </tr>\n",
       "    <tr>\n",
       "      <th>69</th>\n",
       "      <td>98039</td>\n",
       "      <td>2059</td>\n",
       "    </tr>\n",
       "  </tbody>\n",
       "</table>\n",
       "<p>70 rows × 2 columns</p>\n",
       "</div>"
      ],
      "text/plain": [
       "    zipcode  pop_density\n",
       "0     98178         4966\n",
       "1     98125         6879\n",
       "2     98028         3606\n",
       "3     98136         6425\n",
       "4     98074         2411\n",
       "..      ...          ...\n",
       "65    98072         1231\n",
       "66    98188         3062\n",
       "67    98014          149\n",
       "68    98055         4585\n",
       "69    98039         2059\n",
       "\n",
       "[70 rows x 2 columns]"
      ]
     },
     "execution_count": 47,
     "metadata": {},
     "output_type": "execute_result"
    }
   ],
   "source": [
    "# Create a DF of zipcodes and their corresponding population densities\n",
    "zipcode = [98178, 98125, 98028, 98136, 98074, 98053, 98003, 98198, \n",
    "           98146, 98038, 98007, 98115, 98107, 98126, 98019, 98103,\n",
    "           98002, 98133, 98040, 98092, 98030, 98119, 98112, 98052,\n",
    "           98027, 98117, 98058, 98001, 98056, 98166, 98023, 98070,\n",
    "           98148, 98105, 98042, 98008, 98059, 98122, 98144, 98004,\n",
    "           98005, 98034, 98075, 98116, 98010, 98118, 98199, 98032,\n",
    "           98045, 98102, 98077, 98108, 98168, 98177, 98065, 98029,\n",
    "           98006, 98109, 98022, 98033, 98155, 98024, 98011, 98031,\n",
    "           98106, 98072, 98188, 98014, 98055, 98039]\n",
    "\n",
    "pop_density = [4966, 6879, 3606, 6425, 2411, 662, 3800, 4441, 5573,\n",
    "               469, 5684, 7018, 9602, 6732, 141, 9905, 4423, 6279,\n",
    "               3591, 892, 4741, 8638, 6667, 2908, 469, 7953, 2215,\n",
    "               1717, 4323, 3580, 4604, 288, 3194, 10643, 1537, 4437,\n",
    "               1725, 13594, 7895, 3977, 2361, 4428, 2185,  7523, 334,\n",
    "               6841, 4714, 2024, 41, 15829, 785, 2989, 3794, 3341, 171,\n",
    "               2719, 3402, 10361, 52,3696, 4330, 236, 3569, 4877, 4161,\n",
    "               1231, 3062, 149, 4585, 2059] \n",
    "\n",
    "lists = list(zip(zipcode, pop_density)) \n",
    "pop_density_by_zip = pd.DataFrame(lists, columns = ['zipcode', 'pop_density']) \n",
    "pop_density_by_zip"
   ]
  },
  {
   "cell_type": "code",
   "execution_count": 48,
   "metadata": {},
   "outputs": [],
   "source": [
    "pop_density_by_zip.to_csv('/Users/jordanrjohnson/DataScienceCourseMaterial/phase_2/dsc-phase-2-project-online/data/pop_density_by_zip.csv', index=False)"
   ]
  },
  {
   "cell_type": "code",
   "execution_count": 49,
   "metadata": {},
   "outputs": [
    {
     "data": {
      "text/html": [
       "<div>\n",
       "<style scoped>\n",
       "    .dataframe tbody tr th:only-of-type {\n",
       "        vertical-align: middle;\n",
       "    }\n",
       "\n",
       "    .dataframe tbody tr th {\n",
       "        vertical-align: top;\n",
       "    }\n",
       "\n",
       "    .dataframe thead th {\n",
       "        text-align: right;\n",
       "    }\n",
       "</style>\n",
       "<table border=\"1\" class=\"dataframe\">\n",
       "  <thead>\n",
       "    <tr style=\"text-align: right;\">\n",
       "      <th></th>\n",
       "      <th>pop_density</th>\n",
       "    </tr>\n",
       "    <tr>\n",
       "      <th>zipcode</th>\n",
       "      <th></th>\n",
       "    </tr>\n",
       "  </thead>\n",
       "  <tbody>\n",
       "    <tr>\n",
       "      <th>98178</th>\n",
       "      <td>4966</td>\n",
       "    </tr>\n",
       "    <tr>\n",
       "      <th>98125</th>\n",
       "      <td>6879</td>\n",
       "    </tr>\n",
       "    <tr>\n",
       "      <th>98028</th>\n",
       "      <td>3606</td>\n",
       "    </tr>\n",
       "    <tr>\n",
       "      <th>98136</th>\n",
       "      <td>6425</td>\n",
       "    </tr>\n",
       "    <tr>\n",
       "      <th>98074</th>\n",
       "      <td>2411</td>\n",
       "    </tr>\n",
       "    <tr>\n",
       "      <th>...</th>\n",
       "      <td>...</td>\n",
       "    </tr>\n",
       "    <tr>\n",
       "      <th>98072</th>\n",
       "      <td>1231</td>\n",
       "    </tr>\n",
       "    <tr>\n",
       "      <th>98188</th>\n",
       "      <td>3062</td>\n",
       "    </tr>\n",
       "    <tr>\n",
       "      <th>98014</th>\n",
       "      <td>149</td>\n",
       "    </tr>\n",
       "    <tr>\n",
       "      <th>98055</th>\n",
       "      <td>4585</td>\n",
       "    </tr>\n",
       "    <tr>\n",
       "      <th>98039</th>\n",
       "      <td>2059</td>\n",
       "    </tr>\n",
       "  </tbody>\n",
       "</table>\n",
       "<p>70 rows × 1 columns</p>\n",
       "</div>"
      ],
      "text/plain": [
       "         pop_density\n",
       "zipcode             \n",
       "98178           4966\n",
       "98125           6879\n",
       "98028           3606\n",
       "98136           6425\n",
       "98074           2411\n",
       "...              ...\n",
       "98072           1231\n",
       "98188           3062\n",
       "98014            149\n",
       "98055           4585\n",
       "98039           2059\n",
       "\n",
       "[70 rows x 1 columns]"
      ]
     },
     "execution_count": 49,
     "metadata": {},
     "output_type": "execute_result"
    }
   ],
   "source": [
    "# Reset index to prepare for concatenation\n",
    "pop_density_by_zip = pop_density_by_zip.set_index('zipcode')\n",
    "pop_density_by_zip"
   ]
  },
  {
   "cell_type": "code",
   "execution_count": 50,
   "metadata": {},
   "outputs": [],
   "source": [
    "# Same thing on this other DF from Q2\n",
    "df_livsq_ft_price = df_livsq_ft_price.set_index('zipcode')"
   ]
  },
  {
   "cell_type": "code",
   "execution_count": 51,
   "metadata": {},
   "outputs": [
    {
     "data": {
      "text/html": [
       "<div>\n",
       "<style scoped>\n",
       "    .dataframe tbody tr th:only-of-type {\n",
       "        vertical-align: middle;\n",
       "    }\n",
       "\n",
       "    .dataframe tbody tr th {\n",
       "        vertical-align: top;\n",
       "    }\n",
       "\n",
       "    .dataframe thead th {\n",
       "        text-align: right;\n",
       "    }\n",
       "</style>\n",
       "<table border=\"1\" class=\"dataframe\">\n",
       "  <thead>\n",
       "    <tr style=\"text-align: right;\">\n",
       "      <th></th>\n",
       "      <th>pop_density</th>\n",
       "    </tr>\n",
       "    <tr>\n",
       "      <th>zipcode</th>\n",
       "      <th></th>\n",
       "    </tr>\n",
       "  </thead>\n",
       "  <tbody>\n",
       "    <tr>\n",
       "      <th>98001</th>\n",
       "      <td>1717</td>\n",
       "    </tr>\n",
       "    <tr>\n",
       "      <th>98002</th>\n",
       "      <td>4423</td>\n",
       "    </tr>\n",
       "    <tr>\n",
       "      <th>98003</th>\n",
       "      <td>3800</td>\n",
       "    </tr>\n",
       "    <tr>\n",
       "      <th>98004</th>\n",
       "      <td>3977</td>\n",
       "    </tr>\n",
       "    <tr>\n",
       "      <th>98005</th>\n",
       "      <td>2361</td>\n",
       "    </tr>\n",
       "    <tr>\n",
       "      <th>...</th>\n",
       "      <td>...</td>\n",
       "    </tr>\n",
       "    <tr>\n",
       "      <th>98177</th>\n",
       "      <td>3341</td>\n",
       "    </tr>\n",
       "    <tr>\n",
       "      <th>98178</th>\n",
       "      <td>4966</td>\n",
       "    </tr>\n",
       "    <tr>\n",
       "      <th>98188</th>\n",
       "      <td>3062</td>\n",
       "    </tr>\n",
       "    <tr>\n",
       "      <th>98198</th>\n",
       "      <td>4441</td>\n",
       "    </tr>\n",
       "    <tr>\n",
       "      <th>98199</th>\n",
       "      <td>4714</td>\n",
       "    </tr>\n",
       "  </tbody>\n",
       "</table>\n",
       "<p>70 rows × 1 columns</p>\n",
       "</div>"
      ],
      "text/plain": [
       "         pop_density\n",
       "zipcode             \n",
       "98001           1717\n",
       "98002           4423\n",
       "98003           3800\n",
       "98004           3977\n",
       "98005           2361\n",
       "...              ...\n",
       "98177           3341\n",
       "98178           4966\n",
       "98188           3062\n",
       "98198           4441\n",
       "98199           4714\n",
       "\n",
       "[70 rows x 1 columns]"
      ]
     },
     "execution_count": 51,
     "metadata": {},
     "output_type": "execute_result"
    }
   ],
   "source": [
    "# Sort index so zipcodes are in order\n",
    "df_livsq_ft_price = df_livsq_ft_price.sort_index()\n",
    "pop_density_by_zip = pop_density_by_zip.sort_index()\n",
    "pop_density_by_zip"
   ]
  },
  {
   "cell_type": "code",
   "execution_count": 52,
   "metadata": {},
   "outputs": [],
   "source": [
    "# Concatenate the DFs\n",
    "pop_density_price_zip = pd.concat([df_livsq_ft_price, pop_density_by_zip], axis=1, sort=False)"
   ]
  },
  {
   "cell_type": "code",
   "execution_count": 53,
   "metadata": {},
   "outputs": [
    {
     "data": {
      "text/html": [
       "<div>\n",
       "<style scoped>\n",
       "    .dataframe tbody tr th:only-of-type {\n",
       "        vertical-align: middle;\n",
       "    }\n",
       "\n",
       "    .dataframe tbody tr th {\n",
       "        vertical-align: top;\n",
       "    }\n",
       "\n",
       "    .dataframe thead th {\n",
       "        text-align: right;\n",
       "    }\n",
       "</style>\n",
       "<table border=\"1\" class=\"dataframe\">\n",
       "  <thead>\n",
       "    <tr style=\"text-align: right;\">\n",
       "      <th></th>\n",
       "      <th>price_per_livingsqft</th>\n",
       "      <th>pop_density</th>\n",
       "    </tr>\n",
       "    <tr>\n",
       "      <th>zipcode</th>\n",
       "      <th></th>\n",
       "      <th></th>\n",
       "    </tr>\n",
       "  </thead>\n",
       "  <tbody>\n",
       "    <tr>\n",
       "      <th>98001</th>\n",
       "      <td>151.362546</td>\n",
       "      <td>1717</td>\n",
       "    </tr>\n",
       "    <tr>\n",
       "      <th>98002</th>\n",
       "      <td>151.306283</td>\n",
       "      <td>4423</td>\n",
       "    </tr>\n",
       "    <tr>\n",
       "      <th>98003</th>\n",
       "      <td>157.113414</td>\n",
       "      <td>3800</td>\n",
       "    </tr>\n",
       "    <tr>\n",
       "      <th>98004</th>\n",
       "      <td>445.842495</td>\n",
       "      <td>3977</td>\n",
       "    </tr>\n",
       "    <tr>\n",
       "      <th>98005</th>\n",
       "      <td>309.321585</td>\n",
       "      <td>2361</td>\n",
       "    </tr>\n",
       "    <tr>\n",
       "      <th>...</th>\n",
       "      <td>...</td>\n",
       "      <td>...</td>\n",
       "    </tr>\n",
       "    <tr>\n",
       "      <th>98177</th>\n",
       "      <td>277.857301</td>\n",
       "      <td>3341</td>\n",
       "    </tr>\n",
       "    <tr>\n",
       "      <th>98178</th>\n",
       "      <td>187.375626</td>\n",
       "      <td>4966</td>\n",
       "    </tr>\n",
       "    <tr>\n",
       "      <th>98188</th>\n",
       "      <td>169.007306</td>\n",
       "      <td>3062</td>\n",
       "    </tr>\n",
       "    <tr>\n",
       "      <th>98198</th>\n",
       "      <td>177.631085</td>\n",
       "      <td>4441</td>\n",
       "    </tr>\n",
       "    <tr>\n",
       "      <th>98199</th>\n",
       "      <td>366.300448</td>\n",
       "      <td>4714</td>\n",
       "    </tr>\n",
       "  </tbody>\n",
       "</table>\n",
       "<p>70 rows × 2 columns</p>\n",
       "</div>"
      ],
      "text/plain": [
       "         price_per_livingsqft  pop_density\n",
       "zipcode                                   \n",
       "98001              151.362546         1717\n",
       "98002              151.306283         4423\n",
       "98003              157.113414         3800\n",
       "98004              445.842495         3977\n",
       "98005              309.321585         2361\n",
       "...                       ...          ...\n",
       "98177              277.857301         3341\n",
       "98178              187.375626         4966\n",
       "98188              169.007306         3062\n",
       "98198              177.631085         4441\n",
       "98199              366.300448         4714\n",
       "\n",
       "[70 rows x 2 columns]"
      ]
     },
     "execution_count": 53,
     "metadata": {},
     "output_type": "execute_result"
    }
   ],
   "source": [
    "pop_density_price_zip"
   ]
  },
  {
   "cell_type": "code",
   "execution_count": 54,
   "metadata": {},
   "outputs": [
    {
     "data": {
      "text/plain": [
       "price_per_livingsqft    0\n",
       "pop_density             0\n",
       "dtype: int64"
      ]
     },
     "execution_count": 54,
     "metadata": {},
     "output_type": "execute_result"
    }
   ],
   "source": [
    "# Make sure we don't have any nulls and that our concat worked nicely\n",
    "pop_density_price_zip.isna().sum()"
   ]
  },
  {
   "cell_type": "code",
   "execution_count": 55,
   "metadata": {},
   "outputs": [],
   "source": [
    "# Reset the index on this DF\n",
    "pop_density_price_zip = pop_density_price_zip.reset_index()"
   ]
  },
  {
   "cell_type": "code",
   "execution_count": 56,
   "metadata": {},
   "outputs": [
    {
     "data": {
      "image/png": "[encoded data removed]",
      "text/plain": [
       "<Figure size 720x576 with 1 Axes>"
      ]
     },
     "metadata": {},
     "output_type": "display_data"
    },
    {
     "name": "stdout",
     "output_type": "stream",
     "text": [
      "Correlation Coefficient: [0.51444205 1.        ]\n"
     ]
    }
   ],
   "source": [
    "# Plot the data\n",
    "fig = plt.figure(figsize=(10,8))\n",
    "sns.scatterplot(data=pop_density_price_zip,\n",
    "                 x='pop_density',\n",
    "                 y='price_per_livingsqft',\n",
    "                palette=palette)\n",
    "plt.title('Population Density vs Price per Living SqFt')\n",
    "plt.show()\n",
    "# Notice the somewhat positive correlation between the price per living sq ft and the population density\n",
    "print('Correlation Coefficient:', np.corrcoef(pop_density_price_zip['pop_density'], pop_density_price_zip['price_per_livingsqft'])[1])"
   ]
  },
  {
   "cell_type": "code",
   "execution_count": 57,
   "metadata": {},
   "outputs": [
    {
     "data": {
      "image/png": "[encoded data removed]",
      "text/plain": [
       "<Figure size 720x576 with 1 Axes>"
      ]
     },
     "metadata": {},
     "output_type": "display_data"
    }
   ],
   "source": [
    "# Plot this so we can see the different zipcodes\n",
    "fig = plt.figure(figsize=(10,8))\n",
    "sns.scatterplot(data=pop_density_price_zip,\n",
    "                 x='zipcode',\n",
    "                 y='price_per_livingsqft',\n",
    "                 hue='pop_density',\n",
    "                palette=palette)\n",
    "plt.title('Population Density vs Price per Living SqFt')\n",
    "plt.show()"
   ]
  },
  {
   "cell_type": "code",
   "execution_count": 58,
   "metadata": {},
   "outputs": [
    {
     "data": {
      "text/html": [
       "<div>\n",
       "<style scoped>\n",
       "    .dataframe tbody tr th:only-of-type {\n",
       "        vertical-align: middle;\n",
       "    }\n",
       "\n",
       "    .dataframe tbody tr th {\n",
       "        vertical-align: top;\n",
       "    }\n",
       "\n",
       "    .dataframe thead th {\n",
       "        text-align: right;\n",
       "    }\n",
       "</style>\n",
       "<table border=\"1\" class=\"dataframe\">\n",
       "  <thead>\n",
       "    <tr style=\"text-align: right;\">\n",
       "      <th></th>\n",
       "      <th>zipcode</th>\n",
       "      <th>price_per_livingsqft</th>\n",
       "      <th>pop_density</th>\n",
       "    </tr>\n",
       "  </thead>\n",
       "  <tbody>\n",
       "    <tr>\n",
       "      <th>41</th>\n",
       "      <td>98102</td>\n",
       "      <td>413.479667</td>\n",
       "      <td>15829</td>\n",
       "    </tr>\n",
       "    <tr>\n",
       "      <th>42</th>\n",
       "      <td>98103</td>\n",
       "      <td>368.870253</td>\n",
       "      <td>9905</td>\n",
       "    </tr>\n",
       "    <tr>\n",
       "      <th>43</th>\n",
       "      <td>98105</td>\n",
       "      <td>388.128961</td>\n",
       "      <td>10643</td>\n",
       "    </tr>\n",
       "    <tr>\n",
       "      <th>44</th>\n",
       "      <td>98106</td>\n",
       "      <td>231.538367</td>\n",
       "      <td>4161</td>\n",
       "    </tr>\n",
       "    <tr>\n",
       "      <th>45</th>\n",
       "      <td>98107</td>\n",
       "      <td>380.959081</td>\n",
       "      <td>9602</td>\n",
       "    </tr>\n",
       "    <tr>\n",
       "      <th>46</th>\n",
       "      <td>98108</td>\n",
       "      <td>225.032792</td>\n",
       "      <td>2989</td>\n",
       "    </tr>\n",
       "    <tr>\n",
       "      <th>47</th>\n",
       "      <td>98109</td>\n",
       "      <td>421.839114</td>\n",
       "      <td>10361</td>\n",
       "    </tr>\n",
       "    <tr>\n",
       "      <th>48</th>\n",
       "      <td>98112</td>\n",
       "      <td>400.215632</td>\n",
       "      <td>6667</td>\n",
       "    </tr>\n",
       "    <tr>\n",
       "      <th>49</th>\n",
       "      <td>98115</td>\n",
       "      <td>350.672699</td>\n",
       "      <td>7018</td>\n",
       "    </tr>\n",
       "    <tr>\n",
       "      <th>50</th>\n",
       "      <td>98116</td>\n",
       "      <td>345.590645</td>\n",
       "      <td>7523</td>\n",
       "    </tr>\n",
       "    <tr>\n",
       "      <th>51</th>\n",
       "      <td>98117</td>\n",
       "      <td>363.381279</td>\n",
       "      <td>7953</td>\n",
       "    </tr>\n",
       "    <tr>\n",
       "      <th>52</th>\n",
       "      <td>98118</td>\n",
       "      <td>260.241308</td>\n",
       "      <td>6841</td>\n",
       "    </tr>\n",
       "    <tr>\n",
       "      <th>53</th>\n",
       "      <td>98119</td>\n",
       "      <td>412.241082</td>\n",
       "      <td>8638</td>\n",
       "    </tr>\n",
       "    <tr>\n",
       "      <th>54</th>\n",
       "      <td>98122</td>\n",
       "      <td>359.635737</td>\n",
       "      <td>13594</td>\n",
       "    </tr>\n",
       "  </tbody>\n",
       "</table>\n",
       "</div>"
      ],
      "text/plain": [
       "    zipcode  price_per_livingsqft  pop_density\n",
       "41    98102            413.479667        15829\n",
       "42    98103            368.870253         9905\n",
       "43    98105            388.128961        10643\n",
       "44    98106            231.538367         4161\n",
       "45    98107            380.959081         9602\n",
       "46    98108            225.032792         2989\n",
       "47    98109            421.839114        10361\n",
       "48    98112            400.215632         6667\n",
       "49    98115            350.672699         7018\n",
       "50    98116            345.590645         7523\n",
       "51    98117            363.381279         7953\n",
       "52    98118            260.241308         6841\n",
       "53    98119            412.241082         8638\n",
       "54    98122            359.635737        13594"
      ]
     },
     "execution_count": 58,
     "metadata": {},
     "output_type": "execute_result"
    }
   ],
   "source": [
    "# Let's take a closer look at that interesting cluster of densely populated zipcodes \n",
    "most_pop_zips = pop_density_price_zip.loc[(pop_density_price_zip['zipcode'] > 98100) &\n",
    "                                         (pop_density_price_zip['zipcode'] < 98125)]\n",
    "most_pop_zips"
   ]
  },
  {
   "cell_type": "markdown",
   "metadata": {},
   "source": [
    "## Question 3 Conclusion:\n",
    "\n",
    "In conclusion, there is a relationship between population density and price per living sqft. There is a positive correlation of about 0.5, meaning it is not a very strong correlation, but it is still a positive one. As the population density increases, so does the price per sq ft. \n",
    "\n",
    "When looking at the different zipcodes, we can easily see a cluster of zipcodes where there is a high population density, and also high prices per sq ft. These zipcodes are chronologically from 98102 to 98122, so we can expect that these zipcodes represent Seattle proper, and not the suburbs(98122 is actually the official city center zipcode). Of these zipcodes, 98109, 98102 and 98119 are the most expensive per sq ft, but also some of the most densely populated. The only exception is 98039, in which homes are the most expensive per sq ft, but not as densely populated as the city-center zipcodes.\n",
    "\n",
    "Therefore, it is generally more expensive to live in the city-center, where the population is more dense. "
   ]
  },
  {
   "cell_type": "markdown",
   "metadata": {},
   "source": [
    "## Future Work:\n",
    "\n",
    "* Dig deeper into the qualities of the homes in these areas, such as home condition and grade to see what other characteristics besides the home's location and sq footage affect the price. \n",
    "* Look at some of the characteristics of the most expensive zipcodes that are not densely populated (ex. 98039) to see what makes them so expensive. \n",
    "* Look at renovated homes vs non renovated homes built in the same year to see how much value a renovation adds."
   ]
  },
  {
   "cell_type": "code",
   "execution_count": null,
   "metadata": {},
   "outputs": [],
   "source": []
  }
 ],
 "metadata": {
  "kernelspec": {
   "display_name": "learn-env",
   "language": "python",
   "name": "learn-env"
  },
  "language_info": {
   "codemirror_mode": {
    "name": "ipython",
    "version": 3
   },
   "file_extension": ".py",
   "mimetype": "text/x-python",
   "name": "python",
   "nbconvert_exporter": "python",
   "pygments_lexer": "ipython3",
   "version": "3.6.9"
  }
 },
 "nbformat": 4,
 "nbformat_minor": 4
}
